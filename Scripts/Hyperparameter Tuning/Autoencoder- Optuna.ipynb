{
 "cells": [
  {
   "cell_type": "code",
   "execution_count": 37,
   "id": "f2b4cbf9",
   "metadata": {},
   "outputs": [],
   "source": [
    "import os\n",
    "\n",
    "import numpy as np\n",
    "import pandas as pd\n",
    "from scipy.stats import median_absolute_deviation\n",
    "from sklearn.metrics import roc_auc_score\n",
    "from sklearn.preprocessing import MinMaxScaler\n",
    "from sklearn.model_selection import StratifiedKFold\n",
    "from sklearn.model_selection import train_test_split\n",
    "import tensorflow as tf\n",
    "from tensorflow.keras import layers, losses\n",
    "from keras.layers import Dropout\n",
    "from tensorflow.keras.models import Model\n",
    "from tensorflow import keras\n",
    "from sklearn import preprocessing\n",
    "random_state = 1234"
   ]
  },
  {
   "cell_type": "code",
   "execution_count": 2,
   "id": "def79dcb",
   "metadata": {},
   "outputs": [],
   "source": [
    "from sklearn.preprocessing import StandardScaler\n",
    "import random"
   ]
  },
  {
   "cell_type": "code",
   "execution_count": 3,
   "id": "196c46d5",
   "metadata": {},
   "outputs": [],
   "source": [
    "from sklearn.metrics import roc_curve, auc\n",
    "from matplotlib import pyplot as plt"
   ]
  },
  {
   "cell_type": "code",
   "execution_count": 4,
   "id": "2e3df098",
   "metadata": {},
   "outputs": [],
   "source": [
    "import optuna"
   ]
  },
  {
   "cell_type": "code",
   "execution_count": 5,
   "id": "4c73992d",
   "metadata": {},
   "outputs": [],
   "source": [
    "data_dir = r\"D:\\NIH\\Mutational-Spectrum-master\\Data\\New\\Unlabeled\""
   ]
  },
  {
   "cell_type": "code",
   "execution_count": 6,
   "id": "93e35b50",
   "metadata": {},
   "outputs": [],
   "source": [
    "def list_files_in_dir(dirname):\n",
    "    dir_files = list()\n",
    "    for root, _, files in os.walk(dirname):\n",
    "        for file in files:\n",
    "            dir_files.append(os.path.join(root, file))\n",
    "    \n",
    "    return dir_files"
   ]
  },
  {
   "cell_type": "markdown",
   "id": "eac847e6",
   "metadata": {},
   "source": [
    "# Add dropout layer right after the input layer to autoencoder"
   ]
  },
  {
   "cell_type": "code",
   "execution_count": 7,
   "id": "77ed9fcd",
   "metadata": {},
   "outputs": [],
   "source": [
    "class Autoencoder(Model):\n",
    "    def __init__(self, input_shape, latent_dim, num_nodes, num_layers):\n",
    "        super(Autoencoder, self).__init__()\n",
    "        if num_layers > num_nodes:\n",
    "          num_layers = num_nodes\n",
    "        self.latent_dim = latent_dim   \n",
    "        self.encoder = self.createEncoder(num_nodes, num_layers)\n",
    "        self.decoder = self.createDecoder(num_nodes, num_layers)\n",
    "\n",
    "    def createEncoder(self, num_nodes, num_layers):\n",
    "        model = tf.keras.Sequential()\n",
    "        model.add(tf.keras.layers.Dense(num_nodes, activation = 'relu', input_shape=(96,)))\n",
    "        # Dropout Layer\n",
    "        units = [int(num_nodes/(2**i)) for i in range(1, num_layers)]\n",
    "        for unit in range(len(units)):\n",
    "            model.add(tf.keras.layers.Dense(units[unit], activation = 'relu'))\n",
    "        model.add(tf.keras.layers.Dense(self.latent_dim, activation = 'relu'))    \n",
    "        return model\n",
    "    \n",
    "    def createDecoder(self, num_nodes, num_layers):\n",
    "        model = tf.keras.Sequential()\n",
    "        model.add(tf.keras.layers.Dense(num_nodes/(2**(num_layers-1)), activation = 'relu', input_shape=(self.latent_dim,)))\n",
    "        \n",
    "        units = [int(num_nodes/(2**i)) for i in range(0, num_layers-1)]\n",
    "        for unit in reversed(range(len(units))):\n",
    "            model.add(tf.keras.layers.Dense(units[unit], activation = 'relu'))   \n",
    "        model.add(tf.keras.layers.Dense(96, activation = 'relu'))\n",
    "        return model\n",
    "\n",
    "    def call(self, x):\n",
    "        encoded = self.encoder(x)\n",
    "        decoded = self.decoder(encoded)\n",
    "        return decoded\n",
    "\n"
   ]
  },
  {
   "cell_type": "code",
   "execution_count": 8,
   "id": "4868ece8",
   "metadata": {},
   "outputs": [],
   "source": [
    "def build_mlp_model(input_shape, latent_dim, num_nodes, num_layers, learning_rate):\n",
    "    \n",
    "    autoencoder = Autoencoder(input_shape, latent_dim, num_nodes, num_layers)  \n",
    "    opt = keras.optimizers.Adam(learning_rate=learning_rate)\n",
    "    autoencoder.compile(optimizer=opt, loss=\"mse\")\n",
    "   \n",
    "    return autoencoder"
   ]
  },
  {
   "cell_type": "code",
   "execution_count": 9,
   "id": "f4d22a3f",
   "metadata": {
    "code_folding": []
   },
   "outputs": [],
   "source": [
    "def get_row_indices_with_sum_zero(X):\n",
    "    return X.index[(X.sum(axis=1) == 0)].tolist()"
   ]
  },
  {
   "cell_type": "code",
   "execution_count": 40,
   "id": "4b835051",
   "metadata": {},
   "outputs": [],
   "source": [
    "# Z-score normalization\n",
    "def scale_row(X):\n",
    "    for column in X.columns:\n",
    "        X[column] = (X[column] -\n",
    "                               X[column].mean()) / X[column].std() \n",
    "    return X"
   ]
  },
  {
   "cell_type": "code",
   "execution_count": 35,
   "id": "a80587c5",
   "metadata": {
    "code_folding": []
   },
   "outputs": [],
   "source": [
    "def dataset_generator(data_dir, num_files):\n",
    "\n",
    "    # Would take eons to run if I didn't limit this to only the first file  \n",
    "    for datafile in random.sample(list_files_in_dir(data_dir), num_files):\n",
    "        data = pd.read_csv(datafile)\n",
    "        X = data.iloc[:, :96]\n",
    "        y = (data['is_sig3']).astype(np.int_)\n",
    "#         X.columns = X.columns.str.replace('[', '').str.replace(']', '').str.replace('>', '')\n",
    "        X = scale_row(X)\n",
    "    yield X, y"
   ]
  },
  {
   "cell_type": "code",
   "execution_count": 12,
   "id": "3b05e467",
   "metadata": {
    "code_folding": []
   },
   "outputs": [],
   "source": [
    "def scale_data(df):\n",
    "    # Define the scaler \n",
    "    scaler = StandardScaler().fit(df)\n",
    "    # Scales each individual row   \n",
    "    df[df.columns] = scaler.fit_transform(df[df.columns])\n",
    "    \n",
    "    directory = 'C:/Users/AaronGe/Documents/NCI/Mutational Signature Classification/Mutational-Spectrum/mean_var/'\n",
    "    \n",
    "#     Save mean and variance into a directory\n",
    "#     np.savez(directory + file_name + '.npz', mean=scaler.mean_, var=scaler.var_)\n",
    "    return df\n",
    "    "
   ]
  },
  {
   "cell_type": "code",
   "execution_count": 20,
   "id": "893fb89e",
   "metadata": {
    "code_folding": []
   },
   "outputs": [],
   "source": [
    "def train_val_test_generator(data_dir, num_samples, test_frac=0.1):\n",
    "    val_frac = test_frac/(1.0 - test_frac)\n",
    "    \n",
    "    for X, y in dataset_generator(data_dir, num_samples):\n",
    "        fold_data = list()\n",
    "        skf = StratifiedKFold(n_splits=5)\n",
    "        print(X)\n",
    "        for train_val_index, test_index in skf.split(X, y):\n",
    "            X_test, y_test = X.iloc[test_index, :], y.iloc[test_index]\n",
    "            X_train, X_val, y_train, y_val = train_test_split(\n",
    "                X.iloc[train_val_index,:], y.iloc[train_val_index], \n",
    "                test_size=val_frac, \n",
    "                random_state=random_state, \n",
    "                stratify=y.iloc[train_val_index]\n",
    "            )\n",
    "            #X_train, X_val, X_test = scale_columns(X_train, X_val, X_test)\n",
    "            fold_data.append(((X_train, y_train), \n",
    "                              (X_val, y_val), \n",
    "                              (X_test, y_test)))\n",
    "        yield fold_data"
   ]
  },
  {
   "cell_type": "code",
   "execution_count": 14,
   "id": "7300da92",
   "metadata": {
    "code_folding": []
   },
   "outputs": [],
   "source": [
    "def compute_mlp_performance(trial, data_dir=data_dir, n_folds=10, input_shape=(96,), latent_dim=3,\n",
    "                            num_nodes=5, num_layers=3, \n",
    "                            learning_rate=0.001, num_samples = 1):\n",
    "    aucs = list()\n",
    "    models = list()\n",
    "    \n",
    "    # 60-20-20 split\n",
    "    test_frac=1.0/float(n_folds)\n",
    "#     fpr_list = []\n",
    "#     tpr_list = []\n",
    "#     roc_auc_list = []\n",
    "    \n",
    "    for folds_data in train_val_test_generator(data_dir, num_samples=num_samples, test_frac=test_frac):\n",
    "        fold_aucs = list()\n",
    "        fold_models = list()\n",
    "        \n",
    "        for fold_data in folds_data:\n",
    "            # get data\n",
    "            (X_train, y_train), (X_val, y_val), (X_test, y_test) = fold_data\n",
    "            # build model and ensure that parameters passed in are within the normal range\n",
    "            # if we don't type cast as integers, bayesian optimizer will guess float values\n",
    "            model = build_mlp_model(input_shape, \n",
    "                                    trial.suggest_int('latent_dim', 1, 40), \n",
    "                                    2**int(trial.suggest_int('num_nodes', 1, 8)), \n",
    "                                    trial.suggest_int('num_layers', 1, 5), \n",
    "                                    trial.suggest_float('learning_rate', 1e-6, 1e-1)\n",
    "                                    )\n",
    "            history = model.fit(X_train, X_train, \n",
    "                      validation_data=(X_val, X_val), \n",
    "                      epochs=1000, batch_size=32, verbose=0,\n",
    "                      callbacks=[keras.callbacks.EarlyStopping(monitor='loss', patience=5)])\n",
    "            \n",
    "            # evaluate\n",
    "            y_score = model.evaluate(X_test, X_test, verbose=0)\n",
    "            fold_aucs.append(y_score)\n",
    "            fold_models.append(model)\n",
    "        aucs.append(fold_aucs)\n",
    "        models.append(fold_models)\n",
    "        \n",
    "    # Gets median index value for all the different samples (rows)  \n",
    "    medianIndices = [indices[len(aucs[0])//2] for indices in np.argsort(aucs, axis=1)]\n",
    "    medianValues = [values[index] for values, index in zip(aucs, medianIndices)]\n",
    "    \n",
    "    # Gets the file which contains the median of median value\n",
    "    fileInd = np.argsort(medianValues)[len(medianValues)//2]\n",
    "    \n",
    "    aucs = np.array(aucs)\n",
    "    \n",
    "    median_of_median_model = models[fileInd][medianIndices[fileInd]]\n",
    "    median_of_median_auc = np.median(np.median(aucs, axis=1))\n",
    "    mad_of_mad_auc = median_absolute_deviation(median_absolute_deviation(aucs, axis=1))\n",
    "#     return median_of_median_model, median_of_median_auc\n",
    "    return median_of_median_auc\n",
    "\n"
   ]
  },
  {
   "cell_type": "code",
   "execution_count": 17,
   "id": "234aaec4",
   "metadata": {},
   "outputs": [],
   "source": [
    "def compute_mlp_performance(trial, data_dir=data_dir, n_folds=10, input_shape=(96,), latent_dim=3,\n",
    "                            num_nodes=5, num_layers=3, \n",
    "                            learning_rate=0.001, num_samples = 1):\n",
    "    aucs = list()\n",
    "    models = list()\n",
    "  \n",
    "    for x,y in dataset_generator(data_dir, 1):\n",
    "        # build model and ensure that parameters passed in are within the normal range\n",
    "        # if we don't type cast as integers, bayesian optimizer will guess float values\n",
    "        model = build_mlp_model(input_shape, \n",
    "                        trial.suggest_int('latent_dim', 1, 40), \n",
    "                        2**int(trial.suggest_int('num_nodes', 1, 10)), \n",
    "                        trial.suggest_int('num_layers', 1, 7), \n",
    "                        trial.suggest_float('learning_rate', 1e-8, 3e-1))\n",
    "        history = model.fit(x, x, \n",
    "                  epochs=1000, batch_size=32, verbose=0,\n",
    "                  callbacks=[keras.callbacks.EarlyStopping(monitor='loss', patience=20)])\n",
    "\n",
    "#         return history\n",
    "        # evaluate\n",
    "        y_score = model.evaluate(x, x, verbose=0)\n",
    "        aucs.append(y_score)\n",
    "        models.append(model)\n",
    "            \n",
    "#     return aucs[0], models[0]\n",
    "    return aucs[0]\n",
    "\n",
    "\n"
   ]
  },
  {
   "cell_type": "markdown",
   "id": "5048b4ff",
   "metadata": {},
   "source": [
    "Final result: {'target': -0.011544853448867798, 'params': {'latent_dim': 15.819540354257267, 'learning_rate': 0.0002798666792298152, 'num_layers': 1.5529285102861934, 'num_nodes': 5.009360887675096}}"
   ]
  },
  {
   "cell_type": "markdown",
   "id": "76127b18",
   "metadata": {},
   "source": [
    "# Average MSE if I predicted a 0 Vector each time is 0.0705. After optimization, the MSE achieved by the autoencoder is 0.0115\n"
   ]
  },
  {
   "cell_type": "code",
   "execution_count": null,
   "id": "4f0aecab",
   "metadata": {},
   "outputs": [],
   "source": [
    "y_pred = x_test[0]\n",
    "y_pred[y_pred!=0] = 0\n",
    "\n",
    "MSEs = []\n",
    "for patient in x_test: \n",
    "    MSE = np.square(np.subtract(patient,y_pred)).mean()\n",
    "    MSEs.append(MSE)\n",
    "np.average(MSEs)"
   ]
  },
  {
   "cell_type": "code",
   "execution_count": 62,
   "id": "6d4c9690",
   "metadata": {
    "scrolled": false
   },
   "outputs": [
    {
     "name": "stdout",
     "output_type": "stream",
     "text": [
      "Model: \"sequential_20\"\n",
      "_________________________________________________________________\n",
      " Layer (type)                Output Shape              Param #   \n",
      "=================================================================\n",
      " dense_40 (Dense)            (None, 32)                3104      \n",
      "                                                                 \n",
      " dense_41 (Dense)            (None, 15)                495       \n",
      "                                                                 \n",
      "=================================================================\n",
      "Total params: 3,599\n",
      "Trainable params: 3,599\n",
      "Non-trainable params: 0\n",
      "_________________________________________________________________\n"
     ]
    }
   ],
   "source": [
    "model.encoder.summary()"
   ]
  },
  {
   "cell_type": "code",
   "execution_count": 63,
   "id": "76b677e2",
   "metadata": {
    "scrolled": true
   },
   "outputs": [
    {
     "name": "stdout",
     "output_type": "stream",
     "text": [
      "Model: \"sequential_21\"\n",
      "_________________________________________________________________\n",
      " Layer (type)                Output Shape              Param #   \n",
      "=================================================================\n",
      " dense_42 (Dense)            (None, 32)                512       \n",
      "                                                                 \n",
      " dense_43 (Dense)            (None, 96)                3168      \n",
      "                                                                 \n",
      "=================================================================\n",
      "Total params: 3,680\n",
      "Trainable params: 3,680\n",
      "Non-trainable params: 0\n",
      "_________________________________________________________________\n"
     ]
    }
   ],
   "source": [
    "model.decoder.summary()"
   ]
  },
  {
   "cell_type": "code",
   "execution_count": 21,
   "id": "02d14a20",
   "metadata": {},
   "outputs": [
    {
     "name": "stdout",
     "output_type": "stream",
     "text": [
      "WARNING:tensorflow:Compiled the loaded model, but the compiled metrics have yet to be built. `model.compile_metrics` will be empty until you train or evaluate the model.\n"
     ]
    }
   ],
   "source": [
    "model.decoder.save('MSKIMPACT_decoder.h5')"
   ]
  },
  {
   "cell_type": "code",
   "execution_count": 22,
   "id": "771037fa",
   "metadata": {
    "scrolled": true
   },
   "outputs": [
    {
     "name": "stdout",
     "output_type": "stream",
     "text": [
      "WARNING:tensorflow:Compiled the loaded model, but the compiled metrics have yet to be built. `model.compile_metrics` will be empty until you train or evaluate the model.\n"
     ]
    }
   ],
   "source": [
    "model.encoder.save('MSKIMPACT_encoder.h5')"
   ]
  },
  {
   "cell_type": "code",
   "execution_count": 30,
   "id": "862bea84",
   "metadata": {
    "scrolled": true
   },
   "outputs": [
    {
     "name": "stdout",
     "output_type": "stream",
     "text": [
      "      A[C>A]A   A[C>A]C   A[C>A]G   A[C>A]T   A[C>G]A   A[C>G]C   A[C>G]G  \\\n",
      "0   -0.169548 -0.234404 -0.113559 -0.118678 -0.123597 -0.153937 -0.118678   \n",
      "1   -0.169548 -0.234404 -0.113559 -0.118678 -0.123597 -0.153937 -0.118678   \n",
      "2   -0.169548 -0.234404 -0.113559 -0.118678 -0.123597 -0.153937 -0.118678   \n",
      "3   -0.169548 -0.234404 -0.113559 -0.118678 -0.123597 -0.153937 -0.118678   \n",
      "4   -0.169548 -0.234404 -0.113559 -0.118678 -0.123597 -0.153937 -0.118678   \n",
      "..        ...       ...       ...       ...       ...       ...       ...   \n",
      "859 -0.169548 -0.234404 -0.113559 -0.118678 -0.123597 -0.153937 -0.118678   \n",
      "860 -0.169548 -0.234404 -0.113559 -0.118678 -0.123597 -0.153937 -0.118678   \n",
      "861 -0.169548 -0.234404 -0.113559 -0.118678 -0.123597 -0.153937 -0.118678   \n",
      "862 -0.169548 -0.234404 -0.113559 -0.118678 -0.123597 -0.153937 -0.118678   \n",
      "863 -0.169548 -0.234404 -0.113559 -0.118678 -0.123597 -0.153937 -0.118678   \n",
      "\n",
      "      A[C>G]T   A[C>T]A   A[C>T]C  ...   T[T>A]G   T[T>A]T   T[T>C]A  \\\n",
      "0   -0.130373 -0.200499 -0.220589  ... -0.113559 -0.059028 -0.090377   \n",
      "1   -0.130373 -0.200499 -0.220589  ... -0.113559 -0.059028 -0.090377   \n",
      "2   -0.130373 -0.200499 -0.220589  ...  8.805990 -0.059028 -0.090377   \n",
      "3   -0.130373 -0.200499 -0.220589  ... -0.113559 -0.059028 -0.090377   \n",
      "4   -0.130373 -0.200499 -0.220589  ... -0.113559 -0.059028 -0.090377   \n",
      "..        ...       ...       ...  ...       ...       ...       ...   \n",
      "859 -0.130373 -0.200499 -0.220589  ... -0.113559 -0.059028 -0.090377   \n",
      "860 -0.130373 -0.200499 -0.220589  ... -0.113559 -0.059028 -0.090377   \n",
      "861 -0.130373 -0.200499 -0.220589  ... -0.113559 -0.059028 -0.090377   \n",
      "862 -0.130373 -0.200499  4.317236  ... -0.113559 -0.059028 -0.090377   \n",
      "863 -0.130373 -0.200499 -0.220589  ... -0.113559 -0.059028 -0.090377   \n",
      "\n",
      "      T[T>C]C   T[T>C]G   T[T>C]T   T[T>G]A   T[T>G]C   T[T>G]G   T[T>G]T  \n",
      "0   -0.157832 -0.146616 -0.108211 -0.076294 -0.076294 -0.083624 -0.102598  \n",
      "1   -0.157832 -0.146616 -0.108211 -0.076294 -0.076294 -0.083624 -0.102598  \n",
      "2   -0.157832 -0.146616 -0.108211 -0.076294 -0.076294 -0.083624 -0.102598  \n",
      "3   -0.157832 -0.146616 -0.108211 -0.076294 -0.076294 -0.083624 -0.102598  \n",
      "4   -0.157832 -0.146616 -0.108211 -0.076294 -0.076294 -0.083624 -0.102598  \n",
      "..        ...       ...       ...       ...       ...       ...       ...  \n",
      "859 -0.157832 -0.146616 -0.108211 -0.076294 -0.076294 -0.083624 -0.102598  \n",
      "860 -0.157832 -0.146616 -0.108211 -0.076294 -0.076294 -0.083624 -0.102598  \n",
      "861 -0.157832 -0.146616 -0.108211 -0.076294 -0.076294 -0.083624 -0.102598  \n",
      "862 -0.157832 -0.146616 -0.108211 -0.076294 -0.076294 -0.083624 -0.102598  \n",
      "863 -0.157832 -0.146616 -0.108211 -0.076294 -0.076294 -0.083624 -0.102598  \n",
      "\n",
      "[864 rows x 96 columns]\n"
     ]
    }
   ],
   "source": [
    "data_dir = r\"D:\\NIH\\Mutational-Spectrum-master\\Data\\New\\Unlabeled\"\n",
    "for x,y in dataset_generator(data_dir, 1):\n",
    "  x_test = np.array(x)\n",
    "\n"
   ]
  },
  {
   "cell_type": "code",
   "execution_count": 27,
   "id": "a31eeec7",
   "metadata": {},
   "outputs": [
    {
     "data": {
      "text/plain": [
       "4.166666666666667"
      ]
     },
     "execution_count": 27,
     "metadata": {},
     "output_type": "execute_result"
    }
   ],
   "source": [
    "# Average number of mutations per patient in the unlabeled dataset\n",
    "np.average(x_test.sum(axis=1))"
   ]
  },
  {
   "cell_type": "code",
   "execution_count": 28,
   "id": "d138fbd5",
   "metadata": {
    "scrolled": true
   },
   "outputs": [
    {
     "name": "stdout",
     "output_type": "stream",
     "text": [
      "27/27 [==============================] - 0s 959us/step - loss: 0.0127\n"
     ]
    },
    {
     "data": {
      "text/plain": [
       "0.012738610617816448"
      ]
     },
     "execution_count": 28,
     "metadata": {},
     "output_type": "execute_result"
    }
   ],
   "source": [
    "model.evaluate(x_test,x_test)"
   ]
  },
  {
   "cell_type": "code",
   "execution_count": 29,
   "id": "f37f9b89",
   "metadata": {
    "scrolled": false
   },
   "outputs": [
    {
     "data": {
      "image/png": "[encoded data removed]",
      "text/plain": [
       "<Figure size 1440x288 with 20 Axes>"
      ]
     },
     "metadata": {
      "needs_background": "light"
     },
     "output_type": "display_data"
    }
   ],
   "source": [
    "# Now testing it on nature dataset\n",
    "nature_dataset=r\"D:\\NIH\\Mutational-Spectrum-master\\Data\\New\\MSK_Impact_train\"\n",
    "for x,y in dataset_generator(nature_dataset, 1):\n",
    "  x_test = np.array(x)\n",
    "\n",
    "encoded_imgs = model.encoder(x_test).numpy()\n",
    "decoded_imgs = model.decoder(encoded_imgs).numpy()\n",
    "\n",
    "n = 10\n",
    "plt.figure(figsize=(20, 4))\n",
    "for i in range(n):\n",
    "  # display original\n",
    "  ax = plt.subplot(2, n, i + 1)\n",
    "  plt.plot(x_test[i])\n",
    "  plt.title(\"original\")\n",
    "  plt.gray()\n",
    "  ax.get_xaxis().set_visible(False)\n",
    "  ax.get_yaxis().set_visible(False)\n",
    "\n",
    "  # display reconstruction\n",
    "  ax = plt.subplot(2, n, i + 1 + n)\n",
    "  plt.plot(decoded_imgs[i])\n",
    "  plt.title(\"reconstructed\")\n",
    "  plt.gray()\n",
    "  ax.get_xaxis().set_visible(False)\n",
    "  ax.get_yaxis().set_visible(False)\n",
    "plt.show()"
   ]
  },
  {
   "cell_type": "code",
   "execution_count": 30,
   "id": "cf427f19",
   "metadata": {},
   "outputs": [
    {
     "data": {
      "text/plain": [
       "3.247191011235955"
      ]
     },
     "execution_count": 30,
     "metadata": {},
     "output_type": "execute_result"
    }
   ],
   "source": [
    "# Average number of mutations per patient in the labeled dataset\n",
    "np.average(x_test.sum(axis=1))"
   ]
  },
  {
   "cell_type": "code",
   "execution_count": 31,
   "id": "a415c8cb",
   "metadata": {
    "scrolled": true
   },
   "outputs": [
    {
     "name": "stdout",
     "output_type": "stream",
     "text": [
      "20/20 [==============================] - 0s 1ms/step - loss: 0.0159\n"
     ]
    },
    {
     "data": {
      "text/plain": [
       "0.01589665561914444"
      ]
     },
     "execution_count": 31,
     "metadata": {},
     "output_type": "execute_result"
    }
   ],
   "source": [
    "model.evaluate(x_test,x_test)"
   ]
  },
  {
   "cell_type": "markdown",
   "id": "88c1c253",
   "metadata": {},
   "source": [
    "# Optuna Optimization"
   ]
  },
  {
   "cell_type": "code",
   "execution_count": 41,
   "id": "0ac032a7",
   "metadata": {
    "scrolled": true
   },
   "outputs": [
    {
     "name": "stderr",
     "output_type": "stream",
     "text": [
      "\u001b[32m[I 2022-06-21 12:38:30,334]\u001b[0m A new study created in memory with name: no-name-a7ac5c8e-82eb-4844-bc69-df38df5e3b6a\u001b[0m\n",
      "\u001b[32m[I 2022-06-21 12:38:53,972]\u001b[0m Trial 0 finished with value: 0.9695504307746887 and parameters: {'latent_dim': 20, 'num_nodes': 1, 'num_layers': 5, 'learning_rate': 0.0013160407389554926}. Best is trial 0 with value: 0.9695504307746887.\u001b[0m\n",
      "\u001b[32m[I 2022-06-21 12:38:55,858]\u001b[0m Trial 1 finished with value: 0.9988425970077515 and parameters: {'latent_dim': 38, 'num_nodes': 9, 'num_layers': 4, 'learning_rate': 0.040556999707947926}. Best is trial 0 with value: 0.9695504307746887.\u001b[0m\n",
      "\u001b[32m[I 2022-06-21 12:38:57,579]\u001b[0m Trial 2 finished with value: 0.9988425970077515 and parameters: {'latent_dim': 10, 'num_nodes': 1, 'num_layers': 5, 'learning_rate': 0.2860991275099694}. Best is trial 0 with value: 0.9695504307746887.\u001b[0m\n",
      "\u001b[32m[I 2022-06-21 12:38:59,478]\u001b[0m Trial 3 finished with value: 0.989723265171051 and parameters: {'latent_dim': 37, 'num_nodes': 7, 'num_layers': 2, 'learning_rate': 0.02034902007109017}. Best is trial 0 with value: 0.9695504307746887.\u001b[0m\n",
      "\u001b[32m[I 2022-06-21 12:39:01,636]\u001b[0m Trial 4 finished with value: 0.9988425970077515 and parameters: {'latent_dim': 9, 'num_nodes': 3, 'num_layers': 4, 'learning_rate': 0.16985493873777976}. Best is trial 0 with value: 0.9695504307746887.\u001b[0m\n",
      "\u001b[32m[I 2022-06-21 12:39:03,236]\u001b[0m Trial 5 finished with value: 0.9988425970077515 and parameters: {'latent_dim': 19, 'num_nodes': 6, 'num_layers': 2, 'learning_rate': 0.1868121943557136}. Best is trial 0 with value: 0.9695504307746887.\u001b[0m\n",
      "\u001b[32m[I 2022-06-21 12:39:04,867]\u001b[0m Trial 6 finished with value: 0.9988425970077515 and parameters: {'latent_dim': 20, 'num_nodes': 5, 'num_layers': 2, 'learning_rate': 0.17685973383705625}. Best is trial 0 with value: 0.9695504307746887.\u001b[0m\n",
      "\u001b[32m[I 2022-06-21 12:39:08,254]\u001b[0m Trial 7 finished with value: 0.9988425970077515 and parameters: {'latent_dim': 22, 'num_nodes': 10, 'num_layers': 7, 'learning_rate': 0.04269221337699522}. Best is trial 0 with value: 0.9695504307746887.\u001b[0m\n",
      "\u001b[32m[I 2022-06-21 12:39:09,727]\u001b[0m Trial 8 finished with value: 0.9988425970077515 and parameters: {'latent_dim': 30, 'num_nodes': 5, 'num_layers': 3, 'learning_rate': 0.1841062975099227}. Best is trial 0 with value: 0.9695504307746887.\u001b[0m\n",
      "\u001b[32m[I 2022-06-21 12:39:12,668]\u001b[0m Trial 9 finished with value: 0.9988425970077515 and parameters: {'latent_dim': 12, 'num_nodes': 6, 'num_layers': 7, 'learning_rate': 0.10410053622716944}. Best is trial 0 with value: 0.9695504307746887.\u001b[0m\n",
      "\u001b[32m[I 2022-06-21 12:39:14,377]\u001b[0m Trial 10 finished with value: 0.9988425970077515 and parameters: {'latent_dim': 1, 'num_nodes': 1, 'num_layers': 6, 'learning_rate': 0.10771471588063031}. Best is trial 0 with value: 0.9695504307746887.\u001b[0m\n",
      "\u001b[32m[I 2022-06-21 12:39:17,612]\u001b[0m Trial 11 finished with value: 0.7032309770584106 and parameters: {'latent_dim': 38, 'num_nodes': 8, 'num_layers': 1, 'learning_rate': 0.003435362519688047}. Best is trial 11 with value: 0.7032309770584106.\u001b[0m\n",
      "\u001b[32m[I 2022-06-21 12:39:19,327]\u001b[0m Trial 12 finished with value: 0.7725233435630798 and parameters: {'latent_dim': 28, 'num_nodes': 8, 'num_layers': 1, 'learning_rate': 0.006384012197392954}. Best is trial 11 with value: 0.7032309770584106.\u001b[0m\n",
      "\u001b[32m[I 2022-06-21 12:39:20,339]\u001b[0m Trial 13 finished with value: 0.9988425970077515 and parameters: {'latent_dim': 31, 'num_nodes': 8, 'num_layers': 1, 'learning_rate': 0.07890700503401142}. Best is trial 11 with value: 0.7032309770584106.\u001b[0m\n",
      "\u001b[32m[I 2022-06-21 12:39:21,564]\u001b[0m Trial 14 finished with value: 0.9988425970077515 and parameters: {'latent_dim': 30, 'num_nodes': 8, 'num_layers': 1, 'learning_rate': 0.2393510966398773}. Best is trial 11 with value: 0.7032309770584106.\u001b[0m\n",
      "\u001b[32m[I 2022-06-21 12:39:22,848]\u001b[0m Trial 15 finished with value: 0.9988425970077515 and parameters: {'latent_dim': 34, 'num_nodes': 10, 'num_layers': 1, 'learning_rate': 0.06906002173562943}. Best is trial 11 with value: 0.7032309770584106.\u001b[0m\n",
      "\u001b[32m[I 2022-06-21 12:39:24,623]\u001b[0m Trial 16 finished with value: 0.9988425970077515 and parameters: {'latent_dim': 26, 'num_nodes': 8, 'num_layers': 3, 'learning_rate': 0.11949983789773674}. Best is trial 11 with value: 0.7032309770584106.\u001b[0m\n",
      "\u001b[32m[I 2022-06-21 12:39:31,220]\u001b[0m Trial 17 finished with value: 0.8424965143203735 and parameters: {'latent_dim': 40, 'num_nodes': 4, 'num_layers': 3, 'learning_rate': 0.0029047512880799814}. Best is trial 11 with value: 0.7032309770584106.\u001b[0m\n",
      "\u001b[32m[I 2022-06-21 12:39:32,495]\u001b[0m Trial 18 finished with value: 0.9988425970077515 and parameters: {'latent_dim': 34, 'num_nodes': 7, 'num_layers': 1, 'learning_rate': 0.052693084075927134}. Best is trial 11 with value: 0.7032309770584106.\u001b[0m\n",
      "\u001b[32m[I 2022-06-21 12:39:33,907]\u001b[0m Trial 19 finished with value: 0.9988425970077515 and parameters: {'latent_dim': 26, 'num_nodes': 9, 'num_layers': 2, 'learning_rate': 0.13020919460194727}. Best is trial 11 with value: 0.7032309770584106.\u001b[0m\n",
      "\u001b[32m[I 2022-06-21 12:39:35,702]\u001b[0m Trial 20 finished with value: 0.9988425970077515 and parameters: {'latent_dim': 25, 'num_nodes': 7, 'num_layers': 3, 'learning_rate': 0.02439394037758555}. Best is trial 11 with value: 0.7032309770584106.\u001b[0m\n",
      "\u001b[32m[I 2022-06-21 12:39:42,130]\u001b[0m Trial 21 finished with value: 0.7754685282707214 and parameters: {'latent_dim': 40, 'num_nodes': 3, 'num_layers': 2, 'learning_rate': 0.0036194103032647826}. Best is trial 11 with value: 0.7032309770584106.\u001b[0m\n",
      "\u001b[32m[I 2022-06-21 12:39:43,488]\u001b[0m Trial 22 finished with value: 0.9988425970077515 and parameters: {'latent_dim': 35, 'num_nodes': 2, 'num_layers': 1, 'learning_rate': 0.07513432788620672}. Best is trial 11 with value: 0.7032309770584106.\u001b[0m\n",
      "\u001b[32m[I 2022-06-21 12:39:45,894]\u001b[0m Trial 23 finished with value: 0.9651772975921631 and parameters: {'latent_dim': 39, 'num_nodes': 3, 'num_layers': 2, 'learning_rate': 0.02556955897203785}. Best is trial 11 with value: 0.7032309770584106.\u001b[0m\n",
      "\u001b[32m[I 2022-06-21 12:39:51,066]\u001b[0m Trial 24 finished with value: 0.4301240146160126 and parameters: {'latent_dim': 32, 'num_nodes': 4, 'num_layers': 1, 'learning_rate': 0.001426126930567928}. Best is trial 24 with value: 0.4301240146160126.\u001b[0m\n",
      "\u001b[32m[I 2022-06-21 12:39:52,286]\u001b[0m Trial 25 finished with value: 0.9988425970077515 and parameters: {'latent_dim': 32, 'num_nodes': 4, 'num_layers': 1, 'learning_rate': 0.05298250174250265}. Best is trial 24 with value: 0.4301240146160126.\u001b[0m\n",
      "\u001b[32m[I 2022-06-21 12:39:53,696]\u001b[0m Trial 26 finished with value: 0.9988425970077515 and parameters: {'latent_dim': 28, 'num_nodes': 9, 'num_layers': 1, 'learning_rate': 0.0851949913134303}. Best is trial 24 with value: 0.4301240146160126.\u001b[0m\n",
      "\u001b[32m[I 2022-06-21 12:39:55,301]\u001b[0m Trial 27 finished with value: 0.9988425970077515 and parameters: {'latent_dim': 15, 'num_nodes': 6, 'num_layers': 2, 'learning_rate': 0.22217088840833796}. Best is trial 24 with value: 0.4301240146160126.\u001b[0m\n",
      "\u001b[32m[I 2022-06-21 12:39:57,448]\u001b[0m Trial 28 finished with value: 0.927741527557373 and parameters: {'latent_dim': 36, 'num_nodes': 4, 'num_layers': 1, 'learning_rate': 0.02863325330958178}. Best is trial 24 with value: 0.4301240146160126.\u001b[0m\n",
      "\u001b[32m[I 2022-06-21 12:39:59,758]\u001b[0m Trial 29 finished with value: 0.9988425970077515 and parameters: {'latent_dim': 24, 'num_nodes': 5, 'num_layers': 5, 'learning_rate': 0.002384027872275462}. Best is trial 24 with value: 0.4301240146160126.\u001b[0m\n",
      "\u001b[32m[I 2022-06-21 12:40:01,443]\u001b[0m Trial 30 finished with value: 0.9988425970077515 and parameters: {'latent_dim': 28, 'num_nodes': 7, 'num_layers': 3, 'learning_rate': 0.1462427541752507}. Best is trial 24 with value: 0.4301240146160126.\u001b[0m\n",
      "\u001b[32m[I 2022-06-21 12:40:10,594]\u001b[0m Trial 31 finished with value: 0.7810023427009583 and parameters: {'latent_dim': 40, 'num_nodes': 3, 'num_layers': 2, 'learning_rate': 0.004210846681328327}. Best is trial 24 with value: 0.4301240146160126.\u001b[0m\n",
      "\u001b[32m[I 2022-06-21 12:40:14,139]\u001b[0m Trial 32 finished with value: 0.9130500555038452 and parameters: {'latent_dim': 34, 'num_nodes': 2, 'num_layers': 1, 'learning_rate': 0.016378114459005392}. Best is trial 24 with value: 0.4301240146160126.\u001b[0m\n"
     ]
    },
    {
     "name": "stderr",
     "output_type": "stream",
     "text": [
      "\u001b[32m[I 2022-06-21 12:40:15,476]\u001b[0m Trial 33 finished with value: 0.9988425970077515 and parameters: {'latent_dim': 37, 'num_nodes': 2, 'num_layers': 2, 'learning_rate': 0.04608176008024176}. Best is trial 24 with value: 0.4301240146160126.\u001b[0m\n",
      "\u001b[32m[I 2022-06-21 12:40:43,743]\u001b[0m Trial 34 finished with value: 0.37179237604141235 and parameters: {'latent_dim': 32, 'num_nodes': 4, 'num_layers': 1, 'learning_rate': 0.00021011989768485542}. Best is trial 34 with value: 0.37179237604141235.\u001b[0m\n",
      "\u001b[32m[I 2022-06-21 12:40:45,556]\u001b[0m Trial 35 finished with value: 0.961222231388092 and parameters: {'latent_dim': 32, 'num_nodes': 4, 'num_layers': 1, 'learning_rate': 0.03536105595542941}. Best is trial 34 with value: 0.37179237604141235.\u001b[0m\n",
      "\u001b[32m[I 2022-06-21 12:40:48,930]\u001b[0m Trial 36 finished with value: 0.9988425970077515 and parameters: {'latent_dim': 28, 'num_nodes': 9, 'num_layers': 4, 'learning_rate': 0.06601319474217805}. Best is trial 34 with value: 0.37179237604141235.\u001b[0m\n",
      "\u001b[32m[I 2022-06-21 12:40:52,400]\u001b[0m Trial 37 finished with value: 0.8967690467834473 and parameters: {'latent_dim': 18, 'num_nodes': 5, 'num_layers': 1, 'learning_rate': 0.01986552891781339}. Best is trial 34 with value: 0.37179237604141235.\u001b[0m\n",
      "\u001b[32m[I 2022-06-21 12:40:55,422]\u001b[0m Trial 38 finished with value: 0.9988425970077515 and parameters: {'latent_dim': 22, 'num_nodes': 8, 'num_layers': 4, 'learning_rate': 0.27145826519724325}. Best is trial 34 with value: 0.37179237604141235.\u001b[0m\n",
      "\u001b[32m[I 2022-06-21 12:40:56,954]\u001b[0m Trial 39 finished with value: 0.9988425970077515 and parameters: {'latent_dim': 37, 'num_nodes': 6, 'num_layers': 2, 'learning_rate': 0.058202984787691515}. Best is trial 34 with value: 0.37179237604141235.\u001b[0m\n",
      "\u001b[32m[I 2022-06-21 12:40:58,190]\u001b[0m Trial 40 finished with value: 0.9988425970077515 and parameters: {'latent_dim': 33, 'num_nodes': 7, 'num_layers': 1, 'learning_rate': 0.03682978498041221}. Best is trial 34 with value: 0.37179237604141235.\u001b[0m\n",
      "\u001b[32m[I 2022-06-21 12:41:08,868]\u001b[0m Trial 41 finished with value: 0.7464240789413452 and parameters: {'latent_dim': 38, 'num_nodes': 3, 'num_layers': 2, 'learning_rate': 0.001452445245003312}. Best is trial 34 with value: 0.37179237604141235.\u001b[0m\n",
      "\u001b[32m[I 2022-06-21 12:41:42,235]\u001b[0m Trial 42 finished with value: 0.8196444511413574 and parameters: {'latent_dim': 38, 'num_nodes': 4, 'num_layers': 2, 'learning_rate': 2.7290056621112656e-05}. Best is trial 34 with value: 0.37179237604141235.\u001b[0m\n",
      "\u001b[32m[I 2022-06-21 12:41:45,049]\u001b[0m Trial 43 finished with value: 0.8624186515808105 and parameters: {'latent_dim': 30, 'num_nodes': 3, 'num_layers': 1, 'learning_rate': 0.02128584296781607}. Best is trial 34 with value: 0.37179237604141235.\u001b[0m\n",
      "\u001b[32m[I 2022-06-21 12:41:47,335]\u001b[0m Trial 44 finished with value: 0.9988425970077515 and parameters: {'latent_dim': 35, 'num_nodes': 5, 'num_layers': 6, 'learning_rate': 0.015415963412912377}. Best is trial 34 with value: 0.37179237604141235.\u001b[0m\n",
      "\u001b[32m[I 2022-06-21 12:41:48,533]\u001b[0m Trial 45 finished with value: 0.9988425970077515 and parameters: {'latent_dim': 37, 'num_nodes': 2, 'num_layers': 2, 'learning_rate': 0.03914084485999176}. Best is trial 34 with value: 0.37179237604141235.\u001b[0m\n",
      "\u001b[32m[I 2022-06-21 12:41:52,264]\u001b[0m Trial 46 finished with value: 0.9770389199256897 and parameters: {'latent_dim': 3, 'num_nodes': 1, 'num_layers': 1, 'learning_rate': 0.014799656196386707}. Best is trial 34 with value: 0.37179237604141235.\u001b[0m\n",
      "\u001b[32m[I 2022-06-21 12:41:53,819]\u001b[0m Trial 47 finished with value: 0.9988425970077515 and parameters: {'latent_dim': 29, 'num_nodes': 10, 'num_layers': 1, 'learning_rate': 0.0980586946085833}. Best is trial 34 with value: 0.37179237604141235.\u001b[0m\n",
      "\u001b[32m[I 2022-06-21 12:41:54,806]\u001b[0m Trial 48 finished with value: 0.9988425970077515 and parameters: {'latent_dim': 32, 'num_nodes': 4, 'num_layers': 1, 'learning_rate': 0.20584593324542905}. Best is trial 34 with value: 0.37179237604141235.\u001b[0m\n",
      "\u001b[32m[I 2022-06-21 12:41:56,191]\u001b[0m Trial 49 finished with value: 0.9770907163619995 and parameters: {'latent_dim': 38, 'num_nodes': 3, 'num_layers': 2, 'learning_rate': 0.03323849711009097}. Best is trial 34 with value: 0.37179237604141235.\u001b[0m\n"
     ]
    }
   ],
   "source": [
    "study = optuna.create_study(direction='minimize')\n",
    "study.optimize(compute_mlp_performance, n_trials=50)"
   ]
  },
  {
   "cell_type": "code",
   "execution_count": 42,
   "id": "fa6920ab",
   "metadata": {
    "scrolled": true
   },
   "outputs": [
    {
     "name": "stderr",
     "output_type": "stream",
     "text": [
      "\u001b[32m[I 2022-06-21 12:41:58,785]\u001b[0m Trial 50 finished with value: 0.8831408023834229 and parameters: {'latent_dim': 36, 'num_nodes': 5, 'num_layers': 2, 'learning_rate': 0.012431503248654106}. Best is trial 34 with value: 0.37179237604141235.\u001b[0m\n",
      "\u001b[32m[I 2022-06-21 12:42:27,625]\u001b[0m Trial 51 finished with value: 0.9512526988983154 and parameters: {'latent_dim': 39, 'num_nodes': 3, 'num_layers': 3, 'learning_rate': 0.0005514630246325506}. Best is trial 34 with value: 0.37179237604141235.\u001b[0m\n",
      "\u001b[32m[I 2022-06-21 12:42:31,132]\u001b[0m Trial 52 finished with value: 0.9016300439834595 and parameters: {'latent_dim': 40, 'num_nodes': 3, 'num_layers': 2, 'learning_rate': 0.010268899399092762}. Best is trial 34 with value: 0.37179237604141235.\u001b[0m\n",
      "\u001b[32m[I 2022-06-21 12:42:32,159]\u001b[0m Trial 53 finished with value: 0.9988425970077515 and parameters: {'latent_dim': 35, 'num_nodes': 8, 'num_layers': 1, 'learning_rate': 0.044942752765982814}. Best is trial 34 with value: 0.37179237604141235.\u001b[0m\n",
      "\u001b[32m[I 2022-06-21 12:42:33,673]\u001b[0m Trial 54 finished with value: 0.9597800970077515 and parameters: {'latent_dim': 33, 'num_nodes': 4, 'num_layers': 2, 'learning_rate': 0.027386944498224118}. Best is trial 34 with value: 0.37179237604141235.\u001b[0m\n",
      "\u001b[32m[I 2022-06-21 12:42:35,766]\u001b[0m Trial 55 finished with value: 0.9273502826690674 and parameters: {'latent_dim': 31, 'num_nodes': 6, 'num_layers': 3, 'learning_rate': 0.012506995917957103}. Best is trial 34 with value: 0.37179237604141235.\u001b[0m\n",
      "\u001b[32m[I 2022-06-21 12:42:38,461]\u001b[0m Trial 56 finished with value: 0.9988425970077515 and parameters: {'latent_dim': 39, 'num_nodes': 2, 'num_layers': 5, 'learning_rate': 0.0601866671478487}. Best is trial 34 with value: 0.37179237604141235.\u001b[0m\n",
      "\u001b[32m[I 2022-06-21 12:42:39,963]\u001b[0m Trial 57 finished with value: 0.9988425970077515 and parameters: {'latent_dim': 27, 'num_nodes': 4, 'num_layers': 1, 'learning_rate': 0.16277908769266475}. Best is trial 34 with value: 0.37179237604141235.\u001b[0m\n",
      "\u001b[32m[I 2022-06-21 12:42:40,954]\u001b[0m Trial 58 finished with value: 0.9988425970077515 and parameters: {'latent_dim': 24, 'num_nodes': 8, 'num_layers': 1, 'learning_rate': 0.02790009490377558}. Best is trial 34 with value: 0.37179237604141235.\u001b[0m\n",
      "\u001b[32m[I 2022-06-21 12:42:42,254]\u001b[0m Trial 59 finished with value: 0.9988425970077515 and parameters: {'latent_dim': 36, 'num_nodes': 3, 'num_layers': 2, 'learning_rate': 0.2993429252092297}. Best is trial 34 with value: 0.37179237604141235.\u001b[0m\n",
      "\u001b[32m[I 2022-06-21 12:42:44,037]\u001b[0m Trial 60 finished with value: 0.9988425970077515 and parameters: {'latent_dim': 33, 'num_nodes': 9, 'num_layers': 3, 'learning_rate': 0.04623786040296987}. Best is trial 34 with value: 0.37179237604141235.\u001b[0m\n",
      "\u001b[32m[I 2022-06-21 12:42:49,777]\u001b[0m Trial 61 finished with value: 0.91114741563797 and parameters: {'latent_dim': 40, 'num_nodes': 3, 'num_layers': 2, 'learning_rate': 0.006713708465830496}. Best is trial 34 with value: 0.37179237604141235.\u001b[0m\n",
      "\u001b[32m[I 2022-06-21 12:42:51,175]\u001b[0m Trial 62 finished with value: 0.9988425970077515 and parameters: {'latent_dim': 40, 'num_nodes': 2, 'num_layers': 2, 'learning_rate': 0.006749324701448734}. Best is trial 34 with value: 0.37179237604141235.\u001b[0m\n",
      "\u001b[32m[I 2022-06-21 12:42:56,392]\u001b[0m Trial 63 finished with value: 0.5731566548347473 and parameters: {'latent_dim': 38, 'num_nodes': 3, 'num_layers': 1, 'learning_rate': 0.0023528952801422473}. Best is trial 34 with value: 0.37179237604141235.\u001b[0m\n",
      "\u001b[32m[I 2022-06-21 12:42:58,539]\u001b[0m Trial 64 finished with value: 0.8049692511558533 and parameters: {'latent_dim': 38, 'num_nodes': 4, 'num_layers': 1, 'learning_rate': 0.018830804661284582}. Best is trial 34 with value: 0.37179237604141235.\u001b[0m\n",
      "\u001b[32m[I 2022-06-21 12:43:00,785]\u001b[0m Trial 65 finished with value: 0.9643142223358154 and parameters: {'latent_dim': 35, 'num_nodes': 2, 'num_layers': 1, 'learning_rate': 0.029558604881969586}. Best is trial 34 with value: 0.37179237604141235.\u001b[0m\n",
      "\u001b[32m[I 2022-06-21 12:43:07,725]\u001b[0m Trial 66 finished with value: 0.5187367796897888 and parameters: {'latent_dim': 30, 'num_nodes': 3, 'num_layers': 1, 'learning_rate': 0.0019713527026602807}. Best is trial 34 with value: 0.37179237604141235.\u001b[0m\n",
      "\u001b[32m[I 2022-06-21 12:43:16,292]\u001b[0m Trial 67 finished with value: 0.3340221047401428 and parameters: {'latent_dim': 31, 'num_nodes': 5, 'num_layers': 1, 'learning_rate': 0.000637449607532258}. Best is trial 67 with value: 0.3340221047401428.\u001b[0m\n",
      "\u001b[32m[I 2022-06-21 12:43:17,778]\u001b[0m Trial 68 finished with value: 0.8812260627746582 and parameters: {'latent_dim': 31, 'num_nodes': 5, 'num_layers': 1, 'learning_rate': 0.023177873366240345}. Best is trial 67 with value: 0.3340221047401428.\u001b[0m\n",
      "\u001b[32m[I 2022-06-21 12:43:25,399]\u001b[0m Trial 69 finished with value: 0.4853917956352234 and parameters: {'latent_dim': 26, 'num_nodes': 4, 'num_layers': 1, 'learning_rate': 0.000850212237784117}. Best is trial 67 with value: 0.3340221047401428.\u001b[0m\n",
      "\u001b[32m[I 2022-06-21 12:43:27,444]\u001b[0m Trial 70 finished with value: 0.9988425970077515 and parameters: {'latent_dim': 29, 'num_nodes': 5, 'num_layers': 1, 'learning_rate': 0.049215489212072194}. Best is trial 67 with value: 0.3340221047401428.\u001b[0m\n",
      "\u001b[32m[I 2022-06-21 12:43:31,974]\u001b[0m Trial 71 finished with value: 0.46835827827453613 and parameters: {'latent_dim': 26, 'num_nodes': 4, 'num_layers': 1, 'learning_rate': 0.0014258198844234737}. Best is trial 67 with value: 0.3340221047401428.\u001b[0m\n",
      "\u001b[32m[I 2022-06-21 12:43:34,310]\u001b[0m Trial 72 finished with value: 0.706153154373169 and parameters: {'latent_dim': 26, 'num_nodes': 4, 'num_layers': 1, 'learning_rate': 0.01190076206527096}. Best is trial 67 with value: 0.3340221047401428.\u001b[0m\n",
      "\u001b[32m[I 2022-06-21 12:43:35,546]\u001b[0m Trial 73 finished with value: 0.9642556309700012 and parameters: {'latent_dim': 22, 'num_nodes': 4, 'num_layers': 1, 'learning_rate': 0.03687093791256094}. Best is trial 67 with value: 0.3340221047401428.\u001b[0m\n",
      "\u001b[32m[I 2022-06-21 12:43:37,288]\u001b[0m Trial 74 finished with value: 0.9387943744659424 and parameters: {'latent_dim': 24, 'num_nodes': 6, 'num_layers': 1, 'learning_rate': 0.020614463713750777}. Best is trial 67 with value: 0.3340221047401428.\u001b[0m\n",
      "\u001b[32m[I 2022-06-21 12:43:44,844]\u001b[0m Trial 75 finished with value: 0.36274397373199463 and parameters: {'latent_dim': 27, 'num_nodes': 4, 'num_layers': 1, 'learning_rate': 0.000706263737578469}. Best is trial 67 with value: 0.3340221047401428.\u001b[0m\n",
      "\u001b[32m[I 2022-06-21 12:43:58,561]\u001b[0m Trial 76 finished with value: 0.3331867456436157 and parameters: {'latent_dim': 27, 'num_nodes': 5, 'num_layers': 1, 'learning_rate': 0.0003544192232908549}. Best is trial 76 with value: 0.3331867456436157.\u001b[0m\n",
      "\u001b[32m[I 2022-06-21 12:44:00,600]\u001b[0m Trial 77 finished with value: 0.6546951532363892 and parameters: {'latent_dim': 27, 'num_nodes': 5, 'num_layers': 1, 'learning_rate': 0.009701582602595826}. Best is trial 76 with value: 0.3331867456436157.\u001b[0m\n",
      "\u001b[32m[I 2022-06-21 12:44:03,057]\u001b[0m Trial 78 finished with value: 0.9988425970077515 and parameters: {'latent_dim': 25, 'num_nodes': 5, 'num_layers': 6, 'learning_rate': 0.020214624817340387}. Best is trial 76 with value: 0.3331867456436157.\u001b[0m\n",
      "\u001b[32m[I 2022-06-21 12:44:05,438]\u001b[0m Trial 79 finished with value: 0.9719006419181824 and parameters: {'latent_dim': 29, 'num_nodes': 4, 'num_layers': 1, 'learning_rate': 0.032262183812667086}. Best is trial 76 with value: 0.3331867456436157.\u001b[0m\n",
      "\u001b[32m[I 2022-06-21 12:44:06,718]\u001b[0m Trial 80 finished with value: 0.9988425970077515 and parameters: {'latent_dim': 27, 'num_nodes': 4, 'num_layers': 1, 'learning_rate': 0.25829875481403797}. Best is trial 76 with value: 0.3331867456436157.\u001b[0m\n",
      "\u001b[32m[I 2022-06-21 12:44:09,606]\u001b[0m Trial 81 finished with value: 0.6563702821731567 and parameters: {'latent_dim': 21, 'num_nodes': 5, 'num_layers': 1, 'learning_rate': 0.008659897164830867}. Best is trial 76 with value: 0.3331867456436157.\u001b[0m\n",
      "\u001b[32m[I 2022-06-21 12:44:13,240]\u001b[0m Trial 82 finished with value: 0.5152090787887573 and parameters: {'latent_dim': 31, 'num_nodes': 4, 'num_layers': 1, 'learning_rate': 0.0023784420559937436}. Best is trial 76 with value: 0.3331867456436157.\u001b[0m\n",
      "\u001b[32m[I 2022-06-21 12:44:15,728]\u001b[0m Trial 83 finished with value: 0.8205387592315674 and parameters: {'latent_dim': 31, 'num_nodes': 4, 'num_layers': 1, 'learning_rate': 0.0168907935804918}. Best is trial 76 with value: 0.3331867456436157.\u001b[0m\n"
     ]
    },
    {
     "name": "stderr",
     "output_type": "stream",
     "text": [
      "\u001b[32m[I 2022-06-21 12:44:20,442]\u001b[0m Trial 84 finished with value: 0.4170624315738678 and parameters: {'latent_dim': 30, 'num_nodes': 4, 'num_layers': 1, 'learning_rate': 0.0015021211625385212}. Best is trial 76 with value: 0.3331867456436157.\u001b[0m\n",
      "\u001b[32m[I 2022-06-21 12:44:21,971]\u001b[0m Trial 85 finished with value: 0.916535496711731 and parameters: {'latent_dim': 25, 'num_nodes': 5, 'num_layers': 1, 'learning_rate': 0.024384926342250726}. Best is trial 76 with value: 0.3331867456436157.\u001b[0m\n",
      "\u001b[32m[I 2022-06-21 12:44:24,875]\u001b[0m Trial 86 finished with value: 0.6615452170372009 and parameters: {'latent_dim': 29, 'num_nodes': 4, 'num_layers': 1, 'learning_rate': 0.012166842347906949}. Best is trial 76 with value: 0.3331867456436157.\u001b[0m\n",
      "\u001b[32m[I 2022-06-21 12:44:25,964]\u001b[0m Trial 87 finished with value: 0.9988425970077515 and parameters: {'latent_dim': 32, 'num_nodes': 6, 'num_layers': 1, 'learning_rate': 0.04168520108311927}. Best is trial 76 with value: 0.3331867456436157.\u001b[0m\n",
      "\u001b[32m[I 2022-06-21 12:44:27,452]\u001b[0m Trial 88 finished with value: 0.9988425970077515 and parameters: {'latent_dim': 28, 'num_nodes': 4, 'num_layers': 1, 'learning_rate': 0.12764141208207178}. Best is trial 76 with value: 0.3331867456436157.\u001b[0m\n",
      "\u001b[32m[I 2022-06-21 12:44:32,693]\u001b[0m Trial 89 finished with value: 0.7292843461036682 and parameters: {'latent_dim': 23, 'num_nodes': 5, 'num_layers': 2, 'learning_rate': 0.007131104882555214}. Best is trial 76 with value: 0.3331867456436157.\u001b[0m\n",
      "\u001b[32m[I 2022-06-21 12:44:34,844]\u001b[0m Trial 90 finished with value: 0.7448772192001343 and parameters: {'latent_dim': 30, 'num_nodes': 4, 'num_layers': 1, 'learning_rate': 0.016083483632397946}. Best is trial 76 with value: 0.3331867456436157.\u001b[0m\n",
      "\u001b[32m[I 2022-06-21 12:44:37,991]\u001b[0m Trial 91 finished with value: 0.9988425970077515 and parameters: {'latent_dim': 31, 'num_nodes': 5, 'num_layers': 7, 'learning_rate': 0.003994461003422958}. Best is trial 76 with value: 0.3331867456436157.\u001b[0m\n",
      "\u001b[32m[I 2022-06-21 12:44:42,410]\u001b[0m Trial 92 finished with value: 0.5025831460952759 and parameters: {'latent_dim': 19, 'num_nodes': 4, 'num_layers': 1, 'learning_rate': 0.0021732151039263146}. Best is trial 76 with value: 0.3331867456436157.\u001b[0m\n",
      "\u001b[32m[I 2022-06-21 12:45:10,649]\u001b[0m Trial 93 finished with value: 0.5481000542640686 and parameters: {'latent_dim': 19, 'num_nodes': 4, 'num_layers': 1, 'learning_rate': 8.298998433233797e-05}. Best is trial 76 with value: 0.3331867456436157.\u001b[0m\n",
      "\u001b[32m[I 2022-06-21 12:45:12,526]\u001b[0m Trial 94 finished with value: 0.8647172451019287 and parameters: {'latent_dim': 16, 'num_nodes': 4, 'num_layers': 1, 'learning_rate': 0.027690321946718575}. Best is trial 76 with value: 0.3331867456436157.\u001b[0m\n",
      "\u001b[32m[I 2022-06-21 12:45:15,607]\u001b[0m Trial 95 finished with value: 0.7092556357383728 and parameters: {'latent_dim': 16, 'num_nodes': 4, 'num_layers': 1, 'learning_rate': 0.011398925863103326}. Best is trial 76 with value: 0.3331867456436157.\u001b[0m\n",
      "\u001b[32m[I 2022-06-21 12:45:18,302]\u001b[0m Trial 96 finished with value: 0.8069404363632202 and parameters: {'latent_dim': 26, 'num_nodes': 5, 'num_layers': 1, 'learning_rate': 0.019585722938242674}. Best is trial 76 with value: 0.3331867456436157.\u001b[0m\n",
      "\u001b[32m[I 2022-06-21 12:45:45,611]\u001b[0m Trial 97 finished with value: 0.42677387595176697 and parameters: {'latent_dim': 33, 'num_nodes': 4, 'num_layers': 1, 'learning_rate': 0.0001775117765797172}. Best is trial 76 with value: 0.3331867456436157.\u001b[0m\n",
      "\u001b[32m[I 2022-06-21 12:45:48,187]\u001b[0m Trial 98 finished with value: 0.9859238266944885 and parameters: {'latent_dim': 33, 'num_nodes': 3, 'num_layers': 2, 'learning_rate': 0.03348409820474815}. Best is trial 76 with value: 0.3331867456436157.\u001b[0m\n",
      "\u001b[32m[I 2022-06-21 12:45:50,463]\u001b[0m Trial 99 finished with value: 0.6947521567344666 and parameters: {'latent_dim': 34, 'num_nodes': 5, 'num_layers': 1, 'learning_rate': 0.009014556816185479}. Best is trial 76 with value: 0.3331867456436157.\u001b[0m\n",
      "\u001b[32m[I 2022-06-21 12:45:53,113]\u001b[0m Trial 100 finished with value: 0.7713295817375183 and parameters: {'latent_dim': 27, 'num_nodes': 4, 'num_layers': 1, 'learning_rate': 0.01568257727485132}. Best is trial 76 with value: 0.3331867456436157.\u001b[0m\n",
      "\u001b[32m[I 2022-06-21 12:46:05,860]\u001b[0m Trial 101 finished with value: 0.33844369649887085 and parameters: {'latent_dim': 30, 'num_nodes': 4, 'num_layers': 1, 'learning_rate': 0.0007090434129474307}. Best is trial 76 with value: 0.3331867456436157.\u001b[0m\n",
      "\u001b[32m[I 2022-06-21 12:46:07,301]\u001b[0m Trial 102 finished with value: 0.8824276328086853 and parameters: {'latent_dim': 32, 'num_nodes': 4, 'num_layers': 1, 'learning_rate': 0.023429367422862408}. Best is trial 76 with value: 0.3331867456436157.\u001b[0m\n",
      "\u001b[32m[I 2022-06-21 12:46:36,264]\u001b[0m Trial 103 finished with value: 0.5564311742782593 and parameters: {'latent_dim': 19, 'num_nodes': 3, 'num_layers': 1, 'learning_rate': 0.00011591179385196074}. Best is trial 76 with value: 0.3331867456436157.\u001b[0m\n",
      "\u001b[32m[I 2022-06-21 12:46:39,148]\u001b[0m Trial 104 finished with value: 0.7696887850761414 and parameters: {'latent_dim': 21, 'num_nodes': 5, 'num_layers': 1, 'learning_rate': 0.009800858365217064}. Best is trial 76 with value: 0.3331867456436157.\u001b[0m\n",
      "\u001b[32m[I 2022-06-21 12:46:42,405]\u001b[0m Trial 105 finished with value: 0.5737587213516235 and parameters: {'latent_dim': 28, 'num_nodes': 4, 'num_layers': 1, 'learning_rate': 0.006465759090461956}. Best is trial 76 with value: 0.3331867456436157.\u001b[0m\n",
      "\u001b[32m[I 2022-06-21 12:46:44,294]\u001b[0m Trial 106 finished with value: 0.7283278107643127 and parameters: {'latent_dim': 29, 'num_nodes': 4, 'num_layers': 1, 'learning_rate': 0.015133131827720962}. Best is trial 76 with value: 0.3331867456436157.\u001b[0m\n",
      "\u001b[32m[I 2022-06-21 12:46:46,427]\u001b[0m Trial 107 finished with value: 0.9988425970077515 and parameters: {'latent_dim': 30, 'num_nodes': 3, 'num_layers': 2, 'learning_rate': 0.20540401604239975}. Best is trial 76 with value: 0.3331867456436157.\u001b[0m\n",
      "\u001b[32m[I 2022-06-21 12:46:49,077]\u001b[0m Trial 108 finished with value: 0.9385473728179932 and parameters: {'latent_dim': 34, 'num_nodes': 5, 'num_layers': 1, 'learning_rate': 0.026270355151561425}. Best is trial 76 with value: 0.3331867456436157.\u001b[0m\n",
      "\u001b[32m[I 2022-06-21 12:47:17,238]\u001b[0m Trial 109 finished with value: 0.44924914836883545 and parameters: {'latent_dim': 25, 'num_nodes': 4, 'num_layers': 1, 'learning_rate': 8.177917621570146e-05}. Best is trial 76 with value: 0.3331867456436157.\u001b[0m\n",
      "\u001b[32m[I 2022-06-21 12:47:20,495]\u001b[0m Trial 110 finished with value: 0.6275683045387268 and parameters: {'latent_dim': 25, 'num_nodes': 4, 'num_layers': 1, 'learning_rate': 0.007041208077386239}. Best is trial 76 with value: 0.3331867456436157.\u001b[0m\n",
      "\u001b[32m[I 2022-06-21 12:47:36,246]\u001b[0m Trial 111 finished with value: 0.38878491520881653 and parameters: {'latent_dim': 23, 'num_nodes': 4, 'num_layers': 1, 'learning_rate': 0.0004420891898503478}. Best is trial 76 with value: 0.3331867456436157.\u001b[0m\n",
      "\u001b[32m[I 2022-06-21 12:47:38,718]\u001b[0m Trial 112 finished with value: 0.811593770980835 and parameters: {'latent_dim': 24, 'num_nodes': 4, 'num_layers': 1, 'learning_rate': 0.014886957260870083}. Best is trial 76 with value: 0.3331867456436157.\u001b[0m\n",
      "\u001b[32m[I 2022-06-21 12:47:41,736]\u001b[0m Trial 113 finished with value: 0.8081799745559692 and parameters: {'latent_dim': 23, 'num_nodes': 4, 'num_layers': 1, 'learning_rate': 0.020587270166962865}. Best is trial 76 with value: 0.3331867456436157.\u001b[0m\n",
      "\u001b[32m[I 2022-06-21 12:48:09,408]\u001b[0m Trial 114 finished with value: 0.521207332611084 and parameters: {'latent_dim': 27, 'num_nodes': 3, 'num_layers': 1, 'learning_rate': 0.0001685284944640264}. Best is trial 76 with value: 0.3331867456436157.\u001b[0m\n",
      "\u001b[32m[I 2022-06-21 12:48:13,324]\u001b[0m Trial 115 finished with value: 0.7988758683204651 and parameters: {'latent_dim': 26, 'num_nodes': 4, 'num_layers': 2, 'learning_rate': 0.008428770204296682}. Best is trial 76 with value: 0.3331867456436157.\u001b[0m\n",
      "\u001b[32m[I 2022-06-21 12:48:15,484]\u001b[0m Trial 116 finished with value: 0.7730849981307983 and parameters: {'latent_dim': 23, 'num_nodes': 5, 'num_layers': 1, 'learning_rate': 0.013385562763304826}. Best is trial 76 with value: 0.3331867456436157.\u001b[0m\n",
      "\u001b[32m[I 2022-06-21 12:48:46,748]\u001b[0m Trial 117 finished with value: 0.43230220675468445 and parameters: {'latent_dim': 26, 'num_nodes': 5, 'num_layers': 1, 'learning_rate': 2.7949954494674366e-05}. Best is trial 76 with value: 0.3331867456436157.\u001b[0m\n"
     ]
    },
    {
     "name": "stderr",
     "output_type": "stream",
     "text": [
      "\u001b[32m[I 2022-06-21 12:48:48,392]\u001b[0m Trial 118 finished with value: 0.9988425970077515 and parameters: {'latent_dim': 33, 'num_nodes': 6, 'num_layers': 1, 'learning_rate': 0.14743253299086131}. Best is trial 76 with value: 0.3331867456436157.\u001b[0m\n",
      "\u001b[32m[I 2022-06-21 12:48:50,263]\u001b[0m Trial 119 finished with value: 0.9988425970077515 and parameters: {'latent_dim': 8, 'num_nodes': 5, 'num_layers': 5, 'learning_rate': 0.09111016067808425}. Best is trial 76 with value: 0.3331867456436157.\u001b[0m\n",
      "\u001b[32m[I 2022-06-21 12:48:51,658]\u001b[0m Trial 120 finished with value: 0.9874500632286072 and parameters: {'latent_dim': 30, 'num_nodes': 6, 'num_layers': 1, 'learning_rate': 0.030617389054155557}. Best is trial 76 with value: 0.3331867456436157.\u001b[0m\n",
      "\u001b[32m[I 2022-06-21 12:48:55,553]\u001b[0m Trial 121 finished with value: 0.6550441384315491 and parameters: {'latent_dim': 25, 'num_nodes': 4, 'num_layers': 1, 'learning_rate': 0.007079782946709411}. Best is trial 76 with value: 0.3331867456436157.\u001b[0m\n",
      "\u001b[32m[I 2022-06-21 12:48:58,578]\u001b[0m Trial 122 finished with value: 0.6101083159446716 and parameters: {'latent_dim': 28, 'num_nodes': 5, 'num_layers': 1, 'learning_rate': 0.00584582907420597}. Best is trial 76 with value: 0.3331867456436157.\u001b[0m\n",
      "\u001b[32m[I 2022-06-21 12:49:01,507]\u001b[0m Trial 123 finished with value: 0.8347811102867126 and parameters: {'latent_dim': 24, 'num_nodes': 4, 'num_layers': 1, 'learning_rate': 0.0182145704503719}. Best is trial 76 with value: 0.3331867456436157.\u001b[0m\n",
      "\u001b[32m[I 2022-06-21 12:49:04,328]\u001b[0m Trial 124 finished with value: 0.864273190498352 and parameters: {'latent_dim': 26, 'num_nodes': 5, 'num_layers': 1, 'learning_rate': 0.02336419767371249}. Best is trial 76 with value: 0.3331867456436157.\u001b[0m\n",
      "\u001b[32m[I 2022-06-21 12:49:33,963]\u001b[0m Trial 125 finished with value: 0.3938974142074585 and parameters: {'latent_dim': 28, 'num_nodes': 4, 'num_layers': 1, 'learning_rate': 7.921346276657939e-05}. Best is trial 76 with value: 0.3331867456436157.\u001b[0m\n",
      "\u001b[32m[I 2022-06-21 12:50:02,289]\u001b[0m Trial 126 finished with value: 0.859490156173706 and parameters: {'latent_dim': 28, 'num_nodes': 4, 'num_layers': 1, 'learning_rate': 1.1757108823006436e-05}. Best is trial 76 with value: 0.3331867456436157.\u001b[0m\n",
      "\u001b[32m[I 2022-06-21 12:50:04,333]\u001b[0m Trial 127 finished with value: 0.7529858946800232 and parameters: {'latent_dim': 32, 'num_nodes': 4, 'num_layers': 1, 'learning_rate': 0.013240511539094724}. Best is trial 76 with value: 0.3331867456436157.\u001b[0m\n",
      "\u001b[32m[I 2022-06-21 12:50:06,605]\u001b[0m Trial 128 finished with value: 0.6804772019386292 and parameters: {'latent_dim': 29, 'num_nodes': 5, 'num_layers': 1, 'learning_rate': 0.007587554217788366}. Best is trial 76 with value: 0.3331867456436157.\u001b[0m\n",
      "\u001b[32m[I 2022-06-21 12:50:09,469]\u001b[0m Trial 129 finished with value: 0.7894768118858337 and parameters: {'latent_dim': 31, 'num_nodes': 3, 'num_layers': 1, 'learning_rate': 0.01235055220882255}. Best is trial 76 with value: 0.3331867456436157.\u001b[0m\n",
      "\u001b[32m[I 2022-06-21 12:50:10,630]\u001b[0m Trial 130 finished with value: 0.9988425970077515 and parameters: {'latent_dim': 27, 'num_nodes': 3, 'num_layers': 2, 'learning_rate': 0.03797105508490588}. Best is trial 76 with value: 0.3331867456436157.\u001b[0m\n",
      "\u001b[32m[I 2022-06-21 12:50:13,407]\u001b[0m Trial 131 finished with value: 0.5739105939865112 and parameters: {'latent_dim': 26, 'num_nodes': 4, 'num_layers': 1, 'learning_rate': 0.004951539860217366}. Best is trial 76 with value: 0.3331867456436157.\u001b[0m\n",
      "\u001b[32m[I 2022-06-21 12:50:18,375]\u001b[0m Trial 132 finished with value: 0.4076828360557556 and parameters: {'latent_dim': 25, 'num_nodes': 4, 'num_layers': 1, 'learning_rate': 0.0013032601505847123}. Best is trial 76 with value: 0.3331867456436157.\u001b[0m\n",
      "\u001b[32m[I 2022-06-21 12:50:45,922]\u001b[0m Trial 133 finished with value: 0.9683473110198975 and parameters: {'latent_dim': 25, 'num_nodes': 4, 'num_layers': 1, 'learning_rate': 3.1720190367158507e-06}. Best is trial 76 with value: 0.3331867456436157.\u001b[0m\n",
      "\u001b[32m[I 2022-06-21 12:50:47,837]\u001b[0m Trial 134 finished with value: 0.8504928946495056 and parameters: {'latent_dim': 30, 'num_nodes': 4, 'num_layers': 1, 'learning_rate': 0.018370857419053904}. Best is trial 76 with value: 0.3331867456436157.\u001b[0m\n",
      "\u001b[32m[I 2022-06-21 12:50:50,088]\u001b[0m Trial 135 finished with value: 0.7932921051979065 and parameters: {'latent_dim': 23, 'num_nodes': 5, 'num_layers': 1, 'learning_rate': 0.011330704720406152}. Best is trial 76 with value: 0.3331867456436157.\u001b[0m\n",
      "\u001b[32m[I 2022-06-21 12:50:53,362]\u001b[0m Trial 136 finished with value: 0.5480522513389587 and parameters: {'latent_dim': 22, 'num_nodes': 4, 'num_layers': 1, 'learning_rate': 0.006117424483454266}. Best is trial 76 with value: 0.3331867456436157.\u001b[0m\n",
      "\u001b[32m[I 2022-06-21 12:50:55,141]\u001b[0m Trial 137 finished with value: 0.8644593358039856 and parameters: {'latent_dim': 28, 'num_nodes': 4, 'num_layers': 1, 'learning_rate': 0.022652382653677236}. Best is trial 76 with value: 0.3331867456436157.\u001b[0m\n",
      "\u001b[32m[I 2022-06-21 12:50:57,303]\u001b[0m Trial 138 finished with value: 0.8422884941101074 and parameters: {'latent_dim': 29, 'num_nodes': 5, 'num_layers': 1, 'learning_rate': 0.015620878375831461}. Best is trial 76 with value: 0.3331867456436157.\u001b[0m\n",
      "\u001b[32m[I 2022-06-21 12:51:02,596]\u001b[0m Trial 139 finished with value: 0.9088666439056396 and parameters: {'latent_dim': 27, 'num_nodes': 4, 'num_layers': 4, 'learning_rate': 0.006603788094550816}. Best is trial 76 with value: 0.3331867456436157.\u001b[0m\n",
      "\u001b[32m[I 2022-06-21 12:51:03,601]\u001b[0m Trial 140 finished with value: 0.9988425970077515 and parameters: {'latent_dim': 32, 'num_nodes': 3, 'num_layers': 1, 'learning_rate': 0.10960125867873009}. Best is trial 76 with value: 0.3331867456436157.\u001b[0m\n",
      "\u001b[32m[I 2022-06-21 12:51:07,307]\u001b[0m Trial 141 finished with value: 0.48882097005844116 and parameters: {'latent_dim': 24, 'num_nodes': 4, 'num_layers': 1, 'learning_rate': 0.0036181902691284906}. Best is trial 76 with value: 0.3331867456436157.\u001b[0m\n",
      "\u001b[32m[I 2022-06-21 12:51:34,785]\u001b[0m Trial 142 finished with value: 0.4772358536720276 and parameters: {'latent_dim': 25, 'num_nodes': 4, 'num_layers': 1, 'learning_rate': 5.240449046483072e-05}. Best is trial 76 with value: 0.3331867456436157.\u001b[0m\n",
      "\u001b[32m[I 2022-06-21 12:51:37,635]\u001b[0m Trial 143 finished with value: 0.6554083228111267 and parameters: {'latent_dim': 25, 'num_nodes': 4, 'num_layers': 1, 'learning_rate': 0.010135340510450924}. Best is trial 76 with value: 0.3331867456436157.\u001b[0m\n",
      "\u001b[32m[I 2022-06-21 12:51:54,741]\u001b[0m Trial 144 finished with value: 0.44726502895355225 and parameters: {'latent_dim': 27, 'num_nodes': 4, 'num_layers': 1, 'learning_rate': 0.0003956783864782512}. Best is trial 76 with value: 0.3331867456436157.\u001b[0m\n",
      "\u001b[32m[I 2022-06-21 12:52:23,297]\u001b[0m Trial 145 finished with value: 0.8476608991622925 and parameters: {'latent_dim': 27, 'num_nodes': 4, 'num_layers': 1, 'learning_rate': 1.2667514798404134e-05}. Best is trial 76 with value: 0.3331867456436157.\u001b[0m\n",
      "\u001b[32m[I 2022-06-21 12:52:25,215]\u001b[0m Trial 146 finished with value: 0.8203738927841187 and parameters: {'latent_dim': 33, 'num_nodes': 5, 'num_layers': 1, 'learning_rate': 0.0160080458626716}. Best is trial 76 with value: 0.3331867456436157.\u001b[0m\n",
      "\u001b[32m[I 2022-06-21 12:52:27,417]\u001b[0m Trial 147 finished with value: 0.7028396129608154 and parameters: {'latent_dim': 29, 'num_nodes': 4, 'num_layers': 1, 'learning_rate': 0.011164636023349927}. Best is trial 76 with value: 0.3331867456436157.\u001b[0m\n",
      "\u001b[32m[I 2022-06-21 12:52:28,540]\u001b[0m Trial 148 finished with value: 0.9988425970077515 and parameters: {'latent_dim': 30, 'num_nodes': 3, 'num_layers': 1, 'learning_rate': 0.1617296733750694}. Best is trial 76 with value: 0.3331867456436157.\u001b[0m\n",
      "\u001b[32m[I 2022-06-21 12:52:30,140]\u001b[0m Trial 149 finished with value: 0.9352100491523743 and parameters: {'latent_dim': 26, 'num_nodes': 5, 'num_layers': 1, 'learning_rate': 0.028260382761354702}. Best is trial 76 with value: 0.3331867456436157.\u001b[0m\n"
     ]
    }
   ],
   "source": [
    "study.optimize(compute_mlp_performance, n_trials=100)"
   ]
  },
  {
   "cell_type": "code",
   "execution_count": 43,
   "id": "810235a4",
   "metadata": {},
   "outputs": [
    {
     "data": {
      "text/plain": [
       "FrozenTrial(number=76, values=[0.3331867456436157], datetime_start=datetime.datetime(2022, 6, 21, 12, 43, 44, 845845), datetime_complete=datetime.datetime(2022, 6, 21, 12, 43, 58, 561653), params={'latent_dim': 27, 'num_nodes': 5, 'num_layers': 1, 'learning_rate': 0.0003544192232908549}, distributions={'latent_dim': IntUniformDistribution(high=40, low=1, step=1), 'num_nodes': IntUniformDistribution(high=10, low=1, step=1), 'num_layers': IntUniformDistribution(high=7, low=1, step=1), 'learning_rate': UniformDistribution(high=0.3, low=1e-08)}, user_attrs={}, system_attrs={}, intermediate_values={}, trial_id=76, state=TrialState.COMPLETE, value=None)"
      ]
     },
     "execution_count": 43,
     "metadata": {},
     "output_type": "execute_result"
    }
   ],
   "source": [
    "study.best_trial"
   ]
  }
 ],
 "metadata": {
  "kernelspec": {
   "display_name": "Python 3 (ipykernel)",
   "language": "python",
   "name": "python3"
  },
  "language_info": {
   "codemirror_mode": {
    "name": "ipython",
    "version": 3
   },
   "file_extension": ".py",
   "mimetype": "text/x-python",
   "name": "python",
   "nbconvert_exporter": "python",
   "pygments_lexer": "ipython3",
   "version": "3.10.4"
  },
  "varInspector": {
   "cols": {
    "lenName": 16,
    "lenType": 16,
    "lenVar": 40
   },
   "kernels_config": {
    "python": {
     "delete_cmd_postfix": "",
     "delete_cmd_prefix": "del ",
     "library": "var_list.py",
     "varRefreshCmd": "print(var_dic_list())"
    },
    "r": {
     "delete_cmd_postfix": ") ",
     "delete_cmd_prefix": "rm(",
     "library": "var_list.r",
     "varRefreshCmd": "cat(var_dic_list()) "
    }
   },
   "types_to_exclude": [
    "module",
    "function",
    "builtin_function_or_method",
    "instance",
    "_Feature"
   ],
   "window_display": false
  }
 },
 "nbformat": 4,
 "nbformat_minor": 5
}
