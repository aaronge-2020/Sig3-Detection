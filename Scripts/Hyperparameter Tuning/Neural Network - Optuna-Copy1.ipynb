{
 "cells": [
  {
   "cell_type": "code",
   "execution_count": 1,
   "id": "f2b4cbf9",
   "metadata": {},
   "outputs": [
    {
     "name": "stdout",
     "output_type": "stream",
     "text": [
      "Num GPUs Available:  1\n"
     ]
    }
   ],
   "source": [
    "import os\n",
    "\n",
    "import numpy as np\n",
    "import pandas as pd\n",
    "from scipy.stats import median_absolute_deviation\n",
    "from sklearn.metrics import roc_auc_score\n",
    "from sklearn.preprocessing import MinMaxScaler\n",
    "from sklearn.model_selection import StratifiedKFold\n",
    "from sklearn.model_selection import train_test_split\n",
    "import tensorflow as tf\n",
    "from tensorflow import keras \n",
    "import tensorflow_addons as tfa\n",
    "import random\n",
    "from keras.regularizers import l2\n",
    "random_state = 1234\n",
    "from sklearn.metrics import roc_curve, auc\n",
    "from matplotlib import pyplot as plt\n",
    "import optuna\n",
    "from pathlib import Path\n",
    "print(\"Num GPUs Available: \", len(tf.config.list_physical_devices('GPU')))"
   ]
  },
  {
   "cell_type": "code",
   "execution_count": 2,
   "id": "a6f70e79",
   "metadata": {},
   "outputs": [],
   "source": [
    "# Ignore warnings\n",
    "import warnings\n",
    "warnings.filterwarnings(\"ignore\")"
   ]
  },
  {
   "cell_type": "code",
   "execution_count": 13,
   "id": "48f53805",
   "metadata": {},
   "outputs": [],
   "source": [
    "parent_dir = Path(os.getcwd()).parent.parent\n",
    "cross_validation_dir = os.path.join(parent_dir, \"Data\", \"train_test_indices.npy\")\n",
    "data_dir = os.path.join(parent_dir, \"Data\" , \"BCAST_train\")\n",
    "train_test_indices = np.load(cross_validation_dir, allow_pickle = True)"
   ]
  },
  {
   "cell_type": "code",
   "execution_count": 4,
   "id": "93e35b50",
   "metadata": {},
   "outputs": [],
   "source": [
    "def list_files_in_dir(dirname):\n",
    "    dir_files = list()\n",
    "    for root, _, files in os.walk(dirname):\n",
    "        for file in files:\n",
    "            dir_files.append(os.path.join(root, file))\n",
    "    \n",
    "    return dir_files"
   ]
  },
  {
   "cell_type": "code",
   "execution_count": 5,
   "id": "4868ece8",
   "metadata": {},
   "outputs": [],
   "source": [
    "def build_mlp_model(input_shape=(96,), n_hidden_layers=2, n_hidden_nodes=16, \n",
    "                    activation=\"relu\", learning_rate=0.001, weight_decay = 0, l2_kernel = 0.01, l2_bias = 0.01):\n",
    "    # optimizer parameters\n",
    "    loss = \"binary_crossentropy\"\n",
    "    optimizer = tfa.optimizers.AdamW(learning_rate=learning_rate, weight_decay = weight_decay)\n",
    "    metrics = keras.metrics.AUC(name='auc')\n",
    "    \n",
    "    # ANN model\n",
    "    model = keras.models.Sequential()\n",
    "    model.add(keras.layers.Flatten(input_shape=input_shape))\n",
    "    for _ in range(n_hidden_layers):\n",
    "        model.add(keras.layers.Dense(n_hidden_nodes, activation=activation))\n",
    "    \n",
    "    model.add(keras.layers.Dense(1, activation=\"sigmoid\"))\n",
    "    \n",
    "    # optimizer\n",
    "    model.compile(loss=loss, optimizer=optimizer, metrics=metrics)\n",
    "    \n",
    "    return model"
   ]
  },
  {
   "cell_type": "code",
   "execution_count": 6,
   "id": "f4d22a3f",
   "metadata": {
    "code_folding": []
   },
   "outputs": [],
   "source": [
    "def get_row_indices_with_sum_zero(X):\n",
    "    return X.index[(X.sum(axis=1) == 0)].tolist()"
   ]
  },
  {
   "cell_type": "code",
   "execution_count": 7,
   "id": "4b835051",
   "metadata": {},
   "outputs": [],
   "source": [
    "def scale_rows(X):\n",
    "    \n",
    "    return X.div(X.sum(axis=1), axis=0)"
   ]
  },
  {
   "cell_type": "code",
   "execution_count": 8,
   "id": "a80587c5",
   "metadata": {
    "code_folding": []
   },
   "outputs": [],
   "source": [
    "def dataset_generator(data_dir, num_files, y_col):\n",
    "\n",
    "  for datafile in random.sample(list_files_in_dir(data_dir), num_files):\n",
    "      data = pd.read_csv(datafile)\n",
    "      X = data.iloc[:, :96]\n",
    "      y = (data[y_col]).astype(np.int_)\n",
    "      X.columns = X.columns.str.replace('[', '').str.replace(']', '').str.replace('>', '')\n",
    "#           print(X.sum(axis=0))\n",
    "      X = scale_rows(X)\n",
    "#           print(X.sum(axis=1))\n",
    "      yield X, y"
   ]
  },
  {
   "cell_type": "code",
   "execution_count": 9,
   "id": "3b05e467",
   "metadata": {
    "code_folding": []
   },
   "outputs": [],
   "source": [
    "def scale_data(df):\n",
    "    # Define the scaler \n",
    "    scaler = StandardScaler().fit(df)\n",
    "    # Scales each individual row   \n",
    "    df[df.columns] = scaler.fit_transform(df[df.columns])\n",
    "    \n",
    "    return df\n",
    "    "
   ]
  },
  {
   "cell_type": "code",
   "execution_count": 10,
   "id": "893fb89e",
   "metadata": {
    "code_folding": []
   },
   "outputs": [],
   "source": [
    "def train_val_test_generator(data_dir, num_samples, y_col, test_frac=0.1, n_folds = 10):\n",
    "    val_frac = test_frac/(1.0 - test_frac)\n",
    "    \n",
    "    for X, y in dataset_generator(data_dir, num_samples, y_col):\n",
    "        fold_data = list()\n",
    "        skf = StratifiedKFold(n_splits=n_folds, shuffle = True)\n",
    "#         skf = StratifiedKFold(n_splits=num_folds)\n",
    "        \n",
    "        for train_val_index, test_index in skf.split(X, y):\n",
    "            X_test, y_test = X.iloc[test_index, :], y.iloc[test_index]\n",
    "            X_train, X_val, y_train, y_val = train_test_split(\n",
    "                X.iloc[train_val_index,:], y.iloc[train_val_index], \n",
    "                test_size=val_frac, \n",
    "                random_state=random_state, \n",
    "                stratify=y.iloc[train_val_index]\n",
    "            )\n",
    "            \n",
    "            #X_train, X_val, X_test = scale_columns(X_train, X_val, X_test)\n",
    "            fold_data.append(((X_train, y_train), \n",
    "                              (X_val, y_val), \n",
    "                              (X_test, y_test)))\n",
    "            \n",
    "        yield fold_data"
   ]
  },
  {
   "cell_type": "code",
   "execution_count": 11,
   "id": "74a44f2a",
   "metadata": {},
   "outputs": [],
   "source": [
    "def train_val_test_generator_default(data_dir, num_samples, y_col, test_frac=0.1):\n",
    "    \n",
    "    val_frac = test_frac/(1.0 - test_frac)\n",
    "    \n",
    "    for X, y in dataset_generator(data_dir, num_samples, y_col):\n",
    "        fold_data = list()\n",
    "        for train_val_index, test_index in train_test_indices:\n",
    "            X_test, y_test = X.iloc[test_index, :], y.iloc[test_index]\n",
    "            X_train, X_val, y_train, y_val = train_test_split(\n",
    "                X.iloc[train_val_index,:], y.iloc[train_val_index], \n",
    "                test_size=val_frac, \n",
    "                random_state=random_state, \n",
    "                stratify=y.iloc[train_val_index]\n",
    "            )\n",
    "#             print(train_val_index, test_index)\n",
    "            \n",
    "            #X_train, X_val, X_test = scale_columns(X_train, X_val, X_test)\n",
    "            fold_data.append(((X_train, y_train), \n",
    "                              (X_val, y_val), \n",
    "                              (X_test, y_test)))\n",
    "            \n",
    "        yield fold_data"
   ]
  },
  {
   "cell_type": "code",
   "execution_count": 12,
   "id": "7300da92",
   "metadata": {
    "code_folding": []
   },
   "outputs": [],
   "source": [
    "def compute_mlp_performance(trial, input_shape=(96,), data_dir=data_dir, n_folds=10, class_weight_0 = 1, class_weight_1 = 1, num_samples = 1, y_col = 'is_sig3_20'):\n",
    "    aucs = list()\n",
    "    models = list()\n",
    "    \n",
    "    # 60-20-20 split\n",
    "    test_frac=1.0/float(n_folds)\n",
    "#     fpr_list = []\n",
    "#     tpr_list = []\n",
    "#     roc_auc_list = []\n",
    "    \n",
    "    for folds_data in train_val_test_generator(data_dir, num_samples=num_samples, y_col=y_col):\n",
    "        fold_aucs = list()\n",
    "        fold_models = list()\n",
    "        \n",
    "        for fold_data in folds_data:\n",
    "            # get data\n",
    "            (X_train, y_train), (X_val, y_val), (X_test, y_test) = fold_data\n",
    "            # build model and ensure that parameters passed in are within the normal range\n",
    "            # if we don't type cast as integers, bayesian optimizer will guess float values\n",
    "            model = build_mlp_model(input_shape, \n",
    "                                    trial.suggest_int('n_hidden_layers', 1,20), \n",
    "                                    trial.suggest_int('n_hidden_nodes', 20, 300), \n",
    "                                    trial.suggest_categorical(\"activation\", [\"relu\", \"sigmoid\", \"softmax\"]), \n",
    "                                    trial.suggest_float('learning_rate', 1e-9, 1e-1),\n",
    "                                    weight_decay = 0,\n",
    "                                    l2_kernel = 0,\n",
    "                                    l2_bias = 0)\n",
    "            model.fit(X_train, y_train, \n",
    "                      validation_data=(X_val, y_val), \n",
    "                      epochs=1000, batch_size=32, verbose=0,\n",
    "                      callbacks=[keras.callbacks.EarlyStopping(monitor='val_auc', patience=20)])\n",
    "            \n",
    "            # evaluate\n",
    "            y_score = model.evaluate(X_test, y_test, verbose=0)[1]\n",
    "            fold_aucs.append(y_score)\n",
    "            fold_models.append(model)\n",
    "        aucs.append(fold_aucs)\n",
    "        models.append(fold_models)\n",
    "        \n",
    "    # Gets median index value for all the different samples (rows)  \n",
    "    medianIndices = [indices[len(aucs[0])//2] for indices in np.argsort(aucs, axis=1)]\n",
    "    medianValues = [values[index] for values, index in zip(aucs, medianIndices)]\n",
    "    \n",
    "    # Gets the file which contains the median of median value\n",
    "    fileInd = np.argsort(medianValues)[len(medianValues)//2]\n",
    "    \n",
    "    aucs = np.array(aucs)\n",
    "    \n",
    "    median_of_median_model = models[fileInd][medianIndices[fileInd]]\n",
    "    median_of_median_auc = np.median(np.median(aucs, axis=1))\n",
    "    mad_of_mad_auc = median_absolute_deviation(aucs, axis=1)\n",
    "#     return median_of_median_auc, mad_of_mad_auc\n",
    "    return median_of_median_auc\n",
    "\n"
   ]
  },
  {
   "cell_type": "code",
   "execution_count": 14,
   "id": "0ac032a7",
   "metadata": {
    "scrolled": true
   },
   "outputs": [
    {
     "name": "stderr",
     "output_type": "stream",
     "text": [
      "\u001b[32m[I 2022-07-14 11:30:20,005]\u001b[0m A new study created in memory with name: no-name-e7ce165c-8c58-4d80-b904-c31327427906\u001b[0m\n",
      "\u001b[32m[I 2022-07-14 11:30:45,322]\u001b[0m Trial 0 finished with value: 0.5 and parameters: {'n_hidden_layers': 3, 'n_hidden_nodes': 259, 'activation': 'softmax', 'learning_rate': 0.025736919527866744}. Best is trial 0 with value: 0.5.\u001b[0m\n",
      "\u001b[32m[I 2022-07-14 11:31:23,614]\u001b[0m Trial 1 finished with value: 0.5 and parameters: {'n_hidden_layers': 20, 'n_hidden_nodes': 193, 'activation': 'sigmoid', 'learning_rate': 0.031496948003997514}. Best is trial 0 with value: 0.5.\u001b[0m\n",
      "\u001b[32m[I 2022-07-14 11:31:51,480]\u001b[0m Trial 2 finished with value: 0.6509235501289368 and parameters: {'n_hidden_layers': 4, 'n_hidden_nodes': 242, 'activation': 'relu', 'learning_rate': 0.03486786389623924}. Best is trial 2 with value: 0.6509235501289368.\u001b[0m\n",
      "\u001b[32m[I 2022-07-14 11:32:28,996]\u001b[0m Trial 3 finished with value: 0.5 and parameters: {'n_hidden_layers': 20, 'n_hidden_nodes': 289, 'activation': 'softmax', 'learning_rate': 0.08650091924334241}. Best is trial 2 with value: 0.6509235501289368.\u001b[0m\n",
      "\u001b[32m[I 2022-07-14 11:32:52,351]\u001b[0m Trial 4 finished with value: 0.5 and parameters: {'n_hidden_layers': 9, 'n_hidden_nodes': 200, 'activation': 'sigmoid', 'learning_rate': 0.08383082331161905}. Best is trial 2 with value: 0.6509235501289368.\u001b[0m\n",
      "\u001b[32m[I 2022-07-14 11:33:18,825]\u001b[0m Trial 5 finished with value: 0.5 and parameters: {'n_hidden_layers': 8, 'n_hidden_nodes': 40, 'activation': 'sigmoid', 'learning_rate': 0.003800273369790524}. Best is trial 2 with value: 0.6509235501289368.\u001b[0m\n",
      "\u001b[32m[I 2022-07-14 11:33:39,976]\u001b[0m Trial 6 finished with value: 0.6430129408836365 and parameters: {'n_hidden_layers': 1, 'n_hidden_nodes': 54, 'activation': 'sigmoid', 'learning_rate': 0.008874149691006914}. Best is trial 2 with value: 0.6509235501289368.\u001b[0m\n",
      "\u001b[32m[I 2022-07-14 11:34:03,882]\u001b[0m Trial 7 finished with value: 0.5 and parameters: {'n_hidden_layers': 6, 'n_hidden_nodes': 22, 'activation': 'sigmoid', 'learning_rate': 0.043929460538690866}. Best is trial 2 with value: 0.6509235501289368.\u001b[0m\n",
      "\u001b[32m[I 2022-07-14 11:34:48,713]\u001b[0m Trial 8 finished with value: 0.6310742199420929 and parameters: {'n_hidden_layers': 12, 'n_hidden_nodes': 184, 'activation': 'relu', 'learning_rate': 0.009361607093256133}. Best is trial 2 with value: 0.6509235501289368.\u001b[0m\n",
      "\u001b[32m[I 2022-07-14 11:35:29,400]\u001b[0m Trial 9 finished with value: 0.5 and parameters: {'n_hidden_layers': 19, 'n_hidden_nodes': 103, 'activation': 'softmax', 'learning_rate': 0.020874698290812108}. Best is trial 2 with value: 0.6509235501289368.\u001b[0m\n",
      "\u001b[32m[I 2022-07-14 11:36:01,309]\u001b[0m Trial 10 finished with value: 0.5 and parameters: {'n_hidden_layers': 14, 'n_hidden_nodes': 246, 'activation': 'relu', 'learning_rate': 0.06556053954260685}. Best is trial 2 with value: 0.6509235501289368.\u001b[0m\n",
      "\u001b[32m[I 2022-07-14 11:36:23,449]\u001b[0m Trial 11 finished with value: 0.6623041927814484 and parameters: {'n_hidden_layers': 1, 'n_hidden_nodes': 115, 'activation': 'relu', 'learning_rate': 0.05385024149840892}. Best is trial 11 with value: 0.6623041927814484.\u001b[0m\n",
      "\u001b[32m[I 2022-07-14 11:36:49,109]\u001b[0m Trial 12 finished with value: 0.5489130914211273 and parameters: {'n_hidden_layers': 5, 'n_hidden_nodes': 143, 'activation': 'relu', 'learning_rate': 0.05587440357841538}. Best is trial 11 with value: 0.6623041927814484.\u001b[0m\n",
      "\u001b[32m[I 2022-07-14 11:37:16,206]\u001b[0m Trial 13 finished with value: 0.6568694114685059 and parameters: {'n_hidden_layers': 1, 'n_hidden_nodes': 120, 'activation': 'relu', 'learning_rate': 0.06828647545324273}. Best is trial 11 with value: 0.6623041927814484.\u001b[0m\n",
      "\u001b[32m[I 2022-07-14 11:37:39,585]\u001b[0m Trial 14 finished with value: 0.7137255072593689 and parameters: {'n_hidden_layers': 1, 'n_hidden_nodes': 97, 'activation': 'relu', 'learning_rate': 0.06916029697516429}. Best is trial 14 with value: 0.7137255072593689.\u001b[0m\n",
      "\u001b[32m[I 2022-07-14 11:38:06,455]\u001b[0m Trial 15 finished with value: 0.6254901885986328 and parameters: {'n_hidden_layers': 1, 'n_hidden_nodes': 84, 'activation': 'relu', 'learning_rate': 0.09958845520322518}. Best is trial 14 with value: 0.7137255072593689.\u001b[0m\n",
      "\u001b[32m[I 2022-07-14 11:38:34,140]\u001b[0m Trial 16 finished with value: 0.5 and parameters: {'n_hidden_layers': 13, 'n_hidden_nodes': 82, 'activation': 'relu', 'learning_rate': 0.05339410749371008}. Best is trial 14 with value: 0.7137255072593689.\u001b[0m\n",
      "\u001b[32m[I 2022-07-14 11:39:00,761]\u001b[0m Trial 17 finished with value: 0.5 and parameters: {'n_hidden_layers': 7, 'n_hidden_nodes': 147, 'activation': 'relu', 'learning_rate': 0.06886984577129486}. Best is trial 14 with value: 0.7137255072593689.\u001b[0m\n",
      "\u001b[32m[I 2022-07-14 11:39:33,193]\u001b[0m Trial 18 finished with value: 0.5 and parameters: {'n_hidden_layers': 16, 'n_hidden_nodes': 119, 'activation': 'relu', 'learning_rate': 0.07969566633837231}. Best is trial 14 with value: 0.7137255072593689.\u001b[0m\n",
      "\u001b[32m[I 2022-07-14 11:39:55,936]\u001b[0m Trial 19 finished with value: 0.6411765515804291 and parameters: {'n_hidden_layers': 3, 'n_hidden_nodes': 72, 'activation': 'relu', 'learning_rate': 0.04397825074975566}. Best is trial 14 with value: 0.7137255072593689.\u001b[0m\n",
      "\u001b[32m[I 2022-07-14 11:40:22,671]\u001b[0m Trial 20 finished with value: 0.5 and parameters: {'n_hidden_layers': 9, 'n_hidden_nodes': 157, 'activation': 'softmax', 'learning_rate': 0.05984531061890844}. Best is trial 14 with value: 0.7137255072593689.\u001b[0m\n",
      "\u001b[32m[I 2022-07-14 11:40:50,239]\u001b[0m Trial 21 finished with value: 0.6783688068389893 and parameters: {'n_hidden_layers': 1, 'n_hidden_nodes': 127, 'activation': 'relu', 'learning_rate': 0.0749725144205361}. Best is trial 14 with value: 0.7137255072593689.\u001b[0m\n",
      "\u001b[32m[I 2022-07-14 11:41:14,343]\u001b[0m Trial 22 finished with value: 0.674708753824234 and parameters: {'n_hidden_layers': 3, 'n_hidden_nodes': 117, 'activation': 'relu', 'learning_rate': 0.07487033424297242}. Best is trial 14 with value: 0.7137255072593689.\u001b[0m\n",
      "\u001b[32m[I 2022-07-14 11:41:43,156]\u001b[0m Trial 23 finished with value: 0.6352443695068359 and parameters: {'n_hidden_layers': 3, 'n_hidden_nodes': 135, 'activation': 'relu', 'learning_rate': 0.07691400492865488}. Best is trial 14 with value: 0.7137255072593689.\u001b[0m\n",
      "\u001b[32m[I 2022-07-14 11:42:07,578]\u001b[0m Trial 24 finished with value: 0.5 and parameters: {'n_hidden_layers': 5, 'n_hidden_nodes': 172, 'activation': 'relu', 'learning_rate': 0.09152438372328774}. Best is trial 14 with value: 0.7137255072593689.\u001b[0m\n",
      "\u001b[32m[I 2022-07-14 11:42:32,613]\u001b[0m Trial 25 finished with value: 0.6183006763458252 and parameters: {'n_hidden_layers': 3, 'n_hidden_nodes': 96, 'activation': 'relu', 'learning_rate': 0.07442454492851773}. Best is trial 14 with value: 0.7137255072593689.\u001b[0m\n",
      "\u001b[32m[I 2022-07-14 11:42:57,049]\u001b[0m Trial 26 finished with value: 0.667732298374176 and parameters: {'n_hidden_layers': 2, 'n_hidden_nodes': 61, 'activation': 'relu', 'learning_rate': 0.09357531510832881}. Best is trial 14 with value: 0.7137255072593689.\u001b[0m\n",
      "\u001b[32m[I 2022-07-14 11:43:21,610]\u001b[0m Trial 27 finished with value: 0.523097813129425 and parameters: {'n_hidden_layers': 5, 'n_hidden_nodes': 131, 'activation': 'relu', 'learning_rate': 0.06092324673785964}. Best is trial 14 with value: 0.7137255072593689.\u001b[0m\n",
      "\u001b[32m[I 2022-07-14 11:43:46,527]\u001b[0m Trial 28 finished with value: 0.5 and parameters: {'n_hidden_layers': 7, 'n_hidden_nodes': 97, 'activation': 'relu', 'learning_rate': 0.07306345300057471}. Best is trial 14 with value: 0.7137255072593689.\u001b[0m\n",
      "\u001b[32m[I 2022-07-14 11:44:05,720]\u001b[0m Trial 29 finished with value: 0.5 and parameters: {'n_hidden_layers': 4, 'n_hidden_nodes': 220, 'activation': 'softmax', 'learning_rate': 0.0841727548939819}. Best is trial 14 with value: 0.7137255072593689.\u001b[0m\n",
      "\u001b[32m[I 2022-07-14 11:44:37,871]\u001b[0m Trial 30 finished with value: 0.6503268480300903 and parameters: {'n_hidden_layers': 2, 'n_hidden_nodes': 168, 'activation': 'softmax', 'learning_rate': 0.06422831359503985}. Best is trial 14 with value: 0.7137255072593689.\u001b[0m\n",
      "\u001b[32m[I 2022-07-14 11:45:00,280]\u001b[0m Trial 31 finished with value: 0.6549020111560822 and parameters: {'n_hidden_layers': 2, 'n_hidden_nodes': 56, 'activation': 'relu', 'learning_rate': 0.09573171627760238}. Best is trial 14 with value: 0.7137255072593689.\u001b[0m\n"
     ]
    },
    {
     "name": "stderr",
     "output_type": "stream",
     "text": [
      "\u001b[32m[I 2022-07-14 11:45:23,663]\u001b[0m Trial 32 finished with value: 0.6723501086235046 and parameters: {'n_hidden_layers': 2, 'n_hidden_nodes': 68, 'activation': 'relu', 'learning_rate': 0.09200015466246662}. Best is trial 14 with value: 0.7137255072593689.\u001b[0m\n",
      "\u001b[32m[I 2022-07-14 11:45:46,404]\u001b[0m Trial 33 finished with value: 0.5 and parameters: {'n_hidden_layers': 4, 'n_hidden_nodes': 109, 'activation': 'relu', 'learning_rate': 0.0901886553189289}. Best is trial 14 with value: 0.7137255072593689.\u001b[0m\n",
      "\u001b[32m[I 2022-07-14 11:46:08,442]\u001b[0m Trial 34 finished with value: 0.6411582827568054 and parameters: {'n_hidden_layers': 3, 'n_hidden_nodes': 81, 'activation': 'relu', 'learning_rate': 0.0804960878992818}. Best is trial 14 with value: 0.7137255072593689.\u001b[0m\n",
      "\u001b[32m[I 2022-07-14 11:46:32,427]\u001b[0m Trial 35 finished with value: 0.6787581741809845 and parameters: {'n_hidden_layers': 2, 'n_hidden_nodes': 35, 'activation': 'relu', 'learning_rate': 0.08779351293548358}. Best is trial 14 with value: 0.7137255072593689.\u001b[0m\n",
      "\u001b[32m[I 2022-07-14 11:46:57,568]\u001b[0m Trial 36 finished with value: 0.5303921699523926 and parameters: {'n_hidden_layers': 4, 'n_hidden_nodes': 27, 'activation': 'sigmoid', 'learning_rate': 0.07340884004583552}. Best is trial 14 with value: 0.7137255072593689.\u001b[0m\n",
      "\u001b[32m[I 2022-07-14 11:47:20,400]\u001b[0m Trial 37 finished with value: 0.5 and parameters: {'n_hidden_layers': 6, 'n_hidden_nodes': 44, 'activation': 'relu', 'learning_rate': 0.08527397242043981}. Best is trial 14 with value: 0.7137255072593689.\u001b[0m\n",
      "\u001b[32m[I 2022-07-14 11:47:43,822]\u001b[0m Trial 38 finished with value: 0.5 and parameters: {'n_hidden_layers': 10, 'n_hidden_nodes': 199, 'activation': 'sigmoid', 'learning_rate': 0.04657250810804616}. Best is trial 14 with value: 0.7137255072593689.\u001b[0m\n",
      "\u001b[32m[I 2022-07-14 11:48:02,249]\u001b[0m Trial 39 finished with value: 0.6570403575897217 and parameters: {'n_hidden_layers': 1, 'n_hidden_nodes': 39, 'activation': 'softmax', 'learning_rate': 0.03415301498736463}. Best is trial 14 with value: 0.7137255072593689.\u001b[0m\n",
      "\u001b[32m[I 2022-07-14 11:48:25,437]\u001b[0m Trial 40 finished with value: 0.6935137808322906 and parameters: {'n_hidden_layers': 2, 'n_hidden_nodes': 129, 'activation': 'relu', 'learning_rate': 0.08123606868824043}. Best is trial 14 with value: 0.7137255072593689.\u001b[0m\n",
      "\u001b[32m[I 2022-07-14 11:48:48,793]\u001b[0m Trial 41 finished with value: 0.6505043804645538 and parameters: {'n_hidden_layers': 2, 'n_hidden_nodes': 127, 'activation': 'relu', 'learning_rate': 0.08140227686115363}. Best is trial 14 with value: 0.7137255072593689.\u001b[0m\n",
      "\u001b[32m[I 2022-07-14 11:49:08,297]\u001b[0m Trial 42 finished with value: 0.6879795789718628 and parameters: {'n_hidden_layers': 1, 'n_hidden_nodes': 160, 'activation': 'relu', 'learning_rate': 0.08636395230675961}. Best is trial 14 with value: 0.7137255072593689.\u001b[0m\n",
      "\u001b[32m[I 2022-07-14 11:49:33,696]\u001b[0m Trial 43 finished with value: 0.6669224798679352 and parameters: {'n_hidden_layers': 1, 'n_hidden_nodes': 186, 'activation': 'relu', 'learning_rate': 0.08789781770363878}. Best is trial 14 with value: 0.7137255072593689.\u001b[0m\n",
      "\u001b[32m[I 2022-07-14 11:49:50,678]\u001b[0m Trial 44 finished with value: 0.5 and parameters: {'n_hidden_layers': 2, 'n_hidden_nodes': 278, 'activation': 'sigmoid', 'learning_rate': 0.09903819391906402}. Best is trial 14 with value: 0.7137255072593689.\u001b[0m\n",
      "\u001b[32m[I 2022-07-14 11:50:15,640]\u001b[0m Trial 45 finished with value: 0.5055555701255798 and parameters: {'n_hidden_layers': 5, 'n_hidden_nodes': 151, 'activation': 'relu', 'learning_rate': 0.06918827138080219}. Best is trial 14 with value: 0.7137255072593689.\u001b[0m\n",
      "\u001b[32m[I 2022-07-14 11:50:40,331]\u001b[0m Trial 46 finished with value: 0.6696078777313232 and parameters: {'n_hidden_layers': 1, 'n_hidden_nodes': 215, 'activation': 'relu', 'learning_rate': 0.08733963215412484}. Best is trial 14 with value: 0.7137255072593689.\u001b[0m\n",
      "\u001b[32m[I 2022-07-14 11:51:10,568]\u001b[0m Trial 47 finished with value: 0.5 and parameters: {'n_hidden_layers': 16, 'n_hidden_nodes': 165, 'activation': 'relu', 'learning_rate': 0.08002858479559975}. Best is trial 14 with value: 0.7137255072593689.\u001b[0m\n",
      "\u001b[32m[I 2022-07-14 11:51:33,871]\u001b[0m Trial 48 finished with value: 0.5 and parameters: {'n_hidden_layers': 4, 'n_hidden_nodes': 138, 'activation': 'relu', 'learning_rate': 0.0962432510543979}. Best is trial 14 with value: 0.7137255072593689.\u001b[0m\n",
      "\u001b[32m[I 2022-07-14 11:51:58,053]\u001b[0m Trial 49 finished with value: 0.5 and parameters: {'n_hidden_layers': 6, 'n_hidden_nodes': 180, 'activation': 'sigmoid', 'learning_rate': 0.02144385669222335}. Best is trial 14 with value: 0.7137255072593689.\u001b[0m\n",
      "\u001b[32m[I 2022-07-14 11:52:22,294]\u001b[0m Trial 50 finished with value: 0.6816993355751038 and parameters: {'n_hidden_layers': 1, 'n_hidden_nodes': 95, 'activation': 'relu', 'learning_rate': 0.06976021879093844}. Best is trial 14 with value: 0.7137255072593689.\u001b[0m\n",
      "\u001b[32m[I 2022-07-14 11:52:48,122]\u001b[0m Trial 51 finished with value: 0.6771242022514343 and parameters: {'n_hidden_layers': 1, 'n_hidden_nodes': 103, 'activation': 'relu', 'learning_rate': 0.07031972684860249}. Best is trial 14 with value: 0.7137255072593689.\u001b[0m\n",
      "\u001b[32m[I 2022-07-14 11:53:17,180]\u001b[0m Trial 52 finished with value: 0.6775296032428741 and parameters: {'n_hidden_layers': 2, 'n_hidden_nodes': 89, 'activation': 'relu', 'learning_rate': 0.0643890339708876}. Best is trial 14 with value: 0.7137255072593689.\u001b[0m\n",
      "\u001b[32m[I 2022-07-14 11:53:46,304]\u001b[0m Trial 53 finished with value: 0.6794472932815552 and parameters: {'n_hidden_layers': 1, 'n_hidden_nodes': 128, 'activation': 'relu', 'learning_rate': 0.07702298250848015}. Best is trial 14 with value: 0.7137255072593689.\u001b[0m\n",
      "\u001b[32m[I 2022-07-14 11:54:11,822]\u001b[0m Trial 54 finished with value: 0.6614450812339783 and parameters: {'n_hidden_layers': 3, 'n_hidden_nodes': 153, 'activation': 'relu', 'learning_rate': 0.07862808273778873}. Best is trial 14 with value: 0.7137255072593689.\u001b[0m\n",
      "\u001b[32m[I 2022-07-14 11:54:34,541]\u001b[0m Trial 55 finished with value: 0.6464052498340607 and parameters: {'n_hidden_layers': 2, 'n_hidden_nodes': 110, 'activation': 'relu', 'learning_rate': 0.08505866672185504}. Best is trial 14 with value: 0.7137255072593689.\u001b[0m\n",
      "\u001b[32m[I 2022-07-14 11:54:58,428]\u001b[0m Trial 56 finished with value: 0.637254923582077 and parameters: {'n_hidden_layers': 3, 'n_hidden_nodes': 76, 'activation': 'relu', 'learning_rate': 0.05962753419246146}. Best is trial 14 with value: 0.7137255072593689.\u001b[0m\n",
      "\u001b[32m[I 2022-07-14 11:55:21,936]\u001b[0m Trial 57 finished with value: 0.6486928164958954 and parameters: {'n_hidden_layers': 1, 'n_hidden_nodes': 123, 'activation': 'relu', 'learning_rate': 0.08843880375047394}. Best is trial 14 with value: 0.7137255072593689.\u001b[0m\n",
      "\u001b[32m[I 2022-07-14 11:55:41,486]\u001b[0m Trial 58 finished with value: 0.5 and parameters: {'n_hidden_layers': 4, 'n_hidden_nodes': 143, 'activation': 'softmax', 'learning_rate': 0.08277616397723615}. Best is trial 14 with value: 0.7137255072593689.\u001b[0m\n",
      "\u001b[32m[I 2022-07-14 11:56:06,785]\u001b[0m Trial 59 finished with value: 0.6415033042430878 and parameters: {'n_hidden_layers': 1, 'n_hidden_nodes': 92, 'activation': 'relu', 'learning_rate': 0.07702364241283631}. Best is trial 14 with value: 0.7137255072593689.\u001b[0m\n",
      "\u001b[32m[I 2022-07-14 11:56:45,113]\u001b[0m Trial 60 finished with value: 0.5 and parameters: {'n_hidden_layers': 19, 'n_hidden_nodes': 103, 'activation': 'relu', 'learning_rate': 0.051936577183058795}. Best is trial 14 with value: 0.7137255072593689.\u001b[0m\n",
      "\u001b[32m[I 2022-07-14 11:57:12,617]\u001b[0m Trial 61 finished with value: 0.6764706373214722 and parameters: {'n_hidden_layers': 2, 'n_hidden_nodes': 129, 'activation': 'relu', 'learning_rate': 0.07067709442188638}. Best is trial 14 with value: 0.7137255072593689.\u001b[0m\n",
      "\u001b[32m[I 2022-07-14 11:57:38,148]\u001b[0m Trial 62 finished with value: 0.6394260823726654 and parameters: {'n_hidden_layers': 1, 'n_hidden_nodes': 160, 'activation': 'relu', 'learning_rate': 0.07555308997764483}. Best is trial 14 with value: 0.7137255072593689.\u001b[0m\n",
      "\u001b[32m[I 2022-07-14 11:58:08,169]\u001b[0m Trial 63 finished with value: 0.63986936211586 and parameters: {'n_hidden_layers': 3, 'n_hidden_nodes': 139, 'activation': 'relu', 'learning_rate': 0.05730011667360094}. Best is trial 14 with value: 0.7137255072593689.\u001b[0m\n"
     ]
    },
    {
     "name": "stderr",
     "output_type": "stream",
     "text": [
      "\u001b[32m[I 2022-07-14 11:58:30,397]\u001b[0m Trial 64 finished with value: 0.6696363389492035 and parameters: {'n_hidden_layers': 1, 'n_hidden_nodes': 117, 'activation': 'relu', 'learning_rate': 0.08273938598480439}. Best is trial 14 with value: 0.7137255072593689.\u001b[0m\n",
      "\u001b[32m[I 2022-07-14 11:59:00,271]\u001b[0m Trial 65 finished with value: 0.6554085910320282 and parameters: {'n_hidden_layers': 2, 'n_hidden_nodes': 20, 'activation': 'relu', 'learning_rate': 0.06662398804565119}. Best is trial 14 with value: 0.7137255072593689.\u001b[0m\n",
      "\u001b[32m[I 2022-07-14 11:59:28,440]\u001b[0m Trial 66 finished with value: 0.5 and parameters: {'n_hidden_layers': 11, 'n_hidden_nodes': 49, 'activation': 'relu', 'learning_rate': 0.06214895989420262}. Best is trial 14 with value: 0.7137255072593689.\u001b[0m\n",
      "\u001b[32m[I 2022-07-14 11:59:56,326]\u001b[0m Trial 67 finished with value: 0.6638462543487549 and parameters: {'n_hidden_layers': 3, 'n_hidden_nodes': 66, 'activation': 'relu', 'learning_rate': 0.07274077966342128}. Best is trial 14 with value: 0.7137255072593689.\u001b[0m\n",
      "\u001b[32m[I 2022-07-14 12:00:17,983]\u001b[0m Trial 68 finished with value: 0.5 and parameters: {'n_hidden_layers': 4, 'n_hidden_nodes': 177, 'activation': 'softmax', 'learning_rate': 0.0008945953199287898}. Best is trial 14 with value: 0.7137255072593689.\u001b[0m\n",
      "\u001b[32m[I 2022-07-14 12:00:40,978]\u001b[0m Trial 69 finished with value: 0.6894181370735168 and parameters: {'n_hidden_layers': 1, 'n_hidden_nodes': 109, 'activation': 'relu', 'learning_rate': 0.07774773457862082}. Best is trial 14 with value: 0.7137255072593689.\u001b[0m\n",
      "\u001b[32m[I 2022-07-14 12:01:05,685]\u001b[0m Trial 70 finished with value: 0.5 and parameters: {'n_hidden_layers': 8, 'n_hidden_nodes': 107, 'activation': 'sigmoid', 'learning_rate': 0.09494344292128724}. Best is trial 14 with value: 0.7137255072593689.\u001b[0m\n",
      "\u001b[32m[I 2022-07-14 12:01:30,756]\u001b[0m Trial 71 finished with value: 0.6799601316452026 and parameters: {'n_hidden_layers': 1, 'n_hidden_nodes': 134, 'activation': 'relu', 'learning_rate': 0.07795550905951255}. Best is trial 14 with value: 0.7137255072593689.\u001b[0m\n",
      "\u001b[32m[I 2022-07-14 12:02:02,264]\u001b[0m Trial 72 finished with value: 0.6399190127849579 and parameters: {'n_hidden_layers': 2, 'n_hidden_nodes': 148, 'activation': 'relu', 'learning_rate': 0.0781714518560969}. Best is trial 14 with value: 0.7137255072593689.\u001b[0m\n",
      "\u001b[32m[I 2022-07-14 12:02:25,914]\u001b[0m Trial 73 finished with value: 0.6637254953384399 and parameters: {'n_hidden_layers': 1, 'n_hidden_nodes': 132, 'activation': 'relu', 'learning_rate': 0.09016609878288324}. Best is trial 14 with value: 0.7137255072593689.\u001b[0m\n",
      "\u001b[32m[I 2022-07-14 12:02:52,570]\u001b[0m Trial 74 finished with value: 0.6388627290725708 and parameters: {'n_hidden_layers': 3, 'n_hidden_nodes': 114, 'activation': 'relu', 'learning_rate': 0.08511355940216954}. Best is trial 14 with value: 0.7137255072593689.\u001b[0m\n",
      "\u001b[32m[I 2022-07-14 12:03:25,302]\u001b[0m Trial 75 finished with value: 0.6653594970703125 and parameters: {'n_hidden_layers': 2, 'n_hidden_nodes': 97, 'activation': 'relu', 'learning_rate': 0.07166927869250159}. Best is trial 14 with value: 0.7137255072593689.\u001b[0m\n",
      "\u001b[32m[I 2022-07-14 12:03:55,335]\u001b[0m Trial 76 finished with value: 0.5 and parameters: {'n_hidden_layers': 15, 'n_hidden_nodes': 123, 'activation': 'relu', 'learning_rate': 0.06815774940360719}. Best is trial 14 with value: 0.7137255072593689.\u001b[0m\n",
      "\u001b[32m[I 2022-07-14 12:04:22,118]\u001b[0m Trial 77 finished with value: 0.7042483389377594 and parameters: {'n_hidden_layers': 1, 'n_hidden_nodes': 87, 'activation': 'relu', 'learning_rate': 0.08111598557322447}. Best is trial 14 with value: 0.7137255072593689.\u001b[0m\n",
      "\u001b[32m[I 2022-07-14 12:04:49,019]\u001b[0m Trial 78 finished with value: 0.628237783908844 and parameters: {'n_hidden_layers': 1, 'n_hidden_nodes': 76, 'activation': 'relu', 'learning_rate': 0.07708278391957193}. Best is trial 14 with value: 0.7137255072593689.\u001b[0m\n",
      "\u001b[32m[I 2022-07-14 12:05:11,432]\u001b[0m Trial 79 finished with value: 0.6758170425891876 and parameters: {'n_hidden_layers': 1, 'n_hidden_nodes': 86, 'activation': 'relu', 'learning_rate': 0.08192889093850465}. Best is trial 14 with value: 0.7137255072593689.\u001b[0m\n",
      "\u001b[32m[I 2022-07-14 12:05:32,963]\u001b[0m Trial 80 finished with value: 0.6631855666637421 and parameters: {'n_hidden_layers': 2, 'n_hidden_nodes': 98, 'activation': 'relu', 'learning_rate': 0.07984137267370459}. Best is trial 14 with value: 0.7137255072593689.\u001b[0m\n",
      "\u001b[32m[I 2022-07-14 12:05:59,807]\u001b[0m Trial 81 finished with value: 0.6640114784240723 and parameters: {'n_hidden_layers': 1, 'n_hidden_nodes': 29, 'activation': 'relu', 'learning_rate': 0.0877219479996364}. Best is trial 14 with value: 0.7137255072593689.\u001b[0m\n",
      "\u001b[32m[I 2022-07-14 12:06:21,524]\u001b[0m Trial 82 finished with value: 0.5903452932834625 and parameters: {'n_hidden_layers': 3, 'n_hidden_nodes': 58, 'activation': 'relu', 'learning_rate': 0.0921100781434526}. Best is trial 14 with value: 0.7137255072593689.\u001b[0m\n",
      "\u001b[32m[I 2022-07-14 12:06:44,896]\u001b[0m Trial 83 finished with value: 0.6601307988166809 and parameters: {'n_hidden_layers': 2, 'n_hidden_nodes': 113, 'activation': 'relu', 'learning_rate': 0.08339974500450943}. Best is trial 14 with value: 0.7137255072593689.\u001b[0m\n",
      "\u001b[32m[I 2022-07-14 12:07:09,591]\u001b[0m Trial 84 finished with value: 0.6196789443492889 and parameters: {'n_hidden_layers': 1, 'n_hidden_nodes': 140, 'activation': 'relu', 'learning_rate': 0.0748167234851246}. Best is trial 14 with value: 0.7137255072593689.\u001b[0m\n",
      "\u001b[32m[I 2022-07-14 12:07:32,825]\u001b[0m Trial 85 finished with value: 0.6898692548274994 and parameters: {'n_hidden_layers': 2, 'n_hidden_nodes': 82, 'activation': 'relu', 'learning_rate': 0.06625873572042601}. Best is trial 14 with value: 0.7137255072593689.\u001b[0m\n",
      "\u001b[32m[I 2022-07-14 12:07:50,905]\u001b[0m Trial 86 finished with value: 0.5 and parameters: {'n_hidden_layers': 3, 'n_hidden_nodes': 80, 'activation': 'softmax', 'learning_rate': 0.06667880503810181}. Best is trial 14 with value: 0.7137255072593689.\u001b[0m\n",
      "\u001b[32m[I 2022-07-14 12:08:16,662]\u001b[0m Trial 87 finished with value: 0.6788767278194427 and parameters: {'n_hidden_layers': 5, 'n_hidden_nodes': 92, 'activation': 'relu', 'learning_rate': 0.04038773778045434}. Best is trial 14 with value: 0.7137255072593689.\u001b[0m\n",
      "\u001b[32m[I 2022-07-14 12:08:44,355]\u001b[0m Trial 88 finished with value: 0.6539216339588165 and parameters: {'n_hidden_layers': 2, 'n_hidden_nodes': 69, 'activation': 'sigmoid', 'learning_rate': 0.06336139379844302}. Best is trial 14 with value: 0.7137255072593689.\u001b[0m\n",
      "\u001b[32m[I 2022-07-14 12:09:09,426]\u001b[0m Trial 89 finished with value: 0.6828644573688507 and parameters: {'n_hidden_layers': 1, 'n_hidden_nodes': 103, 'activation': 'relu', 'learning_rate': 0.07371053589718085}. Best is trial 14 with value: 0.7137255072593689.\u001b[0m\n",
      "\u001b[32m[I 2022-07-14 12:09:30,529]\u001b[0m Trial 90 finished with value: 0.6395638287067413 and parameters: {'n_hidden_layers': 4, 'n_hidden_nodes': 85, 'activation': 'relu', 'learning_rate': 0.056341289613323076}. Best is trial 14 with value: 0.7137255072593689.\u001b[0m\n",
      "\u001b[32m[I 2022-07-14 12:09:50,228]\u001b[0m Trial 91 finished with value: 0.6850822567939758 and parameters: {'n_hidden_layers': 1, 'n_hidden_nodes': 106, 'activation': 'relu', 'learning_rate': 0.07271600003633402}. Best is trial 14 with value: 0.7137255072593689.\u001b[0m\n",
      "\u001b[32m[I 2022-07-14 12:10:13,121]\u001b[0m Trial 92 finished with value: 0.645019918680191 and parameters: {'n_hidden_layers': 1, 'n_hidden_nodes': 104, 'activation': 'relu', 'learning_rate': 0.07081086361540659}. Best is trial 14 with value: 0.7137255072593689.\u001b[0m\n",
      "\u001b[32m[I 2022-07-14 12:10:34,087]\u001b[0m Trial 93 finished with value: 0.6703964471817017 and parameters: {'n_hidden_layers': 2, 'n_hidden_nodes': 99, 'activation': 'relu', 'learning_rate': 0.06727561547979152}. Best is trial 14 with value: 0.7137255072593689.\u001b[0m\n",
      "\u001b[32m[I 2022-07-14 12:10:58,658]\u001b[0m Trial 94 finished with value: 0.6723145544528961 and parameters: {'n_hidden_layers': 1, 'n_hidden_nodes': 91, 'activation': 'relu', 'learning_rate': 0.07359802431272744}. Best is trial 14 with value: 0.7137255072593689.\u001b[0m\n",
      "\u001b[32m[I 2022-07-14 12:11:23,948]\u001b[0m Trial 95 finished with value: 0.6399261057376862 and parameters: {'n_hidden_layers': 3, 'n_hidden_nodes': 122, 'activation': 'relu', 'learning_rate': 0.08090471201405129}. Best is trial 14 with value: 0.7137255072593689.\u001b[0m\n"
     ]
    },
    {
     "name": "stderr",
     "output_type": "stream",
     "text": [
      "\u001b[32m[I 2022-07-14 12:11:48,553]\u001b[0m Trial 96 finished with value: 0.676470547914505 and parameters: {'n_hidden_layers': 2, 'n_hidden_nodes': 110, 'activation': 'relu', 'learning_rate': 0.07535288828876766}. Best is trial 14 with value: 0.7137255072593689.\u001b[0m\n",
      "\u001b[32m[I 2022-07-14 12:12:12,160]\u001b[0m Trial 97 finished with value: 0.6700372099876404 and parameters: {'n_hidden_layers': 1, 'n_hidden_nodes': 116, 'activation': 'relu', 'learning_rate': 0.07850999480709339}. Best is trial 14 with value: 0.7137255072593689.\u001b[0m\n",
      "\u001b[32m[I 2022-07-14 12:12:36,460]\u001b[0m Trial 98 finished with value: 0.6415033340454102 and parameters: {'n_hidden_layers': 2, 'n_hidden_nodes': 77, 'activation': 'relu', 'learning_rate': 0.06873575603504913}. Best is trial 14 with value: 0.7137255072593689.\u001b[0m\n",
      "\u001b[32m[I 2022-07-14 12:13:06,097]\u001b[0m Trial 99 finished with value: 0.672577440738678 and parameters: {'n_hidden_layers': 1, 'n_hidden_nodes': 65, 'activation': 'relu', 'learning_rate': 0.06471151806293074}. Best is trial 14 with value: 0.7137255072593689.\u001b[0m\n",
      "\u001b[32m[I 2022-07-14 12:13:27,358]\u001b[0m Trial 100 finished with value: 0.687531977891922 and parameters: {'n_hidden_layers': 2, 'n_hidden_nodes': 134, 'activation': 'relu', 'learning_rate': 0.07185936581893597}. Best is trial 14 with value: 0.7137255072593689.\u001b[0m\n",
      "\u001b[32m[I 2022-07-14 12:13:51,898]\u001b[0m Trial 101 finished with value: 0.6358198523521423 and parameters: {'n_hidden_layers': 2, 'n_hidden_nodes': 106, 'activation': 'relu', 'learning_rate': 0.071898090316509}. Best is trial 14 with value: 0.7137255072593689.\u001b[0m\n",
      "\u001b[32m[I 2022-07-14 12:14:21,980]\u001b[0m Trial 102 finished with value: 0.67730712890625 and parameters: {'n_hidden_layers': 1, 'n_hidden_nodes': 94, 'activation': 'relu', 'learning_rate': 0.05849525422568709}. Best is trial 14 with value: 0.7137255072593689.\u001b[0m\n",
      "\u001b[32m[I 2022-07-14 12:14:48,459]\u001b[0m Trial 103 finished with value: 0.7046248912811279 and parameters: {'n_hidden_layers': 2, 'n_hidden_nodes': 156, 'activation': 'relu', 'learning_rate': 0.069735677019444}. Best is trial 14 with value: 0.7137255072593689.\u001b[0m\n",
      "\u001b[32m[I 2022-07-14 12:15:20,447]\u001b[0m Trial 104 finished with value: 0.6656503081321716 and parameters: {'n_hidden_layers': 3, 'n_hidden_nodes': 162, 'activation': 'relu', 'learning_rate': 0.06144543183860085}. Best is trial 14 with value: 0.7137255072593689.\u001b[0m\n",
      "\u001b[32m[I 2022-07-14 12:15:43,799]\u001b[0m Trial 105 finished with value: 0.6742328107357025 and parameters: {'n_hidden_layers': 2, 'n_hidden_nodes': 102, 'activation': 'relu', 'learning_rate': 0.06964895463710316}. Best is trial 14 with value: 0.7137255072593689.\u001b[0m\n",
      "\u001b[32m[I 2022-07-14 12:16:15,080]\u001b[0m Trial 106 finished with value: 0.6058823764324188 and parameters: {'n_hidden_layers': 2, 'n_hidden_nodes': 154, 'activation': 'softmax', 'learning_rate': 0.07340369274219301}. Best is trial 14 with value: 0.7137255072593689.\u001b[0m\n",
      "\u001b[32m[I 2022-07-14 12:16:34,375]\u001b[0m Trial 107 finished with value: 0.5 and parameters: {'n_hidden_layers': 3, 'n_hidden_nodes': 170, 'activation': 'sigmoid', 'learning_rate': 0.06544430518099556}. Best is trial 14 with value: 0.7137255072593689.\u001b[0m\n",
      "\u001b[32m[I 2022-07-14 12:17:00,013]\u001b[0m Trial 108 finished with value: 0.698039174079895 and parameters: {'n_hidden_layers': 1, 'n_hidden_nodes': 123, 'activation': 'relu', 'learning_rate': 0.08614473069498862}. Best is trial 14 with value: 0.7137255072593689.\u001b[0m\n",
      "\u001b[32m[I 2022-07-14 12:17:30,537]\u001b[0m Trial 109 finished with value: 0.5 and parameters: {'n_hidden_layers': 13, 'n_hidden_nodes': 146, 'activation': 'relu', 'learning_rate': 0.08983559497520371}. Best is trial 14 with value: 0.7137255072593689.\u001b[0m\n",
      "\u001b[32m[I 2022-07-14 12:17:57,917]\u001b[0m Trial 110 finished with value: 0.5111111104488373 and parameters: {'n_hidden_layers': 4, 'n_hidden_nodes': 124, 'activation': 'relu', 'learning_rate': 0.08457280016995987}. Best is trial 14 with value: 0.7137255072593689.\u001b[0m\n",
      "\u001b[32m[I 2022-07-14 12:18:23,832]\u001b[0m Trial 111 finished with value: 0.668828159570694 and parameters: {'n_hidden_layers': 1, 'n_hidden_nodes': 86, 'activation': 'relu', 'learning_rate': 0.07490494624561073}. Best is trial 14 with value: 0.7137255072593689.\u001b[0m\n",
      "\u001b[32m[I 2022-07-14 12:19:04,397]\u001b[0m Trial 112 finished with value: 0.6879085302352905 and parameters: {'n_hidden_layers': 1, 'n_hidden_nodes': 119, 'activation': 'relu', 'learning_rate': 0.012338988504953866}. Best is trial 14 with value: 0.7137255072593689.\u001b[0m\n",
      "\u001b[32m[I 2022-07-14 12:19:25,961]\u001b[0m Trial 113 finished with value: 0.671362578868866 and parameters: {'n_hidden_layers': 2, 'n_hidden_nodes': 118, 'activation': 'relu', 'learning_rate': 0.01523870856996684}. Best is trial 14 with value: 0.7137255072593689.\u001b[0m\n",
      "\u001b[32m[I 2022-07-14 12:19:52,622]\u001b[0m Trial 114 finished with value: 0.6770531237125397 and parameters: {'n_hidden_layers': 1, 'n_hidden_nodes': 110, 'activation': 'relu', 'learning_rate': 0.030725370605960152}. Best is trial 14 with value: 0.7137255072593689.\u001b[0m\n",
      "\u001b[32m[I 2022-07-14 12:20:22,462]\u001b[0m Trial 115 finished with value: 0.7187482714653015 and parameters: {'n_hidden_layers': 1, 'n_hidden_nodes': 134, 'activation': 'relu', 'learning_rate': 0.010608419991241444}. Best is trial 115 with value: 0.7187482714653015.\u001b[0m\n",
      "\u001b[32m[I 2022-07-14 12:20:46,549]\u001b[0m Trial 116 finished with value: 0.6503268182277679 and parameters: {'n_hidden_layers': 2, 'n_hidden_nodes': 136, 'activation': 'relu', 'learning_rate': 0.013330490331194655}. Best is trial 115 with value: 0.7187482714653015.\u001b[0m\n",
      "\u001b[32m[I 2022-07-14 12:21:16,858]\u001b[0m Trial 117 finished with value: 0.5 and parameters: {'n_hidden_layers': 17, 'n_hidden_nodes': 144, 'activation': 'relu', 'learning_rate': 0.006250595110346377}. Best is trial 115 with value: 0.7187482714653015.\u001b[0m\n",
      "\u001b[32m[I 2022-07-14 12:21:46,970]\u001b[0m Trial 118 finished with value: 0.608496755361557 and parameters: {'n_hidden_layers': 1, 'n_hidden_nodes': 130, 'activation': 'relu', 'learning_rate': 0.009670662020992963}. Best is trial 115 with value: 0.7187482714653015.\u001b[0m\n",
      "\u001b[32m[I 2022-07-14 12:22:11,360]\u001b[0m Trial 119 finished with value: 0.6375248432159424 and parameters: {'n_hidden_layers': 3, 'n_hidden_nodes': 153, 'activation': 'relu', 'learning_rate': 0.019572912350957417}. Best is trial 115 with value: 0.7187482714653015.\u001b[0m\n",
      "\u001b[32m[I 2022-07-14 12:22:38,020]\u001b[0m Trial 120 finished with value: 0.6477124392986298 and parameters: {'n_hidden_layers': 2, 'n_hidden_nodes': 157, 'activation': 'relu', 'learning_rate': 0.08603025159781788}. Best is trial 115 with value: 0.7187482714653015.\u001b[0m\n",
      "\u001b[32m[I 2022-07-14 12:23:04,216]\u001b[0m Trial 121 finished with value: 0.7074808776378632 and parameters: {'n_hidden_layers': 1, 'n_hidden_nodes': 125, 'activation': 'relu', 'learning_rate': 0.0798511991719892}. Best is trial 115 with value: 0.7187482714653015.\u001b[0m\n",
      "\u001b[32m[I 2022-07-14 12:23:24,892]\u001b[0m Trial 122 finished with value: 0.6532680094242096 and parameters: {'n_hidden_layers': 1, 'n_hidden_nodes': 125, 'activation': 'relu', 'learning_rate': 0.08003509572468318}. Best is trial 115 with value: 0.7187482714653015.\u001b[0m\n",
      "\u001b[32m[I 2022-07-14 12:23:51,128]\u001b[0m Trial 123 finished with value: 0.7059223055839539 and parameters: {'n_hidden_layers': 2, 'n_hidden_nodes': 135, 'activation': 'relu', 'learning_rate': 0.08274222004654785}. Best is trial 115 with value: 0.7187482714653015.\u001b[0m\n",
      "\u001b[32m[I 2022-07-14 12:24:17,555]\u001b[0m Trial 124 finished with value: 0.6529412269592285 and parameters: {'n_hidden_layers': 2, 'n_hidden_nodes': 137, 'activation': 'relu', 'learning_rate': 0.0827482298838887}. Best is trial 115 with value: 0.7187482714653015.\u001b[0m\n",
      "\u001b[32m[I 2022-07-14 12:24:39,811]\u001b[0m Trial 125 finished with value: 0.6344629228115082 and parameters: {'n_hidden_layers': 3, 'n_hidden_nodes': 132, 'activation': 'relu', 'learning_rate': 0.08658553430302046}. Best is trial 115 with value: 0.7187482714653015.\u001b[0m\n",
      "\u001b[32m[I 2022-07-14 12:25:04,480]\u001b[0m Trial 126 finished with value: 0.6633987128734589 and parameters: {'n_hidden_layers': 2, 'n_hidden_nodes': 149, 'activation': 'relu', 'learning_rate': 0.08218447776115456}. Best is trial 115 with value: 0.7187482714653015.\u001b[0m\n",
      "\u001b[32m[I 2022-07-14 12:25:26,342]\u001b[0m Trial 127 finished with value: 0.6834399402141571 and parameters: {'n_hidden_layers': 1, 'n_hidden_nodes': 140, 'activation': 'relu', 'learning_rate': 0.012934225694123992}. Best is trial 115 with value: 0.7187482714653015.\u001b[0m\n"
     ]
    },
    {
     "name": "stderr",
     "output_type": "stream",
     "text": [
      "\u001b[32m[I 2022-07-14 12:25:56,365]\u001b[0m Trial 128 finished with value: 0.6886082589626312 and parameters: {'n_hidden_layers': 2, 'n_hidden_nodes': 119, 'activation': 'softmax', 'learning_rate': 0.04916102667958574}. Best is trial 115 with value: 0.7187482714653015.\u001b[0m\n",
      "\u001b[32m[I 2022-07-14 12:26:20,456]\u001b[0m Trial 129 finished with value: 0.5 and parameters: {'n_hidden_layers': 9, 'n_hidden_nodes': 190, 'activation': 'softmax', 'learning_rate': 0.04833490089478498}. Best is trial 115 with value: 0.7187482714653015.\u001b[0m\n",
      "\u001b[32m[I 2022-07-14 12:26:38,606]\u001b[0m Trial 130 finished with value: 0.5 and parameters: {'n_hidden_layers': 3, 'n_hidden_nodes': 121, 'activation': 'softmax', 'learning_rate': 0.028730544703269807}. Best is trial 115 with value: 0.7187482714653015.\u001b[0m\n",
      "\u001b[32m[I 2022-07-14 12:27:11,210]\u001b[0m Trial 131 finished with value: 0.609477162361145 and parameters: {'n_hidden_layers': 2, 'n_hidden_nodes': 115, 'activation': 'softmax', 'learning_rate': 0.00413645261360541}. Best is trial 115 with value: 0.7187482714653015.\u001b[0m\n",
      "\u001b[32m[I 2022-07-14 12:27:36,512]\u001b[0m Trial 132 finished with value: 0.646419495344162 and parameters: {'n_hidden_layers': 1, 'n_hidden_nodes': 128, 'activation': 'softmax', 'learning_rate': 0.03650611387722183}. Best is trial 115 with value: 0.7187482714653015.\u001b[0m\n",
      "\u001b[32m[I 2022-07-14 12:28:05,575]\u001b[0m Trial 133 finished with value: 0.6529411971569061 and parameters: {'n_hidden_layers': 2, 'n_hidden_nodes': 175, 'activation': 'softmax', 'learning_rate': 0.0768930329906279}. Best is trial 115 with value: 0.7187482714653015.\u001b[0m\n",
      "\u001b[32m[I 2022-07-14 12:28:28,320]\u001b[0m Trial 134 finished with value: 0.6797385811805725 and parameters: {'n_hidden_layers': 2, 'n_hidden_nodes': 166, 'activation': 'relu', 'learning_rate': 0.07967451709264}. Best is trial 115 with value: 0.7187482714653015.\u001b[0m\n",
      "\u001b[32m[I 2022-07-14 12:28:58,543]\u001b[0m Trial 135 finished with value: 0.6134910583496094 and parameters: {'n_hidden_layers': 1, 'n_hidden_nodes': 134, 'activation': 'sigmoid', 'learning_rate': 0.08920900534336715}. Best is trial 115 with value: 0.7187482714653015.\u001b[0m\n",
      "\u001b[32m[I 2022-07-14 12:29:24,078]\u001b[0m Trial 136 finished with value: 0.6368855535984039 and parameters: {'n_hidden_layers': 3, 'n_hidden_nodes': 119, 'activation': 'relu', 'learning_rate': 0.04284743303793527}. Best is trial 115 with value: 0.7187482714653015.\u001b[0m\n",
      "\u001b[32m[I 2022-07-14 12:29:44,191]\u001b[0m Trial 137 finished with value: 0.6939400434494019 and parameters: {'n_hidden_layers': 1, 'n_hidden_nodes': 142, 'activation': 'relu', 'learning_rate': 0.08361118613982058}. Best is trial 115 with value: 0.7187482714653015.\u001b[0m\n",
      "\u001b[32m[I 2022-07-14 12:30:06,694]\u001b[0m Trial 138 finished with value: 0.691787451505661 and parameters: {'n_hidden_layers': 1, 'n_hidden_nodes': 300, 'activation': 'relu', 'learning_rate': 0.08459021502859593}. Best is trial 115 with value: 0.7187482714653015.\u001b[0m\n",
      "\u001b[32m[I 2022-07-14 12:30:28,398]\u001b[0m Trial 139 finished with value: 0.6613553166389465 and parameters: {'n_hidden_layers': 1, 'n_hidden_nodes': 236, 'activation': 'relu', 'learning_rate': 0.084089396224721}. Best is trial 115 with value: 0.7187482714653015.\u001b[0m\n",
      "\u001b[32m[I 2022-07-14 12:30:52,592]\u001b[0m Trial 140 finished with value: 0.7142654955387115 and parameters: {'n_hidden_layers': 1, 'n_hidden_nodes': 287, 'activation': 'relu', 'learning_rate': 0.08670881582143741}. Best is trial 115 with value: 0.7187482714653015.\u001b[0m\n",
      "\u001b[32m[I 2022-07-14 12:31:11,706]\u001b[0m Trial 141 finished with value: 0.703530877828598 and parameters: {'n_hidden_layers': 1, 'n_hidden_nodes': 298, 'activation': 'relu', 'learning_rate': 0.09172979034191421}. Best is trial 115 with value: 0.7187482714653015.\u001b[0m\n",
      "\u001b[32m[I 2022-07-14 12:31:35,939]\u001b[0m Trial 142 finished with value: 0.6733984649181366 and parameters: {'n_hidden_layers': 1, 'n_hidden_nodes': 291, 'activation': 'relu', 'learning_rate': 0.0934836941892947}. Best is trial 115 with value: 0.7187482714653015.\u001b[0m\n",
      "\u001b[32m[I 2022-07-14 12:31:59,167]\u001b[0m Trial 143 finished with value: 0.6735294163227081 and parameters: {'n_hidden_layers': 1, 'n_hidden_nodes': 299, 'activation': 'relu', 'learning_rate': 0.096856368876964}. Best is trial 115 with value: 0.7187482714653015.\u001b[0m\n",
      "\u001b[32m[I 2022-07-14 12:32:22,804]\u001b[0m Trial 144 finished with value: 0.6517476439476013 and parameters: {'n_hidden_layers': 2, 'n_hidden_nodes': 285, 'activation': 'relu', 'learning_rate': 0.09168744187534765}. Best is trial 115 with value: 0.7187482714653015.\u001b[0m\n",
      "\u001b[32m[I 2022-07-14 12:32:46,837]\u001b[0m Trial 145 finished with value: 0.6790481507778168 and parameters: {'n_hidden_layers': 1, 'n_hidden_nodes': 279, 'activation': 'relu', 'learning_rate': 0.08738418728751221}. Best is trial 115 with value: 0.7187482714653015.\u001b[0m\n",
      "\u001b[32m[I 2022-07-14 12:33:12,360]\u001b[0m Trial 146 finished with value: 0.5 and parameters: {'n_hidden_layers': 10, 'n_hidden_nodes': 296, 'activation': 'relu', 'learning_rate': 0.08101352169896688}. Best is trial 115 with value: 0.7187482714653015.\u001b[0m\n",
      "\u001b[32m[I 2022-07-14 12:33:34,538]\u001b[0m Trial 147 finished with value: 0.6490195989608765 and parameters: {'n_hidden_layers': 2, 'n_hidden_nodes': 278, 'activation': 'relu', 'learning_rate': 0.08594304655503043}. Best is trial 115 with value: 0.7187482714653015.\u001b[0m\n",
      "\u001b[32m[I 2022-07-14 12:34:00,586]\u001b[0m Trial 148 finished with value: 0.6609263718128204 and parameters: {'n_hidden_layers': 1, 'n_hidden_nodes': 288, 'activation': 'softmax', 'learning_rate': 0.08386325869645585}. Best is trial 115 with value: 0.7187482714653015.\u001b[0m\n",
      "\u001b[32m[I 2022-07-14 12:34:28,174]\u001b[0m Trial 149 finished with value: 0.6527990698814392 and parameters: {'n_hidden_layers': 1, 'n_hidden_nodes': 298, 'activation': 'relu', 'learning_rate': 0.08904361985163535}. Best is trial 115 with value: 0.7187482714653015.\u001b[0m\n"
     ]
    }
   ],
   "source": [
    "study_is_sig3 = optuna.create_study(direction='maximize')\n",
    "study_is_sig3.optimize(compute_mlp_performance, n_trials=150)"
   ]
  },
  {
   "cell_type": "code",
   "execution_count": 15,
   "id": "bd124228",
   "metadata": {},
   "outputs": [
    {
     "name": "stderr",
     "output_type": "stream",
     "text": [
      "\u001b[32m[I 2022-07-14 12:34:50,675]\u001b[0m Trial 150 finished with value: 0.6198848783969879 and parameters: {'n_hidden_layers': 2, 'n_hidden_nodes': 261, 'activation': 'relu', 'learning_rate': 0.053063599474797024}. Best is trial 115 with value: 0.7187482714653015.\u001b[0m\n",
      "\u001b[32m[I 2022-07-14 12:35:19,953]\u001b[0m Trial 151 finished with value: 0.6887255012989044 and parameters: {'n_hidden_layers': 1, 'n_hidden_nodes': 283, 'activation': 'relu', 'learning_rate': 0.0854453168614925}. Best is trial 115 with value: 0.7187482714653015.\u001b[0m\n",
      "\u001b[32m[I 2022-07-14 12:35:48,296]\u001b[0m Trial 152 finished with value: 0.6287582218647003 and parameters: {'n_hidden_layers': 1, 'n_hidden_nodes': 284, 'activation': 'relu', 'learning_rate': 0.0814079694140132}. Best is trial 115 with value: 0.7187482714653015.\u001b[0m\n",
      "\u001b[32m[I 2022-07-14 12:36:21,564]\u001b[0m Trial 153 finished with value: 0.655430793762207 and parameters: {'n_hidden_layers': 2, 'n_hidden_nodes': 293, 'activation': 'relu', 'learning_rate': 0.09413627181702301}. Best is trial 115 with value: 0.7187482714653015.\u001b[0m\n",
      "\u001b[32m[I 2022-07-14 12:36:46,127]\u001b[0m Trial 154 finished with value: 0.7130719423294067 and parameters: {'n_hidden_layers': 1, 'n_hidden_nodes': 212, 'activation': 'relu', 'learning_rate': 0.08490148885507266}. Best is trial 115 with value: 0.7187482714653015.\u001b[0m\n",
      "\u001b[32m[I 2022-07-14 12:37:09,741]\u001b[0m Trial 155 finished with value: 0.6486999690532684 and parameters: {'n_hidden_layers': 1, 'n_hidden_nodes': 262, 'activation': 'relu', 'learning_rate': 0.09078673274138296}. Best is trial 115 with value: 0.7187482714653015.\u001b[0m\n",
      "\u001b[32m[I 2022-07-14 12:37:32,298]\u001b[0m Trial 156 finished with value: 0.6474495232105255 and parameters: {'n_hidden_layers': 1, 'n_hidden_nodes': 269, 'activation': 'relu', 'learning_rate': 0.08543989502528429}. Best is trial 115 with value: 0.7187482714653015.\u001b[0m\n",
      "\u001b[32m[I 2022-07-14 12:37:54,569]\u001b[0m Trial 157 finished with value: 0.5 and parameters: {'n_hidden_layers': 8, 'n_hidden_nodes': 210, 'activation': 'relu', 'learning_rate': 0.08375607728843786}. Best is trial 115 with value: 0.7187482714653015.\u001b[0m\n",
      "\u001b[32m[I 2022-07-14 12:38:14,343]\u001b[0m Trial 158 finished with value: 0.6960922181606293 and parameters: {'n_hidden_layers': 1, 'n_hidden_nodes': 253, 'activation': 'relu', 'learning_rate': 0.07752640249992604}. Best is trial 115 with value: 0.7187482714653015.\u001b[0m\n",
      "\u001b[32m[I 2022-07-14 12:38:36,140]\u001b[0m Trial 159 finished with value: 0.6532680094242096 and parameters: {'n_hidden_layers': 1, 'n_hidden_nodes': 252, 'activation': 'relu', 'learning_rate': 0.07662701537462652}. Best is trial 115 with value: 0.7187482714653015.\u001b[0m\n",
      "\u001b[32m[I 2022-07-14 12:39:01,468]\u001b[0m Trial 160 finished with value: 0.6557189226150513 and parameters: {'n_hidden_layers': 2, 'n_hidden_nodes': 234, 'activation': 'relu', 'learning_rate': 0.07837065321830795}. Best is trial 115 with value: 0.7187482714653015.\u001b[0m\n",
      "\u001b[32m[I 2022-07-14 12:39:25,893]\u001b[0m Trial 161 finished with value: 0.6787581741809845 and parameters: {'n_hidden_layers': 1, 'n_hidden_nodes': 278, 'activation': 'relu', 'learning_rate': 0.0822981331440108}. Best is trial 115 with value: 0.7187482714653015.\u001b[0m\n",
      "\u001b[32m[I 2022-07-14 12:39:55,309]\u001b[0m Trial 162 finished with value: 0.6917457282543182 and parameters: {'n_hidden_layers': 1, 'n_hidden_nodes': 291, 'activation': 'relu', 'learning_rate': 0.08784815186679465}. Best is trial 115 with value: 0.7187482714653015.\u001b[0m\n",
      "\u001b[32m[I 2022-07-14 12:40:18,283]\u001b[0m Trial 163 finished with value: 0.6699346601963043 and parameters: {'n_hidden_layers': 1, 'n_hidden_nodes': 270, 'activation': 'relu', 'learning_rate': 0.0888172638951207}. Best is trial 115 with value: 0.7187482714653015.\u001b[0m\n",
      "\u001b[32m[I 2022-07-14 12:40:43,595]\u001b[0m Trial 164 finished with value: 0.671746701002121 and parameters: {'n_hidden_layers': 2, 'n_hidden_nodes': 291, 'activation': 'relu', 'learning_rate': 0.08046881471775154}. Best is trial 115 with value: 0.7187482714653015.\u001b[0m\n",
      "\u001b[32m[I 2022-07-14 12:41:08,760]\u001b[0m Trial 165 finished with value: 0.6436620950698853 and parameters: {'n_hidden_layers': 1, 'n_hidden_nodes': 295, 'activation': 'relu', 'learning_rate': 0.08698453755054829}. Best is trial 115 with value: 0.7187482714653015.\u001b[0m\n",
      "\u001b[32m[I 2022-07-14 12:41:31,047]\u001b[0m Trial 166 finished with value: 0.6940395534038544 and parameters: {'n_hidden_layers': 2, 'n_hidden_nodes': 298, 'activation': 'relu', 'learning_rate': 0.08312138389944704}. Best is trial 115 with value: 0.7187482714653015.\u001b[0m\n",
      "\u001b[32m[I 2022-07-14 12:41:57,633]\u001b[0m Trial 167 finished with value: 0.6723287999629974 and parameters: {'n_hidden_layers': 2, 'n_hidden_nodes': 289, 'activation': 'relu', 'learning_rate': 0.08385353069311531}. Best is trial 115 with value: 0.7187482714653015.\u001b[0m\n",
      "\u001b[32m[I 2022-07-14 12:42:20,281]\u001b[0m Trial 168 finished with value: 0.534828782081604 and parameters: {'n_hidden_layers': 3, 'n_hidden_nodes': 245, 'activation': 'relu', 'learning_rate': 0.09179080312641401}. Best is trial 115 with value: 0.7187482714653015.\u001b[0m\n",
      "\u001b[32m[I 2022-07-14 12:42:37,061]\u001b[0m Trial 169 finished with value: 0.5 and parameters: {'n_hidden_layers': 2, 'n_hidden_nodes': 144, 'activation': 'sigmoid', 'learning_rate': 0.08717642317873507}. Best is trial 115 with value: 0.7187482714653015.\u001b[0m\n",
      "\u001b[32m[I 2022-07-14 12:42:59,381]\u001b[0m Trial 170 finished with value: 0.6905228495597839 and parameters: {'n_hidden_layers': 1, 'n_hidden_nodes': 299, 'activation': 'relu', 'learning_rate': 0.09828551146465271}. Best is trial 115 with value: 0.7187482714653015.\u001b[0m\n",
      "\u001b[32m[I 2022-07-14 12:43:23,725]\u001b[0m Trial 171 finished with value: 0.6808454990386963 and parameters: {'n_hidden_layers': 1, 'n_hidden_nodes': 272, 'activation': 'relu', 'learning_rate': 0.0971829130247853}. Best is trial 115 with value: 0.7187482714653015.\u001b[0m\n",
      "\u001b[32m[I 2022-07-14 12:43:45,588]\u001b[0m Trial 172 finished with value: 0.6633987128734589 and parameters: {'n_hidden_layers': 1, 'n_hidden_nodes': 298, 'activation': 'relu', 'learning_rate': 0.0983210252827031}. Best is trial 115 with value: 0.7187482714653015.\u001b[0m\n",
      "\u001b[32m[I 2022-07-14 12:44:05,595]\u001b[0m Trial 173 finished with value: 0.6703040599822998 and parameters: {'n_hidden_layers': 1, 'n_hidden_nodes': 222, 'activation': 'relu', 'learning_rate': 0.09325571342665127}. Best is trial 115 with value: 0.7187482714653015.\u001b[0m\n",
      "\u001b[32m[I 2022-07-14 12:44:31,337]\u001b[0m Trial 174 finished with value: 0.6454958617687225 and parameters: {'n_hidden_layers': 2, 'n_hidden_nodes': 300, 'activation': 'relu', 'learning_rate': 0.08217357270301566}. Best is trial 115 with value: 0.7187482714653015.\u001b[0m\n",
      "\u001b[32m[I 2022-07-14 12:44:59,349]\u001b[0m Trial 175 finished with value: 0.6901961266994476 and parameters: {'n_hidden_layers': 2, 'n_hidden_nodes': 292, 'activation': 'relu', 'learning_rate': 0.08994090169400981}. Best is trial 115 with value: 0.7187482714653015.\u001b[0m\n",
      "\u001b[32m[I 2022-07-14 12:45:26,990]\u001b[0m Trial 176 finished with value: 0.6750275194644928 and parameters: {'n_hidden_layers': 1, 'n_hidden_nodes': 293, 'activation': 'relu', 'learning_rate': 0.09020421931213334}. Best is trial 115 with value: 0.7187482714653015.\u001b[0m\n",
      "\u001b[32m[I 2022-07-14 12:45:56,323]\u001b[0m Trial 177 finished with value: 0.668662965297699 and parameters: {'n_hidden_layers': 2, 'n_hidden_nodes': 287, 'activation': 'relu', 'learning_rate': 0.09927567056072874}. Best is trial 115 with value: 0.7187482714653015.\u001b[0m\n",
      "\u001b[32m[I 2022-07-14 12:46:25,424]\u001b[0m Trial 178 finished with value: 0.6643791198730469 and parameters: {'n_hidden_layers': 1, 'n_hidden_nodes': 293, 'activation': 'relu', 'learning_rate': 0.09523840522122211}. Best is trial 115 with value: 0.7187482714653015.\u001b[0m\n",
      "\u001b[32m[I 2022-07-14 12:46:52,634]\u001b[0m Trial 179 finished with value: 0.5 and parameters: {'n_hidden_layers': 7, 'n_hidden_nodes': 283, 'activation': 'relu', 'learning_rate': 0.07968880738536296}. Best is trial 115 with value: 0.7187482714653015.\u001b[0m\n",
      "\u001b[32m[I 2022-07-14 12:47:15,130]\u001b[0m Trial 180 finished with value: 0.6941176950931549 and parameters: {'n_hidden_layers': 1, 'n_hidden_nodes': 298, 'activation': 'relu', 'learning_rate': 0.08838647437328884}. Best is trial 115 with value: 0.7187482714653015.\u001b[0m\n",
      "\u001b[32m[I 2022-07-14 12:47:37,370]\u001b[0m Trial 181 finished with value: 0.6940536499023438 and parameters: {'n_hidden_layers': 1, 'n_hidden_nodes': 298, 'activation': 'relu', 'learning_rate': 0.08764067944106926}. Best is trial 115 with value: 0.7187482714653015.\u001b[0m\n"
     ]
    },
    {
     "name": "stderr",
     "output_type": "stream",
     "text": [
      "\u001b[32m[I 2022-07-14 12:48:02,175]\u001b[0m Trial 182 finished with value: 0.6780193150043488 and parameters: {'n_hidden_layers': 1, 'n_hidden_nodes': 298, 'activation': 'relu', 'learning_rate': 0.08790079530717204}. Best is trial 115 with value: 0.7187482714653015.\u001b[0m\n",
      "\u001b[32m[I 2022-07-14 12:48:26,295]\u001b[0m Trial 183 finished with value: 0.676679253578186 and parameters: {'n_hidden_layers': 1, 'n_hidden_nodes': 300, 'activation': 'relu', 'learning_rate': 0.08459602366709067}. Best is trial 115 with value: 0.7187482714653015.\u001b[0m\n",
      "\u001b[32m[I 2022-07-14 12:48:49,728]\u001b[0m Trial 184 finished with value: 0.686601310968399 and parameters: {'n_hidden_layers': 1, 'n_hidden_nodes': 300, 'activation': 'relu', 'learning_rate': 0.08661472761685511}. Best is trial 115 with value: 0.7187482714653015.\u001b[0m\n"
     ]
    },
    {
     "ename": "KeyboardInterrupt",
     "evalue": "",
     "output_type": "error",
     "traceback": [
      "\u001b[1;31m---------------------------------------------------------------------------\u001b[0m",
      "\u001b[1;31mKeyboardInterrupt\u001b[0m                         Traceback (most recent call last)",
      "Input \u001b[1;32mIn [15]\u001b[0m, in \u001b[0;36m<cell line: 1>\u001b[1;34m()\u001b[0m\n\u001b[1;32m----> 1\u001b[0m \u001b[43mstudy_is_sig3\u001b[49m\u001b[38;5;241;43m.\u001b[39;49m\u001b[43moptimize\u001b[49m\u001b[43m(\u001b[49m\u001b[43mcompute_mlp_performance\u001b[49m\u001b[43m,\u001b[49m\u001b[43m \u001b[49m\u001b[43mn_trials\u001b[49m\u001b[38;5;241;43m=\u001b[39;49m\u001b[38;5;241;43m150\u001b[39;49m\u001b[43m)\u001b[49m\n",
      "File \u001b[1;32m~\\anaconda3\\envs\\machinelearning\\lib\\site-packages\\optuna\\study\\study.py:400\u001b[0m, in \u001b[0;36mStudy.optimize\u001b[1;34m(self, func, n_trials, timeout, n_jobs, catch, callbacks, gc_after_trial, show_progress_bar)\u001b[0m\n\u001b[0;32m    392\u001b[0m \u001b[38;5;28;01mif\u001b[39;00m n_jobs \u001b[38;5;241m!=\u001b[39m \u001b[38;5;241m1\u001b[39m:\n\u001b[0;32m    393\u001b[0m     warnings\u001b[38;5;241m.\u001b[39mwarn(\n\u001b[0;32m    394\u001b[0m         \u001b[38;5;124m\"\u001b[39m\u001b[38;5;124m`n_jobs` argument has been deprecated in v2.7.0. \u001b[39m\u001b[38;5;124m\"\u001b[39m\n\u001b[0;32m    395\u001b[0m         \u001b[38;5;124m\"\u001b[39m\u001b[38;5;124mThis feature will be removed in v4.0.0. \u001b[39m\u001b[38;5;124m\"\u001b[39m\n\u001b[0;32m    396\u001b[0m         \u001b[38;5;124m\"\u001b[39m\u001b[38;5;124mSee https://github.com/optuna/optuna/releases/tag/v2.7.0.\u001b[39m\u001b[38;5;124m\"\u001b[39m,\n\u001b[0;32m    397\u001b[0m         \u001b[38;5;167;01mFutureWarning\u001b[39;00m,\n\u001b[0;32m    398\u001b[0m     )\n\u001b[1;32m--> 400\u001b[0m \u001b[43m_optimize\u001b[49m\u001b[43m(\u001b[49m\n\u001b[0;32m    401\u001b[0m \u001b[43m    \u001b[49m\u001b[43mstudy\u001b[49m\u001b[38;5;241;43m=\u001b[39;49m\u001b[38;5;28;43mself\u001b[39;49m\u001b[43m,\u001b[49m\n\u001b[0;32m    402\u001b[0m \u001b[43m    \u001b[49m\u001b[43mfunc\u001b[49m\u001b[38;5;241;43m=\u001b[39;49m\u001b[43mfunc\u001b[49m\u001b[43m,\u001b[49m\n\u001b[0;32m    403\u001b[0m \u001b[43m    \u001b[49m\u001b[43mn_trials\u001b[49m\u001b[38;5;241;43m=\u001b[39;49m\u001b[43mn_trials\u001b[49m\u001b[43m,\u001b[49m\n\u001b[0;32m    404\u001b[0m \u001b[43m    \u001b[49m\u001b[43mtimeout\u001b[49m\u001b[38;5;241;43m=\u001b[39;49m\u001b[43mtimeout\u001b[49m\u001b[43m,\u001b[49m\n\u001b[0;32m    405\u001b[0m \u001b[43m    \u001b[49m\u001b[43mn_jobs\u001b[49m\u001b[38;5;241;43m=\u001b[39;49m\u001b[43mn_jobs\u001b[49m\u001b[43m,\u001b[49m\n\u001b[0;32m    406\u001b[0m \u001b[43m    \u001b[49m\u001b[43mcatch\u001b[49m\u001b[38;5;241;43m=\u001b[39;49m\u001b[43mcatch\u001b[49m\u001b[43m,\u001b[49m\n\u001b[0;32m    407\u001b[0m \u001b[43m    \u001b[49m\u001b[43mcallbacks\u001b[49m\u001b[38;5;241;43m=\u001b[39;49m\u001b[43mcallbacks\u001b[49m\u001b[43m,\u001b[49m\n\u001b[0;32m    408\u001b[0m \u001b[43m    \u001b[49m\u001b[43mgc_after_trial\u001b[49m\u001b[38;5;241;43m=\u001b[39;49m\u001b[43mgc_after_trial\u001b[49m\u001b[43m,\u001b[49m\n\u001b[0;32m    409\u001b[0m \u001b[43m    \u001b[49m\u001b[43mshow_progress_bar\u001b[49m\u001b[38;5;241;43m=\u001b[39;49m\u001b[43mshow_progress_bar\u001b[49m\u001b[43m,\u001b[49m\n\u001b[0;32m    410\u001b[0m \u001b[43m\u001b[49m\u001b[43m)\u001b[49m\n",
      "File \u001b[1;32m~\\anaconda3\\envs\\machinelearning\\lib\\site-packages\\optuna\\study\\_optimize.py:66\u001b[0m, in \u001b[0;36m_optimize\u001b[1;34m(study, func, n_trials, timeout, n_jobs, catch, callbacks, gc_after_trial, show_progress_bar)\u001b[0m\n\u001b[0;32m     64\u001b[0m \u001b[38;5;28;01mtry\u001b[39;00m:\n\u001b[0;32m     65\u001b[0m     \u001b[38;5;28;01mif\u001b[39;00m n_jobs \u001b[38;5;241m==\u001b[39m \u001b[38;5;241m1\u001b[39m:\n\u001b[1;32m---> 66\u001b[0m         \u001b[43m_optimize_sequential\u001b[49m\u001b[43m(\u001b[49m\n\u001b[0;32m     67\u001b[0m \u001b[43m            \u001b[49m\u001b[43mstudy\u001b[49m\u001b[43m,\u001b[49m\n\u001b[0;32m     68\u001b[0m \u001b[43m            \u001b[49m\u001b[43mfunc\u001b[49m\u001b[43m,\u001b[49m\n\u001b[0;32m     69\u001b[0m \u001b[43m            \u001b[49m\u001b[43mn_trials\u001b[49m\u001b[43m,\u001b[49m\n\u001b[0;32m     70\u001b[0m \u001b[43m            \u001b[49m\u001b[43mtimeout\u001b[49m\u001b[43m,\u001b[49m\n\u001b[0;32m     71\u001b[0m \u001b[43m            \u001b[49m\u001b[43mcatch\u001b[49m\u001b[43m,\u001b[49m\n\u001b[0;32m     72\u001b[0m \u001b[43m            \u001b[49m\u001b[43mcallbacks\u001b[49m\u001b[43m,\u001b[49m\n\u001b[0;32m     73\u001b[0m \u001b[43m            \u001b[49m\u001b[43mgc_after_trial\u001b[49m\u001b[43m,\u001b[49m\n\u001b[0;32m     74\u001b[0m \u001b[43m            \u001b[49m\u001b[43mreseed_sampler_rng\u001b[49m\u001b[38;5;241;43m=\u001b[39;49m\u001b[38;5;28;43;01mFalse\u001b[39;49;00m\u001b[43m,\u001b[49m\n\u001b[0;32m     75\u001b[0m \u001b[43m            \u001b[49m\u001b[43mtime_start\u001b[49m\u001b[38;5;241;43m=\u001b[39;49m\u001b[38;5;28;43;01mNone\u001b[39;49;00m\u001b[43m,\u001b[49m\n\u001b[0;32m     76\u001b[0m \u001b[43m            \u001b[49m\u001b[43mprogress_bar\u001b[49m\u001b[38;5;241;43m=\u001b[39;49m\u001b[43mprogress_bar\u001b[49m\u001b[43m,\u001b[49m\n\u001b[0;32m     77\u001b[0m \u001b[43m        \u001b[49m\u001b[43m)\u001b[49m\n\u001b[0;32m     78\u001b[0m     \u001b[38;5;28;01melse\u001b[39;00m:\n\u001b[0;32m     79\u001b[0m         \u001b[38;5;28;01mif\u001b[39;00m show_progress_bar:\n",
      "File \u001b[1;32m~\\anaconda3\\envs\\machinelearning\\lib\\site-packages\\optuna\\study\\_optimize.py:163\u001b[0m, in \u001b[0;36m_optimize_sequential\u001b[1;34m(study, func, n_trials, timeout, catch, callbacks, gc_after_trial, reseed_sampler_rng, time_start, progress_bar)\u001b[0m\n\u001b[0;32m    160\u001b[0m         \u001b[38;5;28;01mbreak\u001b[39;00m\n\u001b[0;32m    162\u001b[0m \u001b[38;5;28;01mtry\u001b[39;00m:\n\u001b[1;32m--> 163\u001b[0m     trial \u001b[38;5;241m=\u001b[39m \u001b[43m_run_trial\u001b[49m\u001b[43m(\u001b[49m\u001b[43mstudy\u001b[49m\u001b[43m,\u001b[49m\u001b[43m \u001b[49m\u001b[43mfunc\u001b[49m\u001b[43m,\u001b[49m\u001b[43m \u001b[49m\u001b[43mcatch\u001b[49m\u001b[43m)\u001b[49m\n\u001b[0;32m    164\u001b[0m \u001b[38;5;28;01mexcept\u001b[39;00m \u001b[38;5;167;01mException\u001b[39;00m:\n\u001b[0;32m    165\u001b[0m     \u001b[38;5;28;01mraise\u001b[39;00m\n",
      "File \u001b[1;32m~\\anaconda3\\envs\\machinelearning\\lib\\site-packages\\optuna\\study\\_optimize.py:213\u001b[0m, in \u001b[0;36m_run_trial\u001b[1;34m(study, func, catch)\u001b[0m\n\u001b[0;32m    210\u001b[0m     thread\u001b[38;5;241m.\u001b[39mstart()\n\u001b[0;32m    212\u001b[0m \u001b[38;5;28;01mtry\u001b[39;00m:\n\u001b[1;32m--> 213\u001b[0m     value_or_values \u001b[38;5;241m=\u001b[39m \u001b[43mfunc\u001b[49m\u001b[43m(\u001b[49m\u001b[43mtrial\u001b[49m\u001b[43m)\u001b[49m\n\u001b[0;32m    214\u001b[0m \u001b[38;5;28;01mexcept\u001b[39;00m exceptions\u001b[38;5;241m.\u001b[39mTrialPruned \u001b[38;5;28;01mas\u001b[39;00m e:\n\u001b[0;32m    215\u001b[0m     \u001b[38;5;66;03m# TODO(mamu): Handle multi-objective cases.\u001b[39;00m\n\u001b[0;32m    216\u001b[0m     state \u001b[38;5;241m=\u001b[39m TrialState\u001b[38;5;241m.\u001b[39mPRUNED\n",
      "Input \u001b[1;32mIn [12]\u001b[0m, in \u001b[0;36mcompute_mlp_performance\u001b[1;34m(trial, input_shape, data_dir, n_folds, class_weight_0, class_weight_1, num_samples, y_col)\u001b[0m\n\u001b[0;32m     18\u001b[0m \u001b[38;5;66;03m# build model and ensure that parameters passed in are within the normal range\u001b[39;00m\n\u001b[0;32m     19\u001b[0m \u001b[38;5;66;03m# if we don't type cast as integers, bayesian optimizer will guess float values\u001b[39;00m\n\u001b[0;32m     20\u001b[0m model \u001b[38;5;241m=\u001b[39m build_mlp_model(input_shape, \n\u001b[0;32m     21\u001b[0m                         trial\u001b[38;5;241m.\u001b[39msuggest_int(\u001b[38;5;124m'\u001b[39m\u001b[38;5;124mn_hidden_layers\u001b[39m\u001b[38;5;124m'\u001b[39m, \u001b[38;5;241m1\u001b[39m,\u001b[38;5;241m20\u001b[39m), \n\u001b[0;32m     22\u001b[0m                         trial\u001b[38;5;241m.\u001b[39msuggest_int(\u001b[38;5;124m'\u001b[39m\u001b[38;5;124mn_hidden_nodes\u001b[39m\u001b[38;5;124m'\u001b[39m, \u001b[38;5;241m20\u001b[39m, \u001b[38;5;241m300\u001b[39m), \n\u001b[1;32m   (...)\u001b[0m\n\u001b[0;32m     26\u001b[0m                         l2_kernel \u001b[38;5;241m=\u001b[39m \u001b[38;5;241m0\u001b[39m,\n\u001b[0;32m     27\u001b[0m                         l2_bias \u001b[38;5;241m=\u001b[39m \u001b[38;5;241m0\u001b[39m)\n\u001b[1;32m---> 28\u001b[0m \u001b[43mmodel\u001b[49m\u001b[38;5;241;43m.\u001b[39;49m\u001b[43mfit\u001b[49m\u001b[43m(\u001b[49m\u001b[43mX_train\u001b[49m\u001b[43m,\u001b[49m\u001b[43m \u001b[49m\u001b[43my_train\u001b[49m\u001b[43m,\u001b[49m\u001b[43m \u001b[49m\n\u001b[0;32m     29\u001b[0m \u001b[43m          \u001b[49m\u001b[43mvalidation_data\u001b[49m\u001b[38;5;241;43m=\u001b[39;49m\u001b[43m(\u001b[49m\u001b[43mX_val\u001b[49m\u001b[43m,\u001b[49m\u001b[43m \u001b[49m\u001b[43my_val\u001b[49m\u001b[43m)\u001b[49m\u001b[43m,\u001b[49m\u001b[43m \u001b[49m\n\u001b[0;32m     30\u001b[0m \u001b[43m          \u001b[49m\u001b[43mepochs\u001b[49m\u001b[38;5;241;43m=\u001b[39;49m\u001b[38;5;241;43m1000\u001b[39;49m\u001b[43m,\u001b[49m\u001b[43m \u001b[49m\u001b[43mbatch_size\u001b[49m\u001b[38;5;241;43m=\u001b[39;49m\u001b[38;5;241;43m32\u001b[39;49m\u001b[43m,\u001b[49m\u001b[43m \u001b[49m\u001b[43mverbose\u001b[49m\u001b[38;5;241;43m=\u001b[39;49m\u001b[38;5;241;43m0\u001b[39;49m\u001b[43m,\u001b[49m\n\u001b[0;32m     31\u001b[0m \u001b[43m          \u001b[49m\u001b[43mcallbacks\u001b[49m\u001b[38;5;241;43m=\u001b[39;49m\u001b[43m[\u001b[49m\u001b[43mkeras\u001b[49m\u001b[38;5;241;43m.\u001b[39;49m\u001b[43mcallbacks\u001b[49m\u001b[38;5;241;43m.\u001b[39;49m\u001b[43mEarlyStopping\u001b[49m\u001b[43m(\u001b[49m\u001b[43mmonitor\u001b[49m\u001b[38;5;241;43m=\u001b[39;49m\u001b[38;5;124;43m'\u001b[39;49m\u001b[38;5;124;43mval_auc\u001b[39;49m\u001b[38;5;124;43m'\u001b[39;49m\u001b[43m,\u001b[49m\u001b[43m \u001b[49m\u001b[43mpatience\u001b[49m\u001b[38;5;241;43m=\u001b[39;49m\u001b[38;5;241;43m20\u001b[39;49m\u001b[43m)\u001b[49m\u001b[43m]\u001b[49m\u001b[43m)\u001b[49m\n\u001b[0;32m     33\u001b[0m \u001b[38;5;66;03m# evaluate\u001b[39;00m\n\u001b[0;32m     34\u001b[0m y_score \u001b[38;5;241m=\u001b[39m model\u001b[38;5;241m.\u001b[39mevaluate(X_test, y_test, verbose\u001b[38;5;241m=\u001b[39m\u001b[38;5;241m0\u001b[39m)[\u001b[38;5;241m1\u001b[39m]\n",
      "File \u001b[1;32m~\\anaconda3\\envs\\machinelearning\\lib\\site-packages\\keras\\utils\\traceback_utils.py:64\u001b[0m, in \u001b[0;36mfilter_traceback.<locals>.error_handler\u001b[1;34m(*args, **kwargs)\u001b[0m\n\u001b[0;32m     62\u001b[0m filtered_tb \u001b[38;5;241m=\u001b[39m \u001b[38;5;28;01mNone\u001b[39;00m\n\u001b[0;32m     63\u001b[0m \u001b[38;5;28;01mtry\u001b[39;00m:\n\u001b[1;32m---> 64\u001b[0m   \u001b[38;5;28;01mreturn\u001b[39;00m fn(\u001b[38;5;241m*\u001b[39margs, \u001b[38;5;241m*\u001b[39m\u001b[38;5;241m*\u001b[39mkwargs)\n\u001b[0;32m     65\u001b[0m \u001b[38;5;28;01mexcept\u001b[39;00m \u001b[38;5;167;01mException\u001b[39;00m \u001b[38;5;28;01mas\u001b[39;00m e:  \u001b[38;5;66;03m# pylint: disable=broad-except\u001b[39;00m\n\u001b[0;32m     66\u001b[0m   filtered_tb \u001b[38;5;241m=\u001b[39m _process_traceback_frames(e\u001b[38;5;241m.\u001b[39m__traceback__)\n",
      "File \u001b[1;32m~\\anaconda3\\envs\\machinelearning\\lib\\site-packages\\keras\\engine\\training.py:1409\u001b[0m, in \u001b[0;36mModel.fit\u001b[1;34m(self, x, y, batch_size, epochs, verbose, callbacks, validation_split, validation_data, shuffle, class_weight, sample_weight, initial_epoch, steps_per_epoch, validation_steps, validation_batch_size, validation_freq, max_queue_size, workers, use_multiprocessing)\u001b[0m\n\u001b[0;32m   1402\u001b[0m \u001b[38;5;28;01mwith\u001b[39;00m tf\u001b[38;5;241m.\u001b[39mprofiler\u001b[38;5;241m.\u001b[39mexperimental\u001b[38;5;241m.\u001b[39mTrace(\n\u001b[0;32m   1403\u001b[0m     \u001b[38;5;124m'\u001b[39m\u001b[38;5;124mtrain\u001b[39m\u001b[38;5;124m'\u001b[39m,\n\u001b[0;32m   1404\u001b[0m     epoch_num\u001b[38;5;241m=\u001b[39mepoch,\n\u001b[0;32m   1405\u001b[0m     step_num\u001b[38;5;241m=\u001b[39mstep,\n\u001b[0;32m   1406\u001b[0m     batch_size\u001b[38;5;241m=\u001b[39mbatch_size,\n\u001b[0;32m   1407\u001b[0m     _r\u001b[38;5;241m=\u001b[39m\u001b[38;5;241m1\u001b[39m):\n\u001b[0;32m   1408\u001b[0m   callbacks\u001b[38;5;241m.\u001b[39mon_train_batch_begin(step)\n\u001b[1;32m-> 1409\u001b[0m   tmp_logs \u001b[38;5;241m=\u001b[39m \u001b[38;5;28;43mself\u001b[39;49m\u001b[38;5;241;43m.\u001b[39;49m\u001b[43mtrain_function\u001b[49m\u001b[43m(\u001b[49m\u001b[43miterator\u001b[49m\u001b[43m)\u001b[49m\n\u001b[0;32m   1410\u001b[0m   \u001b[38;5;28;01mif\u001b[39;00m data_handler\u001b[38;5;241m.\u001b[39mshould_sync:\n\u001b[0;32m   1411\u001b[0m     context\u001b[38;5;241m.\u001b[39masync_wait()\n",
      "File \u001b[1;32m~\\anaconda3\\envs\\machinelearning\\lib\\site-packages\\tensorflow\\python\\util\\traceback_utils.py:150\u001b[0m, in \u001b[0;36mfilter_traceback.<locals>.error_handler\u001b[1;34m(*args, **kwargs)\u001b[0m\n\u001b[0;32m    148\u001b[0m filtered_tb \u001b[38;5;241m=\u001b[39m \u001b[38;5;28;01mNone\u001b[39;00m\n\u001b[0;32m    149\u001b[0m \u001b[38;5;28;01mtry\u001b[39;00m:\n\u001b[1;32m--> 150\u001b[0m   \u001b[38;5;28;01mreturn\u001b[39;00m fn(\u001b[38;5;241m*\u001b[39margs, \u001b[38;5;241m*\u001b[39m\u001b[38;5;241m*\u001b[39mkwargs)\n\u001b[0;32m    151\u001b[0m \u001b[38;5;28;01mexcept\u001b[39;00m \u001b[38;5;167;01mException\u001b[39;00m \u001b[38;5;28;01mas\u001b[39;00m e:\n\u001b[0;32m    152\u001b[0m   filtered_tb \u001b[38;5;241m=\u001b[39m _process_traceback_frames(e\u001b[38;5;241m.\u001b[39m__traceback__)\n",
      "File \u001b[1;32m~\\anaconda3\\envs\\machinelearning\\lib\\site-packages\\tensorflow\\python\\eager\\def_function.py:915\u001b[0m, in \u001b[0;36mFunction.__call__\u001b[1;34m(self, *args, **kwds)\u001b[0m\n\u001b[0;32m    912\u001b[0m compiler \u001b[38;5;241m=\u001b[39m \u001b[38;5;124m\"\u001b[39m\u001b[38;5;124mxla\u001b[39m\u001b[38;5;124m\"\u001b[39m \u001b[38;5;28;01mif\u001b[39;00m \u001b[38;5;28mself\u001b[39m\u001b[38;5;241m.\u001b[39m_jit_compile \u001b[38;5;28;01melse\u001b[39;00m \u001b[38;5;124m\"\u001b[39m\u001b[38;5;124mnonXla\u001b[39m\u001b[38;5;124m\"\u001b[39m\n\u001b[0;32m    914\u001b[0m \u001b[38;5;28;01mwith\u001b[39;00m OptionalXlaContext(\u001b[38;5;28mself\u001b[39m\u001b[38;5;241m.\u001b[39m_jit_compile):\n\u001b[1;32m--> 915\u001b[0m   result \u001b[38;5;241m=\u001b[39m \u001b[38;5;28mself\u001b[39m\u001b[38;5;241m.\u001b[39m_call(\u001b[38;5;241m*\u001b[39margs, \u001b[38;5;241m*\u001b[39m\u001b[38;5;241m*\u001b[39mkwds)\n\u001b[0;32m    917\u001b[0m new_tracing_count \u001b[38;5;241m=\u001b[39m \u001b[38;5;28mself\u001b[39m\u001b[38;5;241m.\u001b[39mexperimental_get_tracing_count()\n\u001b[0;32m    918\u001b[0m without_tracing \u001b[38;5;241m=\u001b[39m (tracing_count \u001b[38;5;241m==\u001b[39m new_tracing_count)\n",
      "File \u001b[1;32m~\\anaconda3\\envs\\machinelearning\\lib\\site-packages\\tensorflow\\python\\eager\\def_function.py:947\u001b[0m, in \u001b[0;36mFunction._call\u001b[1;34m(self, *args, **kwds)\u001b[0m\n\u001b[0;32m    944\u001b[0m   \u001b[38;5;28mself\u001b[39m\u001b[38;5;241m.\u001b[39m_lock\u001b[38;5;241m.\u001b[39mrelease()\n\u001b[0;32m    945\u001b[0m   \u001b[38;5;66;03m# In this case we have created variables on the first call, so we run the\u001b[39;00m\n\u001b[0;32m    946\u001b[0m   \u001b[38;5;66;03m# defunned version which is guaranteed to never create variables.\u001b[39;00m\n\u001b[1;32m--> 947\u001b[0m   \u001b[38;5;28;01mreturn\u001b[39;00m \u001b[38;5;28mself\u001b[39m\u001b[38;5;241m.\u001b[39m_stateless_fn(\u001b[38;5;241m*\u001b[39margs, \u001b[38;5;241m*\u001b[39m\u001b[38;5;241m*\u001b[39mkwds)  \u001b[38;5;66;03m# pylint: disable=not-callable\u001b[39;00m\n\u001b[0;32m    948\u001b[0m \u001b[38;5;28;01melif\u001b[39;00m \u001b[38;5;28mself\u001b[39m\u001b[38;5;241m.\u001b[39m_stateful_fn \u001b[38;5;129;01mis\u001b[39;00m \u001b[38;5;129;01mnot\u001b[39;00m \u001b[38;5;28;01mNone\u001b[39;00m:\n\u001b[0;32m    949\u001b[0m   \u001b[38;5;66;03m# Release the lock early so that multiple threads can perform the call\u001b[39;00m\n\u001b[0;32m    950\u001b[0m   \u001b[38;5;66;03m# in parallel.\u001b[39;00m\n\u001b[0;32m    951\u001b[0m   \u001b[38;5;28mself\u001b[39m\u001b[38;5;241m.\u001b[39m_lock\u001b[38;5;241m.\u001b[39mrelease()\n",
      "File \u001b[1;32m~\\anaconda3\\envs\\machinelearning\\lib\\site-packages\\tensorflow\\python\\eager\\function.py:2453\u001b[0m, in \u001b[0;36mFunction.__call__\u001b[1;34m(self, *args, **kwargs)\u001b[0m\n\u001b[0;32m   2450\u001b[0m \u001b[38;5;28;01mwith\u001b[39;00m \u001b[38;5;28mself\u001b[39m\u001b[38;5;241m.\u001b[39m_lock:\n\u001b[0;32m   2451\u001b[0m   (graph_function,\n\u001b[0;32m   2452\u001b[0m    filtered_flat_args) \u001b[38;5;241m=\u001b[39m \u001b[38;5;28mself\u001b[39m\u001b[38;5;241m.\u001b[39m_maybe_define_function(args, kwargs)\n\u001b[1;32m-> 2453\u001b[0m \u001b[38;5;28;01mreturn\u001b[39;00m \u001b[43mgraph_function\u001b[49m\u001b[38;5;241;43m.\u001b[39;49m\u001b[43m_call_flat\u001b[49m\u001b[43m(\u001b[49m\n\u001b[0;32m   2454\u001b[0m \u001b[43m    \u001b[49m\u001b[43mfiltered_flat_args\u001b[49m\u001b[43m,\u001b[49m\u001b[43m \u001b[49m\u001b[43mcaptured_inputs\u001b[49m\u001b[38;5;241;43m=\u001b[39;49m\u001b[43mgraph_function\u001b[49m\u001b[38;5;241;43m.\u001b[39;49m\u001b[43mcaptured_inputs\u001b[49m\u001b[43m)\u001b[49m\n",
      "File \u001b[1;32m~\\anaconda3\\envs\\machinelearning\\lib\\site-packages\\tensorflow\\python\\eager\\function.py:1860\u001b[0m, in \u001b[0;36mConcreteFunction._call_flat\u001b[1;34m(self, args, captured_inputs, cancellation_manager)\u001b[0m\n\u001b[0;32m   1856\u001b[0m possible_gradient_type \u001b[38;5;241m=\u001b[39m gradients_util\u001b[38;5;241m.\u001b[39mPossibleTapeGradientTypes(args)\n\u001b[0;32m   1857\u001b[0m \u001b[38;5;28;01mif\u001b[39;00m (possible_gradient_type \u001b[38;5;241m==\u001b[39m gradients_util\u001b[38;5;241m.\u001b[39mPOSSIBLE_GRADIENT_TYPES_NONE\n\u001b[0;32m   1858\u001b[0m     \u001b[38;5;129;01mand\u001b[39;00m executing_eagerly):\n\u001b[0;32m   1859\u001b[0m   \u001b[38;5;66;03m# No tape is watching; skip to running the function.\u001b[39;00m\n\u001b[1;32m-> 1860\u001b[0m   \u001b[38;5;28;01mreturn\u001b[39;00m \u001b[38;5;28mself\u001b[39m\u001b[38;5;241m.\u001b[39m_build_call_outputs(\u001b[38;5;28;43mself\u001b[39;49m\u001b[38;5;241;43m.\u001b[39;49m\u001b[43m_inference_function\u001b[49m\u001b[38;5;241;43m.\u001b[39;49m\u001b[43mcall\u001b[49m\u001b[43m(\u001b[49m\n\u001b[0;32m   1861\u001b[0m \u001b[43m      \u001b[49m\u001b[43mctx\u001b[49m\u001b[43m,\u001b[49m\u001b[43m \u001b[49m\u001b[43margs\u001b[49m\u001b[43m,\u001b[49m\u001b[43m \u001b[49m\u001b[43mcancellation_manager\u001b[49m\u001b[38;5;241;43m=\u001b[39;49m\u001b[43mcancellation_manager\u001b[49m\u001b[43m)\u001b[49m)\n\u001b[0;32m   1862\u001b[0m forward_backward \u001b[38;5;241m=\u001b[39m \u001b[38;5;28mself\u001b[39m\u001b[38;5;241m.\u001b[39m_select_forward_and_backward_functions(\n\u001b[0;32m   1863\u001b[0m     args,\n\u001b[0;32m   1864\u001b[0m     possible_gradient_type,\n\u001b[0;32m   1865\u001b[0m     executing_eagerly)\n\u001b[0;32m   1866\u001b[0m forward_function, args_with_tangents \u001b[38;5;241m=\u001b[39m forward_backward\u001b[38;5;241m.\u001b[39mforward()\n",
      "File \u001b[1;32m~\\anaconda3\\envs\\machinelearning\\lib\\site-packages\\tensorflow\\python\\eager\\function.py:497\u001b[0m, in \u001b[0;36m_EagerDefinedFunction.call\u001b[1;34m(self, ctx, args, cancellation_manager)\u001b[0m\n\u001b[0;32m    495\u001b[0m \u001b[38;5;28;01mwith\u001b[39;00m _InterpolateFunctionError(\u001b[38;5;28mself\u001b[39m):\n\u001b[0;32m    496\u001b[0m   \u001b[38;5;28;01mif\u001b[39;00m cancellation_manager \u001b[38;5;129;01mis\u001b[39;00m \u001b[38;5;28;01mNone\u001b[39;00m:\n\u001b[1;32m--> 497\u001b[0m     outputs \u001b[38;5;241m=\u001b[39m \u001b[43mexecute\u001b[49m\u001b[38;5;241;43m.\u001b[39;49m\u001b[43mexecute\u001b[49m\u001b[43m(\u001b[49m\n\u001b[0;32m    498\u001b[0m \u001b[43m        \u001b[49m\u001b[38;5;28;43mstr\u001b[39;49m\u001b[43m(\u001b[49m\u001b[38;5;28;43mself\u001b[39;49m\u001b[38;5;241;43m.\u001b[39;49m\u001b[43msignature\u001b[49m\u001b[38;5;241;43m.\u001b[39;49m\u001b[43mname\u001b[49m\u001b[43m)\u001b[49m\u001b[43m,\u001b[49m\n\u001b[0;32m    499\u001b[0m \u001b[43m        \u001b[49m\u001b[43mnum_outputs\u001b[49m\u001b[38;5;241;43m=\u001b[39;49m\u001b[38;5;28;43mself\u001b[39;49m\u001b[38;5;241;43m.\u001b[39;49m\u001b[43m_num_outputs\u001b[49m\u001b[43m,\u001b[49m\n\u001b[0;32m    500\u001b[0m \u001b[43m        \u001b[49m\u001b[43minputs\u001b[49m\u001b[38;5;241;43m=\u001b[39;49m\u001b[43margs\u001b[49m\u001b[43m,\u001b[49m\n\u001b[0;32m    501\u001b[0m \u001b[43m        \u001b[49m\u001b[43mattrs\u001b[49m\u001b[38;5;241;43m=\u001b[39;49m\u001b[43mattrs\u001b[49m\u001b[43m,\u001b[49m\n\u001b[0;32m    502\u001b[0m \u001b[43m        \u001b[49m\u001b[43mctx\u001b[49m\u001b[38;5;241;43m=\u001b[39;49m\u001b[43mctx\u001b[49m\u001b[43m)\u001b[49m\n\u001b[0;32m    503\u001b[0m   \u001b[38;5;28;01melse\u001b[39;00m:\n\u001b[0;32m    504\u001b[0m     outputs \u001b[38;5;241m=\u001b[39m execute\u001b[38;5;241m.\u001b[39mexecute_with_cancellation(\n\u001b[0;32m    505\u001b[0m         \u001b[38;5;28mstr\u001b[39m(\u001b[38;5;28mself\u001b[39m\u001b[38;5;241m.\u001b[39msignature\u001b[38;5;241m.\u001b[39mname),\n\u001b[0;32m    506\u001b[0m         num_outputs\u001b[38;5;241m=\u001b[39m\u001b[38;5;28mself\u001b[39m\u001b[38;5;241m.\u001b[39m_num_outputs,\n\u001b[1;32m   (...)\u001b[0m\n\u001b[0;32m    509\u001b[0m         ctx\u001b[38;5;241m=\u001b[39mctx,\n\u001b[0;32m    510\u001b[0m         cancellation_manager\u001b[38;5;241m=\u001b[39mcancellation_manager)\n",
      "File \u001b[1;32m~\\anaconda3\\envs\\machinelearning\\lib\\site-packages\\tensorflow\\python\\eager\\execute.py:54\u001b[0m, in \u001b[0;36mquick_execute\u001b[1;34m(op_name, num_outputs, inputs, attrs, ctx, name)\u001b[0m\n\u001b[0;32m     52\u001b[0m \u001b[38;5;28;01mtry\u001b[39;00m:\n\u001b[0;32m     53\u001b[0m   ctx\u001b[38;5;241m.\u001b[39mensure_initialized()\n\u001b[1;32m---> 54\u001b[0m   tensors \u001b[38;5;241m=\u001b[39m \u001b[43mpywrap_tfe\u001b[49m\u001b[38;5;241;43m.\u001b[39;49m\u001b[43mTFE_Py_Execute\u001b[49m\u001b[43m(\u001b[49m\u001b[43mctx\u001b[49m\u001b[38;5;241;43m.\u001b[39;49m\u001b[43m_handle\u001b[49m\u001b[43m,\u001b[49m\u001b[43m \u001b[49m\u001b[43mdevice_name\u001b[49m\u001b[43m,\u001b[49m\u001b[43m \u001b[49m\u001b[43mop_name\u001b[49m\u001b[43m,\u001b[49m\n\u001b[0;32m     55\u001b[0m \u001b[43m                                      \u001b[49m\u001b[43minputs\u001b[49m\u001b[43m,\u001b[49m\u001b[43m \u001b[49m\u001b[43mattrs\u001b[49m\u001b[43m,\u001b[49m\u001b[43m \u001b[49m\u001b[43mnum_outputs\u001b[49m\u001b[43m)\u001b[49m\n\u001b[0;32m     56\u001b[0m \u001b[38;5;28;01mexcept\u001b[39;00m core\u001b[38;5;241m.\u001b[39m_NotOkStatusException \u001b[38;5;28;01mas\u001b[39;00m e:\n\u001b[0;32m     57\u001b[0m   \u001b[38;5;28;01mif\u001b[39;00m name \u001b[38;5;129;01mis\u001b[39;00m \u001b[38;5;129;01mnot\u001b[39;00m \u001b[38;5;28;01mNone\u001b[39;00m:\n",
      "\u001b[1;31mKeyboardInterrupt\u001b[0m: "
     ]
    }
   ],
   "source": [
    "study_is_sig3.optimize(compute_mlp_performance, n_trials=150)"
   ]
  },
  {
   "cell_type": "code",
   "execution_count": 16,
   "id": "2d95dafc",
   "metadata": {
    "scrolled": true
   },
   "outputs": [
    {
     "data": {
      "text/plain": [
       "FrozenTrial(number=115, values=[0.7187482714653015], datetime_start=datetime.datetime(2022, 7, 14, 12, 19, 52, 623336), datetime_complete=datetime.datetime(2022, 7, 14, 12, 20, 22, 462128), params={'n_hidden_layers': 1, 'n_hidden_nodes': 134, 'activation': 'relu', 'learning_rate': 0.010608419991241444}, distributions={'n_hidden_layers': IntUniformDistribution(high=20, low=1, step=1), 'n_hidden_nodes': IntUniformDistribution(high=300, low=20, step=1), 'activation': CategoricalDistribution(choices=('relu', 'sigmoid', 'softmax')), 'learning_rate': UniformDistribution(high=0.1, low=1e-09)}, user_attrs={}, system_attrs={}, intermediate_values={}, trial_id=115, state=TrialState.COMPLETE, value=None)"
      ]
     },
     "execution_count": 16,
     "metadata": {},
     "output_type": "execute_result"
    }
   ],
   "source": [
    "study_is_sig3.best_trial"
   ]
  }
 ],
 "metadata": {
  "kernelspec": {
   "display_name": "Python 3 (ipykernel)",
   "language": "python",
   "name": "python3"
  },
  "language_info": {
   "codemirror_mode": {
    "name": "ipython",
    "version": 3
   },
   "file_extension": ".py",
   "mimetype": "text/x-python",
   "name": "python",
   "nbconvert_exporter": "python",
   "pygments_lexer": "ipython3",
   "version": "3.10.4"
  },
  "varInspector": {
   "cols": {
    "lenName": 16,
    "lenType": 16,
    "lenVar": 40
   },
   "kernels_config": {
    "python": {
     "delete_cmd_postfix": "",
     "delete_cmd_prefix": "del ",
     "library": "var_list.py",
     "varRefreshCmd": "print(var_dic_list())"
    },
    "r": {
     "delete_cmd_postfix": ") ",
     "delete_cmd_prefix": "rm(",
     "library": "var_list.r",
     "varRefreshCmd": "cat(var_dic_list()) "
    }
   },
   "types_to_exclude": [
    "module",
    "function",
    "builtin_function_or_method",
    "instance",
    "_Feature"
   ],
   "window_display": false
  }
 },
 "nbformat": 4,
 "nbformat_minor": 5
}
