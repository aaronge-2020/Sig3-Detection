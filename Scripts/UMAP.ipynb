{
 "cells": [
  {
   "cell_type": "code",
   "execution_count": 1,
   "id": "e57f4062",
   "metadata": {
    "scrolled": true
   },
   "outputs": [
    {
     "name": "stdout",
     "output_type": "stream",
     "text": [
      "Collecting umap-learn\n",
      "  Downloading umap-learn-0.5.3.tar.gz (88 kB)\n",
      "Requirement already satisfied: numpy>=1.17 in c:\\users\\aaron\\anaconda3\\envs\\machinelearning\\lib\\site-packages (from umap-learn) (1.22.4)\n",
      "Requirement already satisfied: scikit-learn>=0.22 in c:\\users\\aaron\\anaconda3\\envs\\machinelearning\\lib\\site-packages (from umap-learn) (1.1.1)\n",
      "Requirement already satisfied: scipy>=1.0 in c:\\users\\aaron\\anaconda3\\envs\\machinelearning\\lib\\site-packages (from umap-learn) (1.8.1)\n",
      "Collecting numba>=0.49\n",
      "  Downloading numba-0.55.2-cp310-cp310-win_amd64.whl (2.4 MB)\n",
      "Collecting pynndescent>=0.5\n",
      "  Downloading pynndescent-0.5.7.tar.gz (1.1 MB)\n",
      "Requirement already satisfied: tqdm in c:\\users\\aaron\\anaconda3\\envs\\machinelearning\\lib\\site-packages (from umap-learn) (4.64.0)\n",
      "Collecting llvmlite<0.39,>=0.38.0rc1\n",
      "  Downloading llvmlite-0.38.1-cp310-cp310-win_amd64.whl (23.2 MB)\n",
      "Requirement already satisfied: setuptools in c:\\users\\aaron\\anaconda3\\envs\\machinelearning\\lib\\site-packages (from numba>=0.49->umap-learn) (61.2.0)\n",
      "Requirement already satisfied: joblib>=0.11 in c:\\users\\aaron\\anaconda3\\envs\\machinelearning\\lib\\site-packages (from pynndescent>=0.5->umap-learn) (1.1.0)\n",
      "Requirement already satisfied: threadpoolctl>=2.0.0 in c:\\users\\aaron\\anaconda3\\envs\\machinelearning\\lib\\site-packages (from scikit-learn>=0.22->umap-learn) (3.1.0)\n",
      "Requirement already satisfied: colorama in c:\\users\\aaron\\anaconda3\\envs\\machinelearning\\lib\\site-packages (from tqdm->umap-learn) (0.4.4)\n",
      "Building wheels for collected packages: umap-learn, pynndescent\n",
      "  Building wheel for umap-learn (setup.py): started\n",
      "  Building wheel for umap-learn (setup.py): finished with status 'done'\n",
      "  Created wheel for umap-learn: filename=umap_learn-0.5.3-py3-none-any.whl size=82829 sha256=53c2f2c181c13205755b8de010a6faa77dc87fa4426303954e8be58cc04edde9\n",
      "  Stored in directory: c:\\users\\aaron\\appdata\\local\\pip\\cache\\wheels\\a0\\e8\\c6\\a37ea663620bd5200ea1ba0907ab3c217042c1d035ef606acc\n",
      "  Building wheel for pynndescent (setup.py): started\n",
      "  Building wheel for pynndescent (setup.py): finished with status 'done'\n",
      "  Created wheel for pynndescent: filename=pynndescent-0.5.7-py3-none-any.whl size=54286 sha256=cdc558c4f9b5e9159eccbb78095ad0ab0a9546d00ef6119b8ce67197bf3adf07\n",
      "  Stored in directory: c:\\users\\aaron\\appdata\\local\\pip\\cache\\wheels\\38\\c8\\a0\\1ee86829ed84033a5d640e181a54ea19141e8721a8c4028730\n",
      "Successfully built umap-learn pynndescent\n",
      "Installing collected packages: llvmlite, numba, pynndescent, umap-learn\n",
      "Successfully installed llvmlite-0.38.1 numba-0.55.2 pynndescent-0.5.7 umap-learn-0.5.3\n"
     ]
    }
   ],
   "source": [
    "!pip install umap-learn"
   ]
  }
 ],
 "metadata": {
  "kernelspec": {
   "display_name": "Python 3 (ipykernel)",
   "language": "python",
   "name": "python3"
  },
  "language_info": {
   "codemirror_mode": {
    "name": "ipython",
    "version": 3
   },
   "file_extension": ".py",
   "mimetype": "text/x-python",
   "name": "python",
   "nbconvert_exporter": "python",
   "pygments_lexer": "ipython3",
   "version": "3.10.4"
  },
  "varInspector": {
   "cols": {
    "lenName": 16,
    "lenType": 16,
    "lenVar": 40
   },
   "kernels_config": {
    "python": {
     "delete_cmd_postfix": "",
     "delete_cmd_prefix": "del ",
     "library": "var_list.py",
     "varRefreshCmd": "print(var_dic_list())"
    },
    "r": {
     "delete_cmd_postfix": ") ",
     "delete_cmd_prefix": "rm(",
     "library": "var_list.r",
     "varRefreshCmd": "cat(var_dic_list()) "
    }
   },
   "types_to_exclude": [
    "module",
    "function",
    "builtin_function_or_method",
    "instance",
    "_Feature"
   ],
   "window_display": false
  }
 },
 "nbformat": 4,
 "nbformat_minor": 5
}
