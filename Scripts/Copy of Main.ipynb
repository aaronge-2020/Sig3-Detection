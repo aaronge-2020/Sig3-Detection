{
  "cells": [
    {
      "cell_type": "code",
      "execution_count": null,
      "id": "f2b4cbf9",
      "metadata": {
        "id": "f2b4cbf9"
      },
      "outputs": [],
      "source": [
        "import os\n",
        "\n",
        "import numpy as np\n",
        "import pandas as pd\n",
        "from scipy.stats import median_absolute_deviation\n",
        "from sklearn.metrics import roc_auc_score, roc_curve, auc\n",
        "from sklearn.preprocessing import MinMaxScaler\n",
        "from sklearn.model_selection import StratifiedKFold\n",
        "from sklearn.model_selection import train_test_split\n",
        "from sklearn.neighbors import KNeighborsClassifier\n",
        "import optuna\n",
        "from sklearn.preprocessing import StandardScaler\n",
        "import random\n",
        "random_state = 1234\n",
        "from sklearn.metrics import roc_auc_score\n",
        "import os\n",
        "from pathlib import Path\n",
        "import tensorflow as tf\n",
        "from tensorflow import keras \n",
        "import tensorflow_addons as tfa\n",
        "from keras.regularizers import l2\n",
        "import xgboost as xgb\n",
        "from sklearn.linear_model import SGDClassifier\n",
        "import datetime\n",
        "parent_dir = Path(os.getcwd()).parent\n",
        "cross_validation_dir = os.path.join(parent_dir, \"Data\", \"train_test_indices.npy\")\n",
        "dataset = \"MSK_Impact_train\"\n",
        "# dataset = \"BCAST_train\"\n",
        "data_dir = os.path.join(parent_dir, \"Data\" , dataset)\n",
        "train_test_indices = np.load(cross_validation_dir, allow_pickle = True)"
      ]
    },
    {
      "cell_type": "code",
      "execution_count": null,
      "id": "44f12426",
      "metadata": {
        "id": "44f12426",
        "outputId": "418d3ea6-3c75-4eb9-cfbe-cc519d92b5a7"
      },
      "outputs": [
        {
          "name": "stdout",
          "output_type": "stream",
          "text": [
            "The tensorboard extension is already loaded. To reload it, use:\n",
            "  %reload_ext tensorboard\n"
          ]
        }
      ],
      "source": [
        "# Ignore warnings\n",
        "import warnings\n",
        "warnings.filterwarnings(\"ignore\")\n",
        "%load_ext tensorboard"
      ]
    },
    {
      "cell_type": "markdown",
      "id": "7c2eab6a",
      "metadata": {
        "id": "7c2eab6a"
      },
      "source": [
        "### Machine-learning training/testing"
      ]
    },
    {
      "cell_type": "code",
      "execution_count": null,
      "id": "4868ece8",
      "metadata": {
        "code_folding": [],
        "id": "4868ece8"
      },
      "outputs": [],
      "source": [
        "def build_kneigh_model(n_neighbors, X, y):\n",
        "    model = KNeighborsClassifier(n_neighbors=n_neighbors)\n",
        "    model.fit(X, y)\n",
        "    \n",
        "    return model\n",
        "\n",
        "def build_NN_model(X_train, y_train, X_val, y_val, input_shape=(96,), n_hidden_layers=2, n_hidden_nodes=16, \n",
        "                   activation=\"relu\", learning_rate=0.001, weight_decay = 0, l2_kernel = 0.01, l2_bias = 0.01,\n",
        "                   class_weight_0 = 1, class_weight_1 = 1):\n",
        "    # optimizer parameters\n",
        "    loss = \"binary_crossentropy\"\n",
        "    optimizer = tfa.optimizers.AdamW(learning_rate=learning_rate, weight_decay = weight_decay)\n",
        "    metrics = keras.metrics.AUC(name='auc')\n",
        "    \n",
        "    # ANN model\n",
        "    model = keras.models.Sequential()\n",
        "    model.add(keras.layers.Flatten(input_shape=input_shape))\n",
        "    for _ in range(n_hidden_layers):\n",
        "        model.add(keras.layers.Dense(n_hidden_nodes, activation=activation, kernel_regularizer=l2(l2_kernel), bias_regularizer=l2(l2_bias)))\n",
        "    \n",
        "    model.add(keras.layers.Dense(1, activation=\"sigmoid\"))\n",
        "    \n",
        "    # optimizer\n",
        "    model.compile(loss=loss, optimizer=optimizer, metrics=metrics)\n",
        "\n",
        "    model.fit(X_train, y_train, \n",
        "                      validation_data=(X_val, y_val), \n",
        "                      epochs=1000, batch_size=32, verbose=0,\n",
        "                      class_weight= {0 : class_weight_0, 1 : class_weight_1},\n",
        "                      callbacks=[keras.callbacks.EarlyStopping(monitor='val_auc', patience=10)])\n",
        "    \n",
        "    return model\n",
        "\n",
        "def build_logReg_model(X_train, y_train):\n",
        "    clf = SGDClassifier(random_state=random_state,loss=\"log\", penalty=\"l2\").fit(X_train, y_train)\n",
        "    return clf\n",
        "\n",
        "def build_XGBoost_model(X_train, y_train, X_val, y_val, eta, max_depth, min_child_weight, gamma, subsample, colsample_bytree, reg_alpha, n_estimators, reg_lambda, scale_pos_weight):\n",
        "    param = {\n",
        "     'learning_rate': eta,\n",
        "     'n_estimators': int(n_estimators),\n",
        "     'max_depth': int(max_depth),\n",
        "     'min_child_weight': min_child_weight,\n",
        "     'gamma':gamma,\n",
        "     'subsample':subsample,\n",
        "     'colsample_bytree':colsample_bytree,\n",
        "     'reg_alpha' : reg_alpha,\n",
        "     'reg_lambda': reg_lambda,\n",
        "     'eval_metric':'auc',\n",
        "     'nthread':4,\n",
        "     'scale_pos_weight':scale_pos_weight,\n",
        "     'seed':27}\n",
        "    clf = xgb.XGBClassifier(**param)\n",
        "\n",
        "    clf.fit(X_train, y_train,\n",
        "            eval_set=[(X_val, y_val)],\n",
        "            early_stopping_rounds=20,\n",
        "            verbose=False)\n",
        "    \n",
        "    return clf\n",
        "def list_files_in_dir(dirname):\n",
        "    dir_files = list()\n",
        "    for root, _, files in os.walk(dirname):\n",
        "        for file in files:\n",
        "            dir_files.append(os.path.join(root, file))\n",
        "    \n",
        "    return dir_files\n",
        "\n",
        "def scale_rows(X):\n",
        "    return X.div(X.sum(axis=1), axis=0)\n",
        "\n",
        "def dataset_generator(data_dir, y_col):\n",
        "    \n",
        "    for datafile in list_files_in_dir(data_dir):\n",
        "        data = pd.read_csv(datafile)\n",
        "        X = data.iloc[:, :96]\n",
        "        y = (data[y_col]).astype(np.int_)\n",
        "        X.columns = X.columns.str.replace('[', '').str.replace(']', '').str.replace('>', '')\n",
        "        X = scale_rows(X)\n",
        "        yield X, y\n",
        "\n",
        "def train_val_test_generator_default(data_dir, y_col, test_frac=0.1):\n",
        "    \n",
        "    val_frac = test_frac/(1.0 - test_frac)\n",
        "    \n",
        "    for X, y in dataset_generator(data_dir, y_col):\n",
        "        fold_data = list()\n",
        "\n",
        "        \n",
        "        for train_val_index, test_index in train_test_indices:\n",
        "            X_test, y_test = X.iloc[test_index, :], y.iloc[test_index]\n",
        "            X_train, X_val, y_train, y_val = train_test_split(\n",
        "                X.iloc[train_val_index,:], y.iloc[train_val_index], \n",
        "                test_size=val_frac, \n",
        "                random_state=random_state, \n",
        "                stratify=y.iloc[train_val_index]\n",
        "            )\n",
        "#             print(train_val_index, test_index)\n",
        "            \n",
        "            #X_train, X_val, X_test = scale_columns(X_train, X_val, X_test)\n",
        "            fold_data.append(((X_train, y_train), \n",
        "                              (X_val, y_val), \n",
        "                              (X_test, y_test)))\n",
        "            \n",
        "        yield fold_data\n",
        "\n",
        "def select_model (model_name, X_train, y_train, X_val, y_val, kwargs):\n",
        "    model = None\n",
        "    if (model_name == 'KNN'):\n",
        "        model = build_kneigh_model(int(kwargs['n_neighbors']), X_train, y_train)\n",
        "    elif (model_name == 'NN'):\n",
        "        model = build_NN_model(X_train, y_train, X_val, y_val, input_shape=kwargs['input_shape'], \n",
        "                               n_hidden_layers=kwargs['n_hidden_layers'], n_hidden_nodes=kwargs['n_hidden_nodes'], \n",
        "                               activation=kwargs['activation'], learning_rate=kwargs['learning_rate'], \n",
        "                               weight_decay=kwargs['weight_decay'], l2_kernel=kwargs['l2_kernel'], l2_bias=kwargs['l2_bias'],\n",
        "                               class_weight_0 = kwargs['class_weight_0'], class_weight_1 = kwargs['class_weight_1'])\n",
        "    elif (model_name == 'LR'):\n",
        "        model = build_logReg_model(X_train, y_train)\n",
        "    elif (model_name == 'XGBoost'):\n",
        "        model = build_XGBoost_model(X_train, y_train, X_val, y_val, eta=kwargs['eta'], max_depth=kwargs['max_depth'], \n",
        "                                    min_child_weight=kwargs['min_child_weight'], gamma=kwargs['gamma'], subsample=kwargs['subsample']\n",
        "                                    ,colsample_bytree=kwargs['colsample_bytree'], reg_alpha=kwargs['reg_alpha'], \n",
        "                                    n_estimators=kwargs['n_estimators'], reg_lambda=kwargs['reg_lambda'], \n",
        "                                    scale_pos_weight=kwargs['scale_pos_weight'])\n",
        "        \n",
        "    return model\n",
        " \n",
        "\n",
        "def compute_mlp_performance(data_dir=data_dir, y_col='is_sig3', model_name='NN', **kwargs):\n",
        "    print(model_name, \" model selected\")\n",
        "    aucs = list()\n",
        "    models = list()\n",
        "    predictions = list()\n",
        "    \n",
        "    for folds_data in train_val_test_generator_default(data_dir, y_col=y_col):\n",
        "        fold_aucs = list()\n",
        "        fold_models = list()\n",
        "        \n",
        "        for fold_data in folds_data:\n",
        "            # get data\n",
        "            (X_train, y_train), (X_val, y_val), (X_test, y_test) = fold_data\n",
        "\n",
        "            model = select_model(model_name = model_name, X_train = X_train, y_train=y_train, \n",
        "                                 X_val = X_val, y_val = y_val, kwargs = kwargs)\n",
        "            \n",
        "            if model_name=='NN':\n",
        "                fold_aucs.append(roc_auc_score(y_test,  model.predict(X_test)))\n",
        "                predictions.append((y_test, model.predict(X_test)))\n",
        "            else:\n",
        "                preds = [x[1] for x in model.predict_proba(X_test)]\n",
        "                predictions.append((y_test, preds))\n",
        "            \n",
        "#                 preds = model.predict(X_test)\n",
        "                fold_aucs.append(roc_auc_score(y_test, preds))\n",
        "            fold_models.append(model)\n",
        "            \n",
        "        aucs.append(fold_aucs)\n",
        "        models.append(fold_models)\n",
        "        \n",
        "    aucs = np.array(aucs)\n",
        "    \n",
        "    median_of_median_auc = np.median(np.median(aucs, axis=1))\n",
        "    \n",
        "    # Gets median index value for all the different samples (rows)  \n",
        "    medianIndices = [indices[len(aucs[0])//2] for indices in np.argsort(aucs, axis=1)]\n",
        "    medianValues = [values[index] for values, index in zip(aucs, medianIndices)]\n",
        "    \n",
        "    # Gets the file which contains the median of median value\n",
        "    fileInd = np.argsort(medianValues)[len(medianValues)//2]\n",
        "    \n",
        "    median_of_median_model = models[fileInd][medianIndices[fileInd]]\n",
        "    mad_of_mad_auc = median_absolute_deviation(median_absolute_deviation(aucs, axis=1))\n",
        "    \n",
        "#     return predictions \n",
        "    return median_of_median_auc, median_absolute_deviation(aucs, axis=1), median_of_median_model\n",
        "#     return median_of_median_auc\n",
        "\n",
        "\n",
        "    \n",
        "    "
      ]
    },
    {
      "cell_type": "markdown",
      "id": "20697ed5",
      "metadata": {
        "id": "20697ed5"
      },
      "source": [
        "### XGBoost Results"
      ]
    },
    {
      "cell_type": "code",
      "execution_count": null,
      "id": "a54521bc",
      "metadata": {
        "scrolled": false,
        "id": "a54521bc",
        "outputId": "4a92667e-0619-4e92-b7df-7ca802fdc21e"
      },
      "outputs": [
        {
          "name": "stdout",
          "output_type": "stream",
          "text": [
            "XGBoost  model selected\n",
            "0.7679276906945175 [0.06934281]\n",
            "XGBoost  model selected\n",
            "0.6730769230769231 [0.04304306]\n",
            "XGBoost  model selected\n",
            "0.67309670781893 [0.05068203]\n",
            "XGBoost  model selected\n",
            "0.6459742875248488 [0.07239971]\n"
          ]
        }
      ],
      "source": [
        "# Threshold: 20% of Mutations \n",
        "XGB_auc_20, XGB_mad_20, XGB_model_20  = compute_mlp_performance(data_dir, model_name='XGBoost', n_folds=10, num_samples = 1, y_col = 'is_sig3_20', eta= 7.014002176195272e-07, \n",
        "                            max_depth=27, min_child_weight = 0.3744262575940115, gamma = 0.1807028624162206, subsample = 0.9367044934803391, \n",
        "                            colsample_bytree = 0.56763340675143, reg_alpha = 0.5287639745576873, n_estimators =  786, reg_lambda = 3.482869781553655, scale_pos_weight = 3.104245921259989)\n",
        "print(XGB_auc_20, XGB_mad_20)\n",
        "\n",
        "# Threshold: 10% of Mutations\n",
        "XGB_auc_10, XGB_mad_10, XGB_model_10 = compute_mlp_performance(data_dir, model_name='XGBoost', n_folds=10, num_samples = 1, y_col = 'is_sig3_10', eta= 0.04941201151079784, \n",
        "                            max_depth=6, min_child_weight = 0.16583275317721513, gamma = 1.710610569779565, subsample = 0.6502161365069198, \n",
        "                            colsample_bytree = 0.5786109127644017, reg_alpha = 0.5596484894892493, n_estimators =  1494, reg_lambda = 2.241219360407485, scale_pos_weight = 1.62607735656732)\n",
        "print(XGB_auc_10, XGB_mad_10)\n",
        "\n",
        "# Threshold: 5% of Mutations \n",
        "XGB_auc_05, XGB_mad_05, XGB_model_05 = compute_mlp_performance(data_dir, model_name='XGBoost', n_folds=10, num_samples = 1, y_col = 'is_sig3_05', eta= 0.08973652247827073, \n",
        "                            max_depth=39, min_child_weight = 0.012250079894579408, gamma = 0.36463850626755556, subsample = 0.9630983383695453, \n",
        "                            colsample_bytree = 0.6812717117053958, reg_alpha = 0.1266287931693426, n_estimators =  630, reg_lambda = 0.005114708100679544, scale_pos_weight = 0.9286839537467326)\n",
        "print(XGB_auc_05, XGB_mad_05)\n",
        "\n",
        "# Threshold: 1% of Mutations \n",
        "XGB_auc_01, XGB_mad_01, XGB_model_01  = compute_mlp_performance(data_dir, model_name='XGBoost', n_folds=10, num_samples = 1, y_col = 'is_sig3_01', eta= 0.09890625080822577, \n",
        "                            max_depth=11, min_child_weight = 0.9544087090431423, gamma = 2.86571998910088, subsample = 0.8877178932315292, \n",
        "                            colsample_bytree = 0.30562815526313286, reg_alpha = 0.5237522651981981, n_estimators =  1300, reg_lambda = 0.5758395868030254, scale_pos_weight = 2.183537271028318)\n",
        "print(XGB_auc_01, XGB_mad_01)\n"
      ]
    },
    {
      "cell_type": "code",
      "execution_count": null,
      "id": "84e06e1c",
      "metadata": {
        "id": "84e06e1c"
      },
      "outputs": [],
      "source": [
        "for data in dataset_generator(data_dir, y_col='is_sig3_20'):\n",
        "    X,y = data\n",
        "    X_train, X_val, y_train, y_val = train_test_split(\n",
        "    X, y, \n",
        "    test_size=0.1, \n",
        "    random_state=random_state, \n",
        "    stratify=y)\n",
        "    kwargs = {\n",
        "        'eta':7.014002176195272e-07, \n",
        "        'max_depth':27, \n",
        "        'min_child_weight' : 0.3744262575940115, \n",
        "        'gamma' : 0.1807028624162206, \n",
        "        'subsample' : 0.9367044934803391, \n",
        "        'colsample_bytree' : 0.56763340675143, \n",
        "        'reg_alpha' : 0.5287639745576873, \n",
        "        'n_estimators' :  786, \n",
        "        'reg_lambda' : 3.482869781553655, \n",
        "        'scale_pos_weight' : 3.104245921259989\n",
        "    }\n",
        "    model = select_model(model_name = 'XGBoost', X_train = X_train, y_train=y_train, \n",
        "                                 X_val = X_val, y_val = y_val, kwargs = kwargs)"
      ]
    },
    {
      "cell_type": "code",
      "execution_count": null,
      "id": "e8c54140",
      "metadata": {
        "id": "e8c54140"
      },
      "outputs": [],
      "source": [
        "model.save_model('XGBoost_20.json')"
      ]
    },
    {
      "cell_type": "markdown",
      "id": "88df5129",
      "metadata": {
        "id": "88df5129"
      },
      "source": [
        "### XGBoost Model ROC Curve with Violin Plot"
      ]
    },
    {
      "cell_type": "code",
      "execution_count": null,
      "id": "3ee30c43",
      "metadata": {
        "id": "3ee30c43",
        "outputId": "463c7aa2-ee7d-407f-ffb0-8ff174faeb18"
      },
      "outputs": [
        {
          "name": "stdout",
          "output_type": "stream",
          "text": [
            "XGBoost  model selected\n"
          ]
        }
      ],
      "source": [
        "import seaborn as sns\n",
        "from matplotlib import pyplot as plt\n",
        "\n",
        "predictions = compute_mlp_performance(data_dir, model_name='XGBoost', n_folds=10, num_samples = 1, y_col = 'is_sig3_20', eta= 7.014002176195272e-07, \n",
        "                            max_depth=27, min_child_weight = 0.3744262575940115, gamma = 0.1807028624162206, subsample = 0.9367044934803391, \n",
        "                            colsample_bytree = 0.56763340675143, reg_alpha = 0.5287639745576873, n_estimators =  786, reg_lambda = 3.482869781553655, scale_pos_weight = 3.104245921259989)\n",
        "\n",
        "y_test_total = list()\n",
        "y_pred_total = list()\n",
        "for fold in predictions:\n",
        "    y_test, y_pred = fold\n",
        "    y_test_total.extend(y_test)\n",
        "    y_pred_total.extend(y_pred)\n",
        "    "
      ]
    },
    {
      "cell_type": "code",
      "execution_count": null,
      "id": "b51d8691",
      "metadata": {
        "code_folding": [
          0
        ],
        "scrolled": true,
        "id": "b51d8691",
        "outputId": "e6e1ef49-cd03-4978-a283-c41a4f49596f"
      },
      "outputs": [
        {
          "data": {
            "image/png": "[encoded data removed]",
            "text/plain": [
              "<Figure size 432x288 with 1 Axes>"
            ]
          },
          "metadata": {
            "needs_background": "light"
          },
          "output_type": "display_data"
        }
      ],
      "source": [
        "# Compute ROC curve and ROC area\n",
        "fpr = dict()\n",
        "tpr = dict()\n",
        "roc_auc = dict()\n",
        "\n",
        "fpr, tpr, _ = roc_curve(y_test_total, y_pred_total)\n",
        "roc_auc = auc(fpr, tpr)\n",
        "plt.figure()\n",
        "lw = 2\n",
        "plt.plot(\n",
        "    fpr,\n",
        "    tpr,\n",
        "    color=\"darkorange\",\n",
        "    lw=lw,\n",
        "    label=\"ROC curve (area = %0.2f)\" % roc_auc,\n",
        ")\n",
        "plt.plot([0, 1], [0, 1], color=\"navy\", lw=lw, linestyle=\"--\")\n",
        "plt.xlim([0.0, 1.0])\n",
        "plt.ylim([0.0, 1.05])\n",
        "plt.xlabel(\"False Positive Rate\")\n",
        "plt.ylabel(\"True Positive Rate\")\n",
        "plt.title(\"Receiver operating characteristic example\")\n",
        "plt.legend(loc=\"lower right\")\n",
        "plt.show()\n",
        "\n"
      ]
    },
    {
      "cell_type": "code",
      "execution_count": null,
      "id": "753e34db",
      "metadata": {
        "code_folding": [
          0
        ],
        "id": "753e34db",
        "outputId": "1d1f624e-ab64-4d6a-e6ec-ac26faa8e3b7"
      },
      "outputs": [
        {
          "data": {
            "image/png": "[encoded data removed]",
            "text/plain": [
              "<Figure size 432x288 with 1 Axes>"
            ]
          },
          "metadata": {
            "needs_background": "light"
          },
          "output_type": "display_data"
        }
      ],
      "source": [
        "# Generate a Violin Plot\n",
        "violin_plot_data = pd.DataFrame()\n",
        "violin_plot_data['is_sig3'] = [\"Yes\" if x == 1 else \"No\" for x in y_test_total]\n",
        "violin_plot_data['preds'] = y_pred_total\n",
        "violin_plot_data['test_dataset'] = np.zeros(len(y))\n",
        "ax = sns.violinplot(x=\"test_dataset\", y=\"preds\", hue=\"is_sig3\",\n",
        "                    data=violin_plot_data, palette=\"muted\", split=True)"
      ]
    },
    {
      "cell_type": "markdown",
      "id": "1db75292",
      "metadata": {
        "id": "1db75292"
      },
      "source": [
        "### Neural Network Results"
      ]
    },
    {
      "cell_type": "markdown",
      "id": "d275de85",
      "metadata": {
        "id": "d275de85"
      },
      "source": [
        "Note that due to random initialization of weights and biases, results will vary."
      ]
    },
    {
      "cell_type": "code",
      "execution_count": null,
      "id": "983394bb",
      "metadata": {
        "scrolled": true,
        "id": "983394bb",
        "outputId": "22081956-1677-4ae1-af6d-21c76db72981"
      },
      "outputs": [
        {
          "name": "stdout",
          "output_type": "stream",
          "text": [
            "NN  model selected\n",
            "2/2 [==============================] - 0s 2ms/step\n",
            "2/2 [==============================] - 0s 2ms/step\n",
            "2/2 [==============================] - 0s 2ms/step\n",
            "2/2 [==============================] - 0s 2ms/step\n",
            "2/2 [==============================] - 0s 2ms/step\n",
            "2/2 [==============================] - 0s 2ms/step\n",
            "2/2 [==============================] - 0s 4ms/step\n",
            "2/2 [==============================] - 0s 2ms/step\n",
            "2/2 [==============================] - 0s 2ms/step\n",
            "2/2 [==============================] - 0s 2ms/step\n",
            "2/2 [==============================] - 0s 2ms/step\n",
            "2/2 [==============================] - 0s 2ms/step\n",
            "2/2 [==============================] - 0s 2ms/step\n",
            "2/2 [==============================] - 0s 2ms/step\n",
            "2/2 [==============================] - 0s 2ms/step\n",
            "2/2 [==============================] - 0s 2ms/step\n",
            "2/2 [==============================] - 0s 2ms/step\n",
            "2/2 [==============================] - 0s 2ms/step\n",
            "2/2 [==============================] - 0s 2ms/step\n",
            "2/2 [==============================] - 0s 1ms/step\n",
            "0.6784970238095238 [0.13029713]\n"
          ]
        }
      ],
      "source": [
        "# Threshold: 20% of Mutations\n",
        "NN_auc_20, NN_mad_20, NN_model_20 = compute_mlp_performance(data_dir, model_name = 'NN', n_folds=10, input_shape=(96,), \n",
        "                        n_hidden_layers=1, n_hidden_nodes=224, \n",
        "                        activation=\"relu\", learning_rate=0.014405369664987436, y_col='is_sig3_20', num_samples=1, \n",
        "                        weight_decay = 0.008844031348287134,l2_kernel =  0.0008442313215686649, l2_bias = 0.49960347582667186,\n",
        "                        class_weight_0 = 3.6971304115389914, class_weight_1 = 3.2478186786138186)\n",
        "\n",
        "print(NN_auc_20, NN_mad_20)\n",
        "\n",
        "# # Threshold: 10% of Mutations \n",
        "# NN_auc_10, NN_mad_10, NN_model_10 = compute_mlp_performance(data_dir, model_name = 'NN', n_folds=10, input_shape=(96,), \n",
        "#                         n_hidden_layers=1, n_hidden_nodes=46, \n",
        "#                         activation=\"relu\", learning_rate = 0.03888682338678942, y_col='is_sig3_10', num_samples=1, \n",
        "#                         weight_decay = 0.00320469659234629,l2_kernel = 0.01080815241478056, l2_bias = 0.04194271288714817,\n",
        "#                         class_weight_0 = 1, class_weight_1 = 1)\n",
        "# print(NN_auc_10, NN_mad_10)\n",
        "\n",
        "# Threshold: 5% of Mutations \n",
        "# NN_auc_05, NN_mad_05, NN_model_05 = compute_mlp_performance(data_dir, model_name = 'NN', n_folds=10, input_shape=(96,), \n",
        "#                         n_hidden_layers=1, n_hidden_nodes=187, \n",
        "#                         activation=\"relu\", learning_rate = 0.032196300179017756, y_col='is_sig3_05', num_samples=1, \n",
        "#                         weight_decay = 0.2901855215206835,l2_kernel = 0.19725045739870212, l2_bias = 0.1873649586337309,\n",
        "#                         class_weight_0 = 2.7603554805968944, class_weight_1 = 0.012506845449285708)\n",
        "# print(NN_auc_05, NN_mad_05)     \n",
        "    \n",
        "# Threshold: 1% of Mutations \n",
        "# NN_auc_01, NN_mad_01, NN_model_01 = compute_mlp_performance(data_dir, model_name = 'NN', n_folds=10, input_shape=(96,), \n",
        "#                         n_hidden_layers=1, n_hidden_nodes=29, \n",
        "#                         activation=\"sigmoid\", learning_rate = 0.03546236755021929, y_col='is_sig3_01', num_samples=1, \n",
        "#                         weight_decay = 0,l2_kernel = 0, l2_bias = 0,\n",
        "#                         class_weight_0 = 3.423500294070057, class_weight_1 = 0.24179751564250412)\n",
        "# print(NN_auc_01, NN_mad_01)\n",
        "                                               \n"
      ]
    },
    {
      "cell_type": "code",
      "execution_count": null,
      "id": "e4232e72",
      "metadata": {
        "scrolled": true,
        "id": "e4232e72"
      },
      "outputs": [],
      "source": [
        "for data in dataset_generator(data_dir, y_col='is_sig3_20'):\n",
        "    X,y = data\n",
        "    X_train, X_val, y_train, y_val = train_test_split(\n",
        "    X, y, \n",
        "    test_size=0.1, \n",
        "    random_state=random_state, \n",
        "    stratify=y)\n",
        "    kwargs = {\n",
        "        'input_shape':(96,1),\n",
        "        'n_hidden_layers':1,\n",
        "        'n_hidden_nodes':224,\n",
        "        'activation':\"relu\",\n",
        "        'learning_rate':0.014405369664987436,\n",
        "        'y_col':'is_sig3_20',\n",
        "        'num_samples':1,\n",
        "        'weight_decay': 0.008844031348287134,\n",
        "        'l2_kernel': 0.0008442313215686649,\n",
        "        'l2_bias' : 0.49960347582667186,\n",
        "        'class_weight_0' : 3.6971304115389914,\n",
        "        'class_weight_1' : 3.2478186786138186\n",
        "    }\n",
        "    model = select_model(model_name = 'NN', X_train = X_train, y_train=y_train, \n",
        "                                 X_val = X_val, y_val = y_val, kwargs = kwargs)"
      ]
    },
    {
      "cell_type": "code",
      "execution_count": null,
      "id": "e262ce72",
      "metadata": {
        "id": "e262ce72"
      },
      "outputs": [],
      "source": [
        "import tensorflowjs as tfjs\n",
        "tfjs.converters.save_keras_model(model, r\"D:\\NIH\\mutational-spectrum-master\\js\\Models\\NN\")\n"
      ]
    },
    {
      "cell_type": "code",
      "execution_count": null,
      "id": "8145644e",
      "metadata": {
        "id": "8145644e"
      },
      "outputs": [],
      "source": [
        "tfjs.converters.save_keras_model(NN_model_20, r\"D:\\NIH\\mutational-spectrum-master\\js\\Models\\NN\")\n"
      ]
    },
    {
      "cell_type": "code",
      "execution_count": null,
      "id": "3fa4b168",
      "metadata": {
        "collapsed": true,
        "id": "3fa4b168",
        "outputId": "2d1ba1fe-f12a-4021-8e52-7e4fb8707c18"
      },
      "outputs": [
        {
          "name": "stdout",
          "output_type": "stream",
          "text": [
            "NN  model selected\n",
            "2/2 [==============================] - 0s 2ms/step\n",
            "2/2 [==============================] - 0s 2ms/step\n",
            "2/2 [==============================] - 0s 2ms/step\n",
            "2/2 [==============================] - 0s 2ms/step\n",
            "2/2 [==============================] - 0s 2ms/step\n",
            "2/2 [==============================] - 0s 2ms/step\n",
            "2/2 [==============================] - 0s 2ms/step\n",
            "2/2 [==============================] - 0s 2ms/step\n",
            "2/2 [==============================] - 1s 2ms/step\n",
            "2/2 [==============================] - 0s 2ms/step\n",
            "2/2 [==============================] - 0s 2ms/step\n",
            "2/2 [==============================] - 0s 2ms/step\n",
            "2/2 [==============================] - 0s 2ms/step\n",
            "2/2 [==============================] - 0s 2ms/step\n",
            "2/2 [==============================] - 0s 2ms/step\n",
            "2/2 [==============================] - 0s 2ms/step\n",
            "2/2 [==============================] - 0s 2ms/step\n",
            "2/2 [==============================] - 0s 1ms/step\n",
            "2/2 [==============================] - 0s 2ms/step\n",
            "2/2 [==============================] - 0s 2ms/step\n"
          ]
        }
      ],
      "source": [
        "import seaborn as sns\n",
        "from matplotlib import pyplot as plt\n",
        "\n",
        "predictions = compute_mlp_performance(data_dir, model_name = 'NN', n_folds=10, input_shape=(96,), \n",
        "                        n_hidden_layers=1, n_hidden_nodes=224, \n",
        "                        activation=\"relu\", learning_rate=0.014405369664987436, y_col='is_sig3_20', num_samples=1, \n",
        "                        weight_decay = 0.008844031348287134,l2_kernel =  0.0008442313215686649, l2_bias = 0.49960347582667186,\n",
        "                        class_weight_0 = 3.6971304115389914, class_weight_1 = 3.2478186786138186)\n",
        "\n",
        "y_test_total = list()\n",
        "y_pred_total = list()\n",
        "for fold in predictions:\n",
        "    y_test, y_pred = fold\n",
        "    y_test_total.extend(y_test)\n",
        "    y_pred_total.extend(y_pred)\n",
        "    "
      ]
    },
    {
      "cell_type": "code",
      "execution_count": null,
      "id": "72fbe380",
      "metadata": {
        "code_folding": [
          0
        ],
        "scrolled": false,
        "id": "72fbe380",
        "outputId": "95778fa0-ab30-4ccf-8e73-5f47f983e6b0"
      },
      "outputs": [
        {
          "data": {
            "image/png": "[encoded data removed]",
            "text/plain": [
              "<Figure size 432x288 with 1 Axes>"
            ]
          },
          "metadata": {
            "needs_background": "light"
          },
          "output_type": "display_data"
        }
      ],
      "source": [
        "# Compute ROC curve and ROC area\n",
        "fpr = dict()\n",
        "tpr = dict()\n",
        "roc_auc = dict()\n",
        "\n",
        "fpr, tpr, _ = roc_curve(y_test_total, y_pred_total)\n",
        "roc_auc = auc(fpr, tpr)\n",
        "plt.figure()\n",
        "lw = 2\n",
        "plt.plot(\n",
        "    fpr,\n",
        "    tpr,\n",
        "    color=\"darkorange\",\n",
        "    lw=lw,\n",
        "    label=\"ROC curve (area = %0.2f)\" % roc_auc,\n",
        ")\n",
        "plt.plot([0, 1], [0, 1], color=\"navy\", lw=lw, linestyle=\"--\")\n",
        "plt.xlim([0.0, 1.0])\n",
        "plt.ylim([0.0, 1.05])\n",
        "plt.xlabel(\"False Positive Rate\")\n",
        "plt.ylabel(\"True Positive Rate\")\n",
        "plt.title(\"Receiver operating characteristic example\")\n",
        "plt.legend(loc=\"lower right\")\n",
        "plt.show()\n",
        "\n"
      ]
    },
    {
      "cell_type": "code",
      "execution_count": null,
      "id": "727cc087",
      "metadata": {
        "code_folding": [],
        "id": "727cc087",
        "outputId": "6b6263a3-004f-4d31-9415-eec619a7db8d"
      },
      "outputs": [
        {
          "data": {
            "image/png": "[encoded data removed]",
            "text/plain": [
              "<Figure size 432x288 with 1 Axes>"
            ]
          },
          "metadata": {
            "needs_background": "light"
          },
          "output_type": "display_data"
        }
      ],
      "source": [
        "# Generate a Violin Plot\n",
        "violin_plot_data = pd.DataFrame()\n",
        "violin_plot_data['is_sig3'] = [\"Yes\" if x == 1 else \"No\" for x in np.array(y_test_total).flatten()]\n",
        "violin_plot_data['preds'] = np.array(y_pred_total).flatten()\n",
        "violin_plot_data['test_dataset'] = np.zeros(len(y))\n",
        "ax = sns.violinplot(x=\"test_dataset\", y=\"preds\", hue=\"is_sig3\",\n",
        "                    data=violin_plot_data, palette=\"muted\", split=True)"
      ]
    },
    {
      "cell_type": "code",
      "execution_count": null,
      "id": "1b7a41d2",
      "metadata": {
        "id": "1b7a41d2",
        "outputId": "f8d01d06-9589-4048-9cf8-dc72b575d0d2"
      },
      "outputs": [
        {
          "data": {
            "text/plain": [
              "Reusing TensorBoard on port 6006 (pid 19500), started 0:08:28 ago. (Use '!kill 19500' to kill it.)"
            ]
          },
          "metadata": {},
          "output_type": "display_data"
        },
        {
          "data": {
            "text/html": [
              "\n",
              "      <iframe id=\"tensorboard-frame-739973a5bfb9074e\" width=\"100%\" height=\"800\" frameborder=\"0\">\n",
              "      </iframe>\n",
              "      <script>\n",
              "        (function() {\n",
              "          const frame = document.getElementById(\"tensorboard-frame-739973a5bfb9074e\");\n",
              "          const url = new URL(\"/\", window.location);\n",
              "          const port = 6006;\n",
              "          if (port) {\n",
              "            url.port = port;\n",
              "          }\n",
              "          frame.src = url;\n",
              "        })();\n",
              "      </script>\n",
              "    "
            ],
            "text/plain": [
              "<IPython.core.display.HTML object>"
            ]
          },
          "metadata": {},
          "output_type": "display_data"
        }
      ],
      "source": [
        "%tensorboard --logdir logs/fit"
      ]
    },
    {
      "cell_type": "code",
      "execution_count": null,
      "id": "f45b6ce2",
      "metadata": {
        "id": "f45b6ce2"
      },
      "outputs": [],
      "source": [
        "!rm -rf ./logs/"
      ]
    },
    {
      "cell_type": "markdown",
      "id": "26040692",
      "metadata": {
        "id": "26040692"
      },
      "source": [
        "### KNN Results"
      ]
    },
    {
      "cell_type": "code",
      "execution_count": null,
      "id": "f72ca75e",
      "metadata": {
        "id": "f72ca75e",
        "outputId": "b404ca1a-5c58-42da-fa04-6a248b60f376"
      },
      "outputs": [
        {
          "name": "stdout",
          "output_type": "stream",
          "text": [
            "KNN  model selected\n",
            "0.6299537907268171 [0.08427669]\n",
            "KNN  model selected\n",
            "0.6110182088442958 [0.05948331]\n",
            "KNN  model selected\n",
            "0.60798638764156 [0.09898631]\n",
            "KNN  model selected\n",
            "0.6085982000455684 [0.06849491]\n"
          ]
        }
      ],
      "source": [
        "# Threshold: 20% of Mutations \n",
        "\n",
        "KNN_auc_20, KNN_mad_20, KNN_model_20 = compute_mlp_performance(data_dir, model_name = 'KNN', n_folds=10, n_neighbors=2, y_col='is_sig3_20')\n",
        "print(KNN_auc_20, KNN_mad_20)\n",
        "\n",
        "# Threshold: 10% of Mutations \n",
        "\n",
        "KNN_auc_10, KNN_mad_10, KNN_model_10 = compute_mlp_performance(data_dir, model_name = 'KNN', n_folds=10, n_neighbors=1, y_col='is_sig3_10')\n",
        "print(KNN_auc_10, KNN_mad_10)\n",
        "\n",
        "# Threshold: 5% of Mutations \n",
        "\n",
        "KNN_auc_05, KNN_mad_05, KNN_model_05 = compute_mlp_performance(data_dir, model_name = 'KNN', n_folds=10, n_neighbors=1, y_col='is_sig3_05')\n",
        "print(KNN_auc_05, KNN_mad_05)\n",
        "\n",
        "# Threshold: 1% of Mutations \n",
        "\n",
        "KNN_auc_01, KNN_mad_01, KNN_model_01 = compute_mlp_performance(data_dir, model_name = 'KNN', n_folds=10, n_neighbors=1, y_col='is_sig3_01')\n",
        "print(KNN_auc_01, KNN_mad_01)\n",
        "\n"
      ]
    },
    {
      "cell_type": "markdown",
      "id": "ecd8a664",
      "metadata": {
        "id": "ecd8a664"
      },
      "source": [
        "### LR Results"
      ]
    },
    {
      "cell_type": "code",
      "execution_count": null,
      "id": "539c4884",
      "metadata": {
        "id": "539c4884",
        "outputId": "36ef9166-913a-4dab-d335-4a9f64e97048"
      },
      "outputs": [
        {
          "name": "stdout",
          "output_type": "stream",
          "text": [
            "LR  model selected\n",
            "0.6440942621009758 [0.10919428]\n",
            "LR  model selected\n",
            "0.6139772727272728 [0.07031947]\n",
            "LR  model selected\n",
            "0.5660458540783084 [0.0804644]\n",
            "LR  model selected\n",
            "0.5816467428967429 [0.06007907]\n"
          ]
        }
      ],
      "source": [
        "# Threshold: 20% of Mutations \n",
        "LR_auc_20, LR_mad_20, LR_model_20 = compute_mlp_performance(data_dir, model_name = 'LR', n_folds=10, y_col='is_sig3_20')\n",
        "print(LR_auc_20, LR_mad_20)\n",
        "\n",
        "# Threshold: 10% of Mutations \n",
        "LR_auc_10, LR_mad_10, LR_model_10 = compute_mlp_performance(data_dir, model_name = 'LR', n_folds=10, y_col='is_sig3_10')\n",
        "print(LR_auc_10, LR_mad_10)\n",
        "\n",
        "# Threshold: 5% of Mutations \n",
        "LR_auc_05, LR_mad_05, LR_model_05 = compute_mlp_performance(data_dir, model_name = 'LR', n_folds=10, y_col='is_sig3_05')\n",
        "print(LR_auc_05, LR_mad_05)\n",
        "\n",
        "# Threshold: 1% of Mutations \n",
        "LR_auc_01, LR_mad_01, LR_model_01 = compute_mlp_performance(data_dir, model_name = 'LR', n_folds=10, y_col='is_sig3_01')\n",
        "print(LR_auc_01, LR_mad_01)\n",
        "\n"
      ]
    }
  ],
  "metadata": {
    "kernelspec": {
      "display_name": "Python 3 (ipykernel)",
      "language": "python",
      "name": "python3"
    },
    "language_info": {
      "codemirror_mode": {
        "name": "ipython",
        "version": 3
      },
      "file_extension": ".py",
      "mimetype": "text/x-python",
      "name": "python",
      "nbconvert_exporter": "python",
      "pygments_lexer": "ipython3",
      "version": "3.10.4"
    },
    "varInspector": {
      "cols": {
        "lenName": 16,
        "lenType": 16,
        "lenVar": 40
      },
      "kernels_config": {
        "python": {
          "delete_cmd_postfix": "",
          "delete_cmd_prefix": "del ",
          "library": "var_list.py",
          "varRefreshCmd": "print(var_dic_list())"
        },
        "r": {
          "delete_cmd_postfix": ") ",
          "delete_cmd_prefix": "rm(",
          "library": "var_list.r",
          "varRefreshCmd": "cat(var_dic_list()) "
        }
      },
      "types_to_exclude": [
        "module",
        "function",
        "builtin_function_or_method",
        "instance",
        "_Feature"
      ],
      "window_display": false
    },
    "colab": {
      "name": "Main.ipynb",
      "provenance": []
    }
  },
  "nbformat": 4,
  "nbformat_minor": 5
}